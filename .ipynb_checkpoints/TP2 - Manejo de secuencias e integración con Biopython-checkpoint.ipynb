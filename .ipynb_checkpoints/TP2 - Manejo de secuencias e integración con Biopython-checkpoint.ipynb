{
 "cells": [
  {
   "cell_type": "code",
   "execution_count": 30,
   "metadata": {},
   "outputs": [],
   "source": [
    "import random"
   ]
  },
  {
   "cell_type": "markdown",
   "metadata": {},
   "source": [
    "# Ejercicio 1\n",
    "Genere secuencias al azar de 2 opciones (cara/seca) => analice la estadistica en función del tiempo."
   ]
  },
  {
   "cell_type": "code",
   "execution_count": 31,
   "metadata": {},
   "outputs": [],
   "source": [
    "def generar_secuencia(n, alfabeto):\n",
    "    lista = []\n",
    "    for i in range(n):\n",
    "        lista.append(random.choice(alfabeto))\n",
    "    return lista"
   ]
  },
  {
   "cell_type": "code",
   "execution_count": 32,
   "metadata": {},
   "outputs": [
    {
     "data": {
      "text/plain": [
       "['seca',\n",
       " 'cara',\n",
       " 'seca',\n",
       " 'cara',\n",
       " 'seca',\n",
       " 'seca',\n",
       " 'seca',\n",
       " 'cara',\n",
       " 'cara',\n",
       " 'cara']"
      ]
     },
     "execution_count": 32,
     "metadata": {},
     "output_type": "execute_result"
    }
   ],
   "source": [
    "generar_secuencia(10, [\"cara\", \"seca\"])"
   ]
  },
  {
   "cell_type": "code",
   "execution_count": 33,
   "metadata": {},
   "outputs": [],
   "source": [
    "def porcentajes(lista, alfabeto):\n",
    "    \"\"\" porcentajes printea por cada elemento de un alfabeto \n",
    "    el porcentaje que existe de este en una lista \"\"\"\n",
    "    for elem in alfabeto:\n",
    "        print(elem, lista.count(elem) / len(lista) * 100, \"%\")"
   ]
  },
  {
   "cell_type": "code",
   "execution_count": 34,
   "metadata": {
    "tags": []
   },
   "outputs": [
    {
     "name": "stdout",
     "output_type": "stream",
     "text": [
      "['seca', 'seca', 'cara', 'seca', 'cara', 'seca', 'cara', 'cara', 'cara', 'cara']\n",
      "cara 60.0 %\n",
      "seca 40.0 %\n"
     ]
    }
   ],
   "source": [
    "alfabeto = [\"cara\", \"seca\"]\n",
    "\n",
    "seq = generar_secuencia(10, alfabeto)\n",
    "print(seq)\n",
    "porcentajes(seq, alfabeto)"
   ]
  },
  {
   "cell_type": "code",
   "execution_count": 35,
   "metadata": {
    "tags": []
   },
   "outputs": [
    {
     "name": "stdout",
     "output_type": "stream",
     "text": [
      "1 ['seca']\n",
      "cara 0.0 %\n",
      "seca 100.0 %\n",
      "\n",
      "2 ['seca', 'seca']\n",
      "cara 0.0 %\n",
      "seca 100.0 %\n",
      "\n",
      "3 ['seca', 'seca', 'cara']\n",
      "cara 33.33333333333333 %\n",
      "seca 66.66666666666666 %\n",
      "\n",
      "4 ['seca', 'seca', 'cara', 'seca']\n",
      "cara 25.0 %\n",
      "seca 75.0 %\n",
      "\n",
      "5 ['seca', 'seca', 'cara', 'seca', 'cara']\n",
      "cara 40.0 %\n",
      "seca 60.0 %\n",
      "\n"
     ]
    }
   ],
   "source": [
    "for i in range(1,6):\n",
    "    print(i, seq[0:i])\n",
    "    porcentajes(seq[0:i], alfabeto)\n",
    "    print()"
   ]
  },
  {
   "cell_type": "markdown",
   "metadata": {},
   "source": [
    "---\n",
    "\n",
    "Ahora utilice la función creada en el punto anterior para:\n",
    "\n",
    "ia) generar una secuencia de “n” bases al azar\n",
    "\n",
    "ib) generar una secuencia de “n” aminoàcidos al azar"
   ]
  },
  {
   "cell_type": "code",
   "execution_count": 36,
   "metadata": {},
   "outputs": [
    {
     "data": {
      "text/plain": [
       "['C', 'C', 'G', 'C', 'G', 'G', 'C', 'A', 'T', 'C']"
      ]
     },
     "execution_count": 36,
     "metadata": {},
     "output_type": "execute_result"
    }
   ],
   "source": [
    "generar_secuencia(10, \"ATCG\")"
   ]
  },
  {
   "cell_type": "code",
   "execution_count": 37,
   "metadata": {},
   "outputs": [
    {
     "data": {
      "text/plain": [
       "['F', 'W', 'W', 'P', 'R', 'V', 'A', 'A', 'D', 'Y']"
      ]
     },
     "execution_count": 37,
     "metadata": {},
     "output_type": "execute_result"
    }
   ],
   "source": [
    "generar_secuencia(10, \"ARNDCQEGHILKMFPSTWYV\")"
   ]
  },
  {
   "cell_type": "markdown",
   "metadata": {},
   "source": [
    "## Ejercicio 1b\n",
    "Modifique ahora su programa tal que las secuencias de ADN/Proteìna generadas al azar respeten % predefinidos (en un archivo) para cada una de las bases/aminoàcidos. \n",
    "\n",
    "A modo de ejemplo: Una secuencia con 60% CG se podría definir con el siguiente archivo: A:0.2 T:0.3 C:0.3 G: 0.3 \n",
    "Para los 20 aminoàcidos serìa una tabla de los 20aa c/u con su frecuencia.\n",
    "Haga un “módulo” que verifique los porcentajes obtenidos\n"
   ]
  },
  {
   "cell_type": "code",
   "execution_count": 38,
   "metadata": {},
   "outputs": [],
   "source": [
    "def alfabeto_probs(path):\n",
    "    \"\"\" alfabeto_probs toma un path de un archivo de texto que contiene la \n",
    "    definicion de un alfabeto por cada linea como \"elemento:probabilidad\",\n",
    "    y devuelve una lista de elementos y una lista de probabilidades\n",
    "    \"\"\"\n",
    "    alfabeto = []\n",
    "    probs = []\n",
    "\n",
    "    with open(path, \"r\") as f:\n",
    "        for line in f.readlines():\n",
    "            l = line.split(\":\")\n",
    "            alfabeto.append(l[0])\n",
    "            probs.append(float(l[1]))\n",
    "\n",
    "    return alfabeto, probs"
   ]
  },
  {
   "cell_type": "code",
   "execution_count": 45,
   "metadata": {},
   "outputs": [
    {
     "name": "stdout",
     "output_type": "stream",
     "text": [
      "['A', 'T', 'C', 'G']\n",
      "[0.2, 0.1, 0.4, 0.3]\n"
     ]
    }
   ],
   "source": [
    "alfabeto_dna, probs_dna = alfabeto_probs(\"dna.prob\")\n",
    "print(alfabeto_dna)\n",
    "print(probs_dna)"
   ]
  },
  {
   "cell_type": "code",
   "execution_count": 40,
   "metadata": {},
   "outputs": [
    {
     "name": "stdout",
     "output_type": "stream",
     "text": [
      "['A', 'C', 'D', 'E', 'F', 'G', 'H', 'I', 'K', 'L', 'M', 'N', 'P', 'Q', 'R', 'S', 'T', 'V', 'W', 'Y']\n",
      "[9.22, 1.2, 5.48, 6.17, 3.91, 7.35, 2.19, 5.62, 4.9, 9.9, 2.36, 3.8, 4.89, 3.76, 5.8, 6.65, 5.55, 6.92, 1.3, 2.9]\n"
     ]
    }
   ],
   "source": [
    "alfabeto_aa, probs_aa = alfabeto_probs(\"aa.prob\") # https://www.ebi.ac.uk/uniprot/TrEMBLstats\n",
    "print(alfabeto_aa)\n",
    "print(probs_aa)"
   ]
  },
  {
   "cell_type": "code",
   "execution_count": 50,
   "metadata": {},
   "outputs": [
    {
     "data": {
      "text/plain": [
       "['C', 'L', 'F', 'A', 'A']"
      ]
     },
     "execution_count": 50,
     "metadata": {},
     "output_type": "execute_result"
    }
   ],
   "source": [
    "# https://docs.python.org/3/library/random.html#random.choices\n",
    "random.choices(alfabeto_aa, weights=probs_aa, k=5)"
   ]
  },
  {
   "cell_type": "markdown",
   "metadata": {},
   "source": [
    "### Verificar porcentajes"
   ]
  },
  {
   "cell_type": "code",
   "execution_count": 59,
   "metadata": {
    "scrolled": true
   },
   "outputs": [
    {
     "name": "stdout",
     "output_type": "stream",
     "text": [
      "A 9.2773 %\n",
      "C 1.2086 %\n",
      "D 5.4852 %\n",
      "E 6.1379 %\n",
      "F 3.9471 %\n",
      "G 7.3113 %\n",
      "H 2.1774 %\n",
      "I 5.5967 %\n",
      "K 4.9076 %\n",
      "L 9.910499999999999 %\n",
      "M 2.3845 %\n",
      "N 3.8289999999999997 %\n",
      "P 4.9232 %\n",
      "Q 3.7792 %\n",
      "R 5.7707 %\n",
      "S 6.6705 %\n",
      "T 5.554 %\n",
      "V 6.9524 %\n",
      "W 1.2749 %\n",
      "Y 2.902 %\n"
     ]
    }
   ],
   "source": [
    "# Secuencia de 100.000 aminoacidos tomados al azar con probabilidades por aminoacido de aa.prob\n",
    "porcentajes(random.choices(alfabeto_aa, weights=probs_aa, k=1000000), alfabeto_aa)"
   ]
  },
  {
   "cell_type": "code",
   "execution_count": 43,
   "metadata": {},
   "outputs": [],
   "source": [
    "# Los porcentajes son similares a los originales en aa.prob (o sea, random.choices funca)"
   ]
  },
  {
   "cell_type": "markdown",
   "metadata": {},
   "source": [
    "## Ejercicio 1c)\n",
    "Programe un módulo que traduzca la secuencia de ADN a proteìna.\n",
    "Compare los % de aminoàcidos obtenidos a partir de una secuencia de ADN al azar con una de aminoácidos al azar, que refleja esta diferencia?\n"
   ]
  },
  {
   "cell_type": "code",
   "execution_count": 60,
   "metadata": {},
   "outputs": [
    {
     "data": {
      "text/plain": [
       "'Y'"
      ]
     },
     "execution_count": 60,
     "metadata": {},
     "output_type": "execute_result"
    }
   ],
   "source": [
    "codigo_genetico = {\n",
    "    \"UUU\": \"F\",\n",
    "    \"UAU\": \"Y\"\n",
    "}\n",
    "\n",
    "codigo_genetico[\"UAU\"]"
   ]
  },
  {
   "cell_type": "markdown",
   "metadata": {},
   "source": [
    "# Ejercicio 3.3"
   ]
  },
  {
   "cell_type": "markdown",
   "metadata": {},
   "source": [
    "a) Realice un programa que dada la secuencia de un gen, permita obtener todas las mutaciones debidas al cambio de una base."
   ]
  },
  {
   "cell_type": "code",
   "execution_count": 112,
   "metadata": {},
   "outputs": [
    {
     "name": "stdout",
     "output_type": "stream",
     "text": [
      "['TAA', 'CAA', 'GAA', 'ATA', 'ACA', 'AGA', 'AAT', 'AAC', 'AAG']\n"
     ]
    }
   ],
   "source": [
    "def generar_mutantes(seq):\n",
    "    for i in range(len(seq)):\n",
    "        for base in \"ATCG\":\n",
    "            if base != seq[i]:\n",
    "                yield seq[0:i] + base + seq[i+1:]\n",
    "\n",
    "print(list(generar_mutantes(\"AAA\")))"
   ]
  },
  {
   "cell_type": "markdown",
   "metadata": {},
   "source": [
    "a’) Realice uno que haga lo mismo para el cambio de 2, y hasta 3 bases."
   ]
  },
  {
   "cell_type": "code",
   "execution_count": 104,
   "metadata": {},
   "outputs": [],
   "source": [
    "def generar_mutantes_2(seq):\n",
    "    for s in generar_mutantes(seq):\n",
    "        yield from generar_mutantes(s)\n",
    "\n",
    "def generar_mutantes_3(seq):\n",
    "    for s1 in generar_mutantes(seq):\n",
    "        for s2 in generar_mutantes(s1):\n",
    "            yield from generar_mutantes(s2)"
   ]
  },
  {
   "cell_type": "code",
   "execution_count": 105,
   "metadata": {},
   "outputs": [
    {
     "name": "stdout",
     "output_type": "stream",
     "text": [
      "{'GAC', 'ACG', 'GGA', 'TTA', 'GAG', 'ACC', 'TAA', 'TAC', 'TAT', 'ACA', 'AGT', 'GAA', 'AAG', 'AGC', 'ATT', 'ACT', 'ATA', 'AAC', 'ATG', 'AAT', 'TAG', 'CGA', 'CAT', 'AAA', 'TGA', 'CCA', 'ATC', 'TCA', 'CAC', 'GAT', 'CAA', 'GCA', 'CAG', 'CTA', 'AGA', 'GTA', 'AGG'}\n"
     ]
    }
   ],
   "source": [
    "print(set(generar_mutantes_2(\"AAA\")))"
   ]
  },
  {
   "cell_type": "code",
   "execution_count": 106,
   "metadata": {
    "scrolled": true
   },
   "outputs": [
    {
     "name": "stdout",
     "output_type": "stream",
     "text": [
      "{'GAC', 'ACG', 'GGA', 'GTT', 'GAG', 'TTA', 'TCG', 'TCT', 'GCC', 'ACC', 'TAA', 'CGT', 'TAC', 'TAT', 'ACA', 'AGT', 'GAA', 'AAG', 'TTG', 'CTT', 'AGC', 'GGG', 'TGT', 'ATT', 'ACT', 'AAC', 'ATA', 'GGT', 'ATG', 'AAT', 'CGA', 'TAG', 'CAT', 'AAA', 'TGA', 'CCC', 'TGC', 'TTC', 'TTT', 'CCA', 'CTC', 'GTC', 'CGC', 'CCG', 'GCG', 'ATC', 'GGC', 'CCT', 'GTG', 'TCA', 'TCC', 'CAC', 'GAT', 'CAA', 'CGG', 'GCA', 'CAG', 'AGA', 'CTA', 'CTG', 'GTA', 'AGG', 'TGG', 'GCT'}\n"
     ]
    }
   ],
   "source": [
    "print(set(generar_mutantes_3(\"AAA\")))"
   ]
  },
  {
   "cell_type": "markdown",
   "metadata": {},
   "source": [
    "Elija una proteína de interés (que este en PFAM), corra su programa y compare las distribuciones de mutaciones obtenidas con las probabilidades de emisión en el logo de PFAM para: i) 2-3 posiciones conservadas ii) 2-3 posiciones NO conservadas."
   ]
  },
  {
   "cell_type": "code",
   "execution_count": 107,
   "metadata": {
    "scrolled": false
   },
   "outputs": [
    {
     "name": "stdout",
     "output_type": "stream",
     "text": [
      ">NM_000169.3 Homo sapiens galactosidase alpha (GLA), transcript variant 1, mRNA\n",
      "ATGCTGTCCGGTCACCGTGACAATGCAGCTGAGGAACCCAGAACTACATCTGGGCTGCGCGCTTGCGCTT\n",
      "CGCTTCCTGGCCCTCGTTTCCTGGGACATCCCTGGGGCTAGAGCACTGGACAATGGATTGGCAAGGACGC\n",
      "CTACCATGGGCTGGCTGCACTGGGAGCGCTTCATGTGCAACCTTGACTGCCAGGAAGAGCCAGATTCCTG\n",
      "CATCAGTGAGAAGCTCTTCATGGAGATGGCAGAGCTCATGGTCTCAGAAGGCTGGAAGGATGCAGGTTAT\n",
      "GAGTACCTCTGCATTGATGACTGTTGGATGGCTCCCCAAAGAGATTCAGAAGGCAGACTTCAGGCAGACC\n",
      "CTCAGCGCTTTCCTCATGGGATTCGCCAGCTAGCTAATTATGTTCACAGCAAAGGACTGAAGCTAGGGAT\n",
      "TTATGCAGATGTTGGAAATAAAACCTGCGCAGGCTTCCCTGGGAGTTTTGGATACTACGACATTGATGCC\n",
      "CAGACCTTTGCTGACTGGGGAGTAGATCTGCTAAAATTTGATGGTTGTTACTGTGACAGTTTGGAAAATT\n",
      "TGGCAGATGGTTATAAGCACATGTCCTTGGCCCTGAATAGGACTGGCAGAAGCATTGTGTACTCCTGTGA\n",
      "GTGGCCTCTTTATATGTGGCCCTTTCAAAAGCCCAATTATACAGAAATCCGACAGTACTGCAATCACTGG\n",
      "CGAAATTTTGCTGACATTGATGATTCCTGGAAAAGTATAAAGAGTATCTTGGACTGGACATCTTTTAACC\n",
      "AGGAGAGAATTGTTGATGTTGCTGGACCAGGGGGTTGGAATGACCCAGATATGTTAGTGATTGGCAACTT\n",
      "TGGCCTCAGCTGGAATCAGCAAGTAACTCAGATGGCCCTCTGGGCTATCATGGCTGCTCCTTTATTCATG\n",
      "TCTAATGACCTCCGACACATCAGCCCTCAAGCCAAAGCTCTCCTTCAGGATAAGGACGTAATTGCCATCA\n",
      "ATCAGGACCCCTTGGGCAAGCAAGGGTACCAGCTTAGACAGGGAGACAACTTTGAAGTGTGGGAACGACC\n",
      "TCTCTCAGGCTTAGCCTGGGCTGTAGCTATGATAAACCGGCAGGAGATTGGTGGACCTCGCTCTTATACC\n",
      "ATCGCAGTTGCTTCCCTGGGTAAAGGAGTGGCCTGTAATCCTGCCTGCTTCATCACACAGCTCCTCCCTG\n",
      "TGAAAAGGAAGCTAGGGTTCTATGAATGGACTTCAAGGTTAAGAAGTCACATAAATCCCACAGGCACTGT\n",
      "TTTGCTTCAGCTAGAAAATACAATGCAGATGTCATTAAAAGACTTACTTTAAAATGTT\n",
      "\n",
      "\n"
     ]
    }
   ],
   "source": [
    "import requests\n",
    "agal_fasta = requests.get(\"https://www.ncbi.nlm.nih.gov/sviewer/viewer.cgi?tool=portal&save=file&log$=seqview&db=nuccore&report=fasta&id=1774638997&extrafeat=null&conwithfeat=on&hide-cdd=on\").text\n",
    "print(agal_fasta)"
   ]
  },
  {
   "cell_type": "markdown",
   "metadata": {},
   "source": [
    "b) A partir del código genético calcule la matriz de probabilidad de sustituciones de 1 base."
   ]
  },
  {
   "cell_type": "code",
   "execution_count": 123,
   "metadata": {},
   "outputs": [
    {
     "name": "stdout",
     "output_type": "stream",
     "text": [
      "{'V': ['I', 'I', 'F', 'I', 'F', 'L', 'I', 'F', 'L', 'D', 'I', 'F', 'L', 'D', 'A', 'I', 'F', 'L', 'D', 'A', 'G', 'I', 'F', 'L', 'D', 'A', 'G', 'V', 'I', 'F', 'L', 'D', 'A', 'G', 'V', 'V', 'I', 'F', 'L', 'D', 'A', 'G', 'V', 'V', 'V', 'I', 'I', 'F', 'I', 'F', 'L', 'I', 'F', 'L', 'D', 'I', 'F', 'L', 'D', 'A', 'I', 'F', 'L', 'D', 'A', 'G', 'I', 'F', 'L', 'D', 'A', 'G', 'V', 'I', 'F', 'L', 'D', 'A', 'G', 'V', 'V', 'I', 'F', 'L', 'D', 'A', 'G', 'V', 'V', 'V', 'I', 'I', 'L', 'I', 'L', 'L', 'I', 'L', 'L', 'E', 'I', 'L', 'L', 'E', 'A', 'I', 'L', 'L', 'E', 'A', 'G', 'I', 'L', 'L', 'E', 'A', 'G', 'V', 'I', 'L', 'L', 'E', 'A', 'G', 'V', 'V', 'I', 'L', 'L', 'E', 'A', 'G', 'V', 'V', 'V', 'M', 'M', 'L', 'M', 'L', 'L', 'M', 'L', 'L', 'E', 'M', 'L', 'L', 'E', 'A', 'M', 'L', 'L', 'E', 'A', 'G', 'M', 'L', 'L', 'E', 'A', 'G', 'V', 'M', 'L', 'L', 'E', 'A', 'G', 'V', 'V', 'M', 'L', 'L', 'E', 'A', 'G', 'V', 'V', 'V'], 'N': ['Y', 'Y', 'H', 'Y', 'H', 'D', 'Y', 'H', 'D', 'I', 'Y', 'H', 'D', 'I', 'T', 'Y', 'H', 'D', 'I', 'T', 'S', 'Y', 'H', 'D', 'I', 'T', 'S', 'K', 'Y', 'H', 'D', 'I', 'T', 'S', 'K', 'N', 'Y', 'H', 'D', 'I', 'T', 'S', 'K', 'N', 'K', 'Y', 'Y', 'H', 'Y', 'H', 'D', 'Y', 'H', 'D', 'I', 'Y', 'H', 'D', 'I', 'T', 'Y', 'H', 'D', 'I', 'T', 'S', 'Y', 'H', 'D', 'I', 'T', 'S', 'K', 'Y', 'H', 'D', 'I', 'T', 'S', 'K', 'N', 'Y', 'H', 'D', 'I', 'T', 'S', 'K', 'N', 'K'], 'R': ['S', 'S', 'C', 'S', 'C', 'G', 'S', 'C', 'G', 'H', 'S', 'C', 'G', 'H', 'L', 'S', 'C', 'G', 'H', 'L', 'P', 'S', 'C', 'G', 'H', 'L', 'P', 'R', 'S', 'C', 'G', 'H', 'L', 'P', 'R', 'R', 'S', 'C', 'G', 'H', 'L', 'P', 'R', 'R', 'R', 'S', 'S', 'C', 'S', 'C', 'G', 'S', 'C', 'G', 'H', 'S', 'C', 'G', 'H', 'L', 'S', 'C', 'G', 'H', 'L', 'P', 'S', 'C', 'G', 'H', 'L', 'P', 'R', 'S', 'C', 'G', 'H', 'L', 'P', 'R', 'R', 'S', 'C', 'G', 'H', 'L', 'P', 'R', 'R', 'R', 'R', 'R', 'R', 'G', 'R', 'G', 'Q', 'R', 'G', 'Q', 'L', 'R', 'G', 'Q', 'L', 'P', 'R', 'G', 'Q', 'L', 'P', 'R', 'R', 'G', 'Q', 'L', 'P', 'R', 'R', 'R', 'G', 'Q', 'L', 'P', 'R', 'R', 'R', 'R', 'R', 'G', 'R', 'G', 'K', 'R', 'G', 'K', 'I', 'R', 'G', 'K', 'I', 'T', 'R', 'G', 'K', 'I', 'T', 'S', 'R', 'G', 'K', 'I', 'T', 'S', 'S', 'R', 'G', 'K', 'I', 'T', 'S', 'S', 'R', 'R', 'R', 'W', 'R', 'W', 'G', 'R', 'W', 'G', 'Q', 'R', 'W', 'G', 'Q', 'L', 'R', 'W', 'G', 'Q', 'L', 'P', 'R', 'W', 'G', 'Q', 'L', 'P', 'R', 'R', 'W', 'G', 'Q', 'L', 'P', 'R', 'R', 'R', 'W', 'G', 'Q', 'L', 'P', 'R', 'R', 'R', 'W', 'W', 'R', 'W', 'R', 'G', 'W', 'R', 'G', 'K', 'W', 'R', 'G', 'K', 'M', 'W', 'R', 'G', 'K', 'M', 'T', 'W', 'R', 'G', 'K', 'M', 'T', 'R', 'W', 'R', 'G', 'K', 'M', 'T', 'R', 'S', 'W', 'R', 'G', 'K', 'M', 'T', 'R', 'S', 'S'], 'Y': ['N', 'N', 'H', 'N', 'H', 'D', 'N', 'H', 'D', 'F', 'N', 'H', 'D', 'F', 'S', 'N', 'H', 'D', 'F', 'S', 'C', 'N', 'H', 'D', 'F', 'S', 'C', 'N', 'H', 'D', 'F', 'S', 'C', 'Y', 'N', 'H', 'D', 'F', 'S', 'C', 'Y', 'N', 'N', 'H', 'N', 'H', 'D', 'N', 'H', 'D', 'F', 'N', 'H', 'D', 'F', 'S', 'N', 'H', 'D', 'F', 'S', 'C', 'N', 'H', 'D', 'F', 'S', 'C', 'N', 'H', 'D', 'F', 'S', 'C', 'Y', 'N', 'H', 'D', 'F', 'S', 'C', 'Y'], 'T': ['S', 'S', 'P', 'S', 'P', 'A', 'S', 'P', 'A', 'N', 'S', 'P', 'A', 'N', 'I', 'S', 'P', 'A', 'N', 'I', 'S', 'S', 'P', 'A', 'N', 'I', 'S', 'T', 'S', 'P', 'A', 'N', 'I', 'S', 'T', 'T', 'S', 'P', 'A', 'N', 'I', 'S', 'T', 'T', 'T', 'S', 'S', 'P', 'S', 'P', 'A', 'S', 'P', 'A', 'N', 'S', 'P', 'A', 'N', 'I', 'S', 'P', 'A', 'N', 'I', 'S', 'S', 'P', 'A', 'N', 'I', 'S', 'T', 'S', 'P', 'A', 'N', 'I', 'S', 'T', 'T', 'S', 'P', 'A', 'N', 'I', 'S', 'T', 'T', 'T', 'S', 'S', 'P', 'S', 'P', 'A', 'S', 'P', 'A', 'K', 'S', 'P', 'A', 'K', 'I', 'S', 'P', 'A', 'K', 'I', 'R', 'S', 'P', 'A', 'K', 'I', 'R', 'T', 'S', 'P', 'A', 'K', 'I', 'R', 'T', 'T', 'S', 'P', 'A', 'K', 'I', 'R', 'T', 'T', 'T', 'S', 'S', 'P', 'S', 'P', 'A', 'S', 'P', 'A', 'K', 'S', 'P', 'A', 'K', 'M', 'S', 'P', 'A', 'K', 'M', 'R', 'S', 'P', 'A', 'K', 'M', 'R', 'T', 'S', 'P', 'A', 'K', 'M', 'R', 'T', 'T', 'S', 'P', 'A', 'K', 'M', 'R', 'T', 'T', 'T'], 'A': ['T', 'T', 'S', 'T', 'S', 'P', 'T', 'S', 'P', 'D', 'T', 'S', 'P', 'D', 'V', 'T', 'S', 'P', 'D', 'V', 'G', 'T', 'S', 'P', 'D', 'V', 'G', 'A', 'T', 'S', 'P', 'D', 'V', 'G', 'A', 'A', 'T', 'S', 'P', 'D', 'V', 'G', 'A', 'A', 'A', 'T', 'T', 'S', 'T', 'S', 'P', 'T', 'S', 'P', 'D', 'T', 'S', 'P', 'D', 'V', 'T', 'S', 'P', 'D', 'V', 'G', 'T', 'S', 'P', 'D', 'V', 'G', 'A', 'T', 'S', 'P', 'D', 'V', 'G', 'A', 'A', 'T', 'S', 'P', 'D', 'V', 'G', 'A', 'A', 'A', 'T', 'T', 'S', 'T', 'S', 'P', 'T', 'S', 'P', 'E', 'T', 'S', 'P', 'E', 'V', 'T', 'S', 'P', 'E', 'V', 'G', 'T', 'S', 'P', 'E', 'V', 'G', 'A', 'T', 'S', 'P', 'E', 'V', 'G', 'A', 'A', 'T', 'S', 'P', 'E', 'V', 'G', 'A', 'A', 'A', 'T', 'T', 'S', 'T', 'S', 'P', 'T', 'S', 'P', 'E', 'T', 'S', 'P', 'E', 'V', 'T', 'S', 'P', 'E', 'V', 'G', 'T', 'S', 'P', 'E', 'V', 'G', 'A', 'T', 'S', 'P', 'E', 'V', 'G', 'A', 'A', 'T', 'S', 'P', 'E', 'V', 'G', 'A', 'A', 'A'], 'M': ['L', 'L', 'L', 'L', 'L', 'V', 'L', 'L', 'V', 'K', 'L', 'L', 'V', 'K', 'T', 'L', 'L', 'V', 'K', 'T', 'R', 'L', 'L', 'V', 'K', 'T', 'R', 'I', 'L', 'L', 'V', 'K', 'T', 'R', 'I', 'I', 'L', 'L', 'V', 'K', 'T', 'R', 'I', 'I', 'I'], 'I': ['F', 'F', 'L', 'F', 'L', 'V', 'F', 'L', 'V', 'N', 'F', 'L', 'V', 'N', 'T', 'F', 'L', 'V', 'N', 'T', 'S', 'F', 'L', 'V', 'N', 'T', 'S', 'I', 'F', 'L', 'V', 'N', 'T', 'S', 'I', 'I', 'F', 'L', 'V', 'N', 'T', 'S', 'I', 'I', 'M', 'F', 'F', 'L', 'F', 'L', 'V', 'F', 'L', 'V', 'N', 'F', 'L', 'V', 'N', 'T', 'F', 'L', 'V', 'N', 'T', 'S', 'F', 'L', 'V', 'N', 'T', 'S', 'I', 'F', 'L', 'V', 'N', 'T', 'S', 'I', 'I', 'F', 'L', 'V', 'N', 'T', 'S', 'I', 'I', 'M', 'L', 'L', 'L', 'L', 'L', 'V', 'L', 'L', 'V', 'K', 'L', 'L', 'V', 'K', 'T', 'L', 'L', 'V', 'K', 'T', 'R', 'L', 'L', 'V', 'K', 'T', 'R', 'I', 'L', 'L', 'V', 'K', 'T', 'R', 'I', 'I', 'L', 'L', 'V', 'K', 'T', 'R', 'I', 'I', 'M'], 'S': ['T', 'T', 'P', 'T', 'P', 'A', 'T', 'P', 'A', 'Y', 'T', 'P', 'A', 'Y', 'F', 'T', 'P', 'A', 'Y', 'F', 'C', 'T', 'P', 'A', 'Y', 'F', 'C', 'S', 'T', 'P', 'A', 'Y', 'F', 'C', 'S', 'S', 'T', 'P', 'A', 'Y', 'F', 'C', 'S', 'S', 'S', 'T', 'T', 'P', 'T', 'P', 'A', 'T', 'P', 'A', 'Y', 'T', 'P', 'A', 'Y', 'F', 'T', 'P', 'A', 'Y', 'F', 'C', 'T', 'P', 'A', 'Y', 'F', 'C', 'S', 'T', 'P', 'A', 'Y', 'F', 'C', 'S', 'S', 'T', 'P', 'A', 'Y', 'F', 'C', 'S', 'S', 'S', 'T', 'T', 'P', 'T', 'P', 'A', 'T', 'P', 'A', 'T', 'P', 'A', 'L', 'T', 'P', 'A', 'L', 'T', 'P', 'A', 'L', 'S', 'T', 'P', 'A', 'L', 'S', 'S', 'T', 'P', 'A', 'L', 'S', 'S', 'S', 'T', 'T', 'P', 'T', 'P', 'A', 'T', 'P', 'A', 'T', 'P', 'A', 'L', 'T', 'P', 'A', 'L', 'W', 'T', 'P', 'A', 'L', 'W', 'S', 'T', 'P', 'A', 'L', 'W', 'S', 'S', 'T', 'P', 'A', 'L', 'W', 'S', 'S', 'S', 'C', 'C', 'R', 'C', 'R', 'G', 'C', 'R', 'G', 'N', 'C', 'R', 'G', 'N', 'I', 'C', 'R', 'G', 'N', 'I', 'T', 'C', 'R', 'G', 'N', 'I', 'T', 'R', 'C', 'R', 'G', 'N', 'I', 'T', 'R', 'S', 'C', 'R', 'G', 'N', 'I', 'T', 'R', 'S', 'R', 'C', 'C', 'R', 'C', 'R', 'G', 'C', 'R', 'G', 'N', 'C', 'R', 'G', 'N', 'I', 'C', 'R', 'G', 'N', 'I', 'T', 'C', 'R', 'G', 'N', 'I', 'T', 'R', 'C', 'R', 'G', 'N', 'I', 'T', 'R', 'S', 'C', 'R', 'G', 'N', 'I', 'T', 'R', 'S', 'R'], 'Q': ['K', 'K', 'K', 'E', 'K', 'E', 'L', 'K', 'E', 'L', 'P', 'K', 'E', 'L', 'P', 'R', 'K', 'E', 'L', 'P', 'R', 'H', 'K', 'E', 'L', 'P', 'R', 'H', 'H', 'K', 'E', 'L', 'P', 'R', 'H', 'H', 'Q', 'K', 'K', 'K', 'E', 'K', 'E', 'L', 'K', 'E', 'L', 'P', 'K', 'E', 'L', 'P', 'R', 'K', 'E', 'L', 'P', 'R', 'Q', 'K', 'E', 'L', 'P', 'R', 'Q', 'H', 'K', 'E', 'L', 'P', 'R', 'Q', 'H', 'H'], 'D': ['N', 'N', 'Y', 'N', 'Y', 'H', 'N', 'Y', 'H', 'V', 'N', 'Y', 'H', 'V', 'A', 'N', 'Y', 'H', 'V', 'A', 'G', 'N', 'Y', 'H', 'V', 'A', 'G', 'E', 'N', 'Y', 'H', 'V', 'A', 'G', 'E', 'D', 'N', 'Y', 'H', 'V', 'A', 'G', 'E', 'D', 'E', 'N', 'N', 'Y', 'N', 'Y', 'H', 'N', 'Y', 'H', 'V', 'N', 'Y', 'H', 'V', 'A', 'N', 'Y', 'H', 'V', 'A', 'G', 'N', 'Y', 'H', 'V', 'A', 'G', 'E', 'N', 'Y', 'H', 'V', 'A', 'G', 'E', 'D', 'N', 'Y', 'H', 'V', 'A', 'G', 'E', 'D', 'E'], 'C': ['S', 'S', 'R', 'S', 'R', 'G', 'S', 'R', 'G', 'Y', 'S', 'R', 'G', 'Y', 'F', 'S', 'R', 'G', 'Y', 'F', 'S', 'S', 'R', 'G', 'Y', 'F', 'S', 'S', 'R', 'G', 'Y', 'F', 'S', 'C', 'S', 'R', 'G', 'Y', 'F', 'S', 'C', 'W', 'S', 'S', 'R', 'S', 'R', 'G', 'S', 'R', 'G', 'Y', 'S', 'R', 'G', 'Y', 'F', 'S', 'R', 'G', 'Y', 'F', 'S', 'S', 'R', 'G', 'Y', 'F', 'S', 'S', 'R', 'G', 'Y', 'F', 'S', 'C', 'S', 'R', 'G', 'Y', 'F', 'S', 'C', 'W'], 'F': ['I', 'I', 'L', 'I', 'L', 'V', 'I', 'L', 'V', 'Y', 'I', 'L', 'V', 'Y', 'S', 'I', 'L', 'V', 'Y', 'S', 'C', 'I', 'L', 'V', 'Y', 'S', 'C', 'L', 'I', 'L', 'V', 'Y', 'S', 'C', 'L', 'F', 'I', 'L', 'V', 'Y', 'S', 'C', 'L', 'F', 'L', 'I', 'I', 'L', 'I', 'L', 'V', 'I', 'L', 'V', 'Y', 'I', 'L', 'V', 'Y', 'S', 'I', 'L', 'V', 'Y', 'S', 'C', 'I', 'L', 'V', 'Y', 'S', 'C', 'L', 'I', 'L', 'V', 'Y', 'S', 'C', 'L', 'F', 'I', 'L', 'V', 'Y', 'S', 'C', 'L', 'F', 'L'], 'P': ['T', 'T', 'S', 'T', 'S', 'A', 'T', 'S', 'A', 'H', 'T', 'S', 'A', 'H', 'L', 'T', 'S', 'A', 'H', 'L', 'R', 'T', 'S', 'A', 'H', 'L', 'R', 'P', 'T', 'S', 'A', 'H', 'L', 'R', 'P', 'P', 'T', 'S', 'A', 'H', 'L', 'R', 'P', 'P', 'P', 'T', 'T', 'S', 'T', 'S', 'A', 'T', 'S', 'A', 'H', 'T', 'S', 'A', 'H', 'L', 'T', 'S', 'A', 'H', 'L', 'R', 'T', 'S', 'A', 'H', 'L', 'R', 'P', 'T', 'S', 'A', 'H', 'L', 'R', 'P', 'P', 'T', 'S', 'A', 'H', 'L', 'R', 'P', 'P', 'P', 'T', 'T', 'S', 'T', 'S', 'A', 'T', 'S', 'A', 'Q', 'T', 'S', 'A', 'Q', 'L', 'T', 'S', 'A', 'Q', 'L', 'R', 'T', 'S', 'A', 'Q', 'L', 'R', 'P', 'T', 'S', 'A', 'Q', 'L', 'R', 'P', 'P', 'T', 'S', 'A', 'Q', 'L', 'R', 'P', 'P', 'P', 'T', 'T', 'S', 'T', 'S', 'A', 'T', 'S', 'A', 'Q', 'T', 'S', 'A', 'Q', 'L', 'T', 'S', 'A', 'Q', 'L', 'R', 'T', 'S', 'A', 'Q', 'L', 'R', 'P', 'T', 'S', 'A', 'Q', 'L', 'R', 'P', 'P', 'T', 'S', 'A', 'Q', 'L', 'R', 'P', 'P', 'P'], 'G': ['S', 'S', 'C', 'S', 'C', 'R', 'S', 'C', 'R', 'D', 'S', 'C', 'R', 'D', 'V', 'S', 'C', 'R', 'D', 'V', 'A', 'S', 'C', 'R', 'D', 'V', 'A', 'G', 'S', 'C', 'R', 'D', 'V', 'A', 'G', 'G', 'S', 'C', 'R', 'D', 'V', 'A', 'G', 'G', 'G', 'S', 'S', 'C', 'S', 'C', 'R', 'S', 'C', 'R', 'D', 'S', 'C', 'R', 'D', 'V', 'S', 'C', 'R', 'D', 'V', 'A', 'S', 'C', 'R', 'D', 'V', 'A', 'G', 'S', 'C', 'R', 'D', 'V', 'A', 'G', 'G', 'S', 'C', 'R', 'D', 'V', 'A', 'G', 'G', 'G', 'R', 'R', 'R', 'R', 'R', 'R', 'E', 'R', 'R', 'E', 'V', 'R', 'R', 'E', 'V', 'A', 'R', 'R', 'E', 'V', 'A', 'G', 'R', 'R', 'E', 'V', 'A', 'G', 'G', 'R', 'R', 'E', 'V', 'A', 'G', 'G', 'G', 'R', 'R', 'W', 'R', 'W', 'R', 'R', 'W', 'R', 'E', 'R', 'W', 'R', 'E', 'V', 'R', 'W', 'R', 'E', 'V', 'A', 'R', 'W', 'R', 'E', 'V', 'A', 'G', 'R', 'W', 'R', 'E', 'V', 'A', 'G', 'G', 'R', 'W', 'R', 'E', 'V', 'A', 'G', 'G', 'G'], 'W': ['R', 'R', 'R', 'R', 'R', 'G', 'R', 'R', 'G', 'R', 'R', 'G', 'L', 'R', 'R', 'G', 'L', 'S', 'R', 'R', 'G', 'L', 'S', 'R', 'R', 'G', 'L', 'S', 'C', 'R', 'R', 'G', 'L', 'S', 'C', 'C'], 'H': ['N', 'N', 'Y', 'N', 'Y', 'D', 'N', 'Y', 'D', 'L', 'N', 'Y', 'D', 'L', 'P', 'N', 'Y', 'D', 'L', 'P', 'R', 'N', 'Y', 'D', 'L', 'P', 'R', 'Q', 'N', 'Y', 'D', 'L', 'P', 'R', 'Q', 'H', 'N', 'Y', 'D', 'L', 'P', 'R', 'Q', 'H', 'Q', 'N', 'N', 'Y', 'N', 'Y', 'D', 'N', 'Y', 'D', 'L', 'N', 'Y', 'D', 'L', 'P', 'N', 'Y', 'D', 'L', 'P', 'R', 'N', 'Y', 'D', 'L', 'P', 'R', 'Q', 'N', 'Y', 'D', 'L', 'P', 'R', 'Q', 'H', 'N', 'Y', 'D', 'L', 'P', 'R', 'Q', 'H', 'Q'], 'L': ['I', 'I', 'F', 'I', 'F', 'V', 'I', 'F', 'V', 'H', 'I', 'F', 'V', 'H', 'P', 'I', 'F', 'V', 'H', 'P', 'R', 'I', 'F', 'V', 'H', 'P', 'R', 'L', 'I', 'F', 'V', 'H', 'P', 'R', 'L', 'L', 'I', 'F', 'V', 'H', 'P', 'R', 'L', 'L', 'L', 'I', 'I', 'F', 'I', 'F', 'V', 'I', 'F', 'V', 'H', 'I', 'F', 'V', 'H', 'P', 'I', 'F', 'V', 'H', 'P', 'R', 'I', 'F', 'V', 'H', 'P', 'R', 'L', 'I', 'F', 'V', 'H', 'P', 'R', 'L', 'L', 'I', 'F', 'V', 'H', 'P', 'R', 'L', 'L', 'L', 'I', 'I', 'L', 'I', 'L', 'V', 'I', 'L', 'V', 'I', 'L', 'V', 'S', 'I', 'L', 'V', 'S', 'I', 'L', 'V', 'S', 'F', 'I', 'L', 'V', 'S', 'F', 'F', 'I', 'L', 'V', 'S', 'F', 'F', 'L', 'I', 'I', 'L', 'I', 'L', 'V', 'I', 'L', 'V', 'Q', 'I', 'L', 'V', 'Q', 'P', 'I', 'L', 'V', 'Q', 'P', 'R', 'I', 'L', 'V', 'Q', 'P', 'R', 'L', 'I', 'L', 'V', 'Q', 'P', 'R', 'L', 'L', 'I', 'L', 'V', 'Q', 'P', 'R', 'L', 'L', 'L', 'M', 'M', 'L', 'M', 'L', 'V', 'M', 'L', 'V', 'M', 'L', 'V', 'S', 'M', 'L', 'V', 'S', 'W', 'M', 'L', 'V', 'S', 'W', 'L', 'M', 'L', 'V', 'S', 'W', 'L', 'F', 'M', 'L', 'V', 'S', 'W', 'L', 'F', 'F', 'M', 'M', 'L', 'M', 'L', 'V', 'M', 'L', 'V', 'Q', 'M', 'L', 'V', 'Q', 'P', 'M', 'L', 'V', 'Q', 'P', 'R', 'M', 'L', 'V', 'Q', 'P', 'R', 'L', 'M', 'L', 'V', 'Q', 'P', 'R', 'L', 'L', 'M', 'L', 'V', 'Q', 'P', 'R', 'L', 'L', 'L'], 'E': ['K', 'K', 'K', 'Q', 'K', 'Q', 'V', 'K', 'Q', 'V', 'A', 'K', 'Q', 'V', 'A', 'G', 'K', 'Q', 'V', 'A', 'G', 'D', 'K', 'Q', 'V', 'A', 'G', 'D', 'D', 'K', 'Q', 'V', 'A', 'G', 'D', 'D', 'E', 'K', 'K', 'K', 'Q', 'K', 'Q', 'V', 'K', 'Q', 'V', 'A', 'K', 'Q', 'V', 'A', 'G', 'K', 'Q', 'V', 'A', 'G', 'E', 'K', 'Q', 'V', 'A', 'G', 'E', 'D', 'K', 'Q', 'V', 'A', 'G', 'E', 'D', 'D'], 'K': ['Q', 'Q', 'E', 'Q', 'E', 'I', 'Q', 'E', 'I', 'T', 'Q', 'E', 'I', 'T', 'R', 'Q', 'E', 'I', 'T', 'R', 'N', 'Q', 'E', 'I', 'T', 'R', 'N', 'N', 'Q', 'E', 'I', 'T', 'R', 'N', 'N', 'K', 'Q', 'Q', 'E', 'Q', 'E', 'M', 'Q', 'E', 'M', 'T', 'Q', 'E', 'M', 'T', 'R', 'Q', 'E', 'M', 'T', 'R', 'K', 'Q', 'E', 'M', 'T', 'R', 'K', 'N', 'Q', 'E', 'M', 'T', 'R', 'K', 'N', 'N']}\n"
     ]
    }
   ],
   "source": [
    "codigo_genetico = {\n",
    "    'TTT': 'F', 'CTT': 'L', 'ATT': 'I', 'GTT': 'V', 'TTC': 'F', 'CTC': 'L', 'ATC': 'I', 'GTC': 'V',\n",
    "    'TTA': 'L', 'CTA': 'L', 'ATA': 'I', 'GTA': 'V', 'TTG': 'L', 'CTG': 'L', 'ATG': 'M', 'GTG': 'V',\n",
    "    'TCT': 'S', 'CCT': 'P', 'ACT': 'T', 'GCT': 'A', 'TCC': 'S', 'CCC': 'P', 'ACC': 'T', 'GCC': 'A',\n",
    "    'TCA': 'S', 'CCA': 'P', 'ACA': 'T', 'GCA': 'A', 'TCG': 'S', 'CCG': 'P', 'ACG': 'T', 'GCG': 'A',\n",
    "    'TAT': 'Y', 'CAT': 'H', 'AAT': 'N', 'GAT': 'D', 'TAC': 'Y', 'CAC': 'H', 'AAC': 'N', 'GAC': 'D',\n",
    "    'CAA': 'Q', 'AAA': 'K', 'GAA': 'E', 'CAG': 'Q', 'AAG': 'K', 'GAG': 'E', 'TGT': 'C', 'CGT': 'R',\n",
    "    'AGT': 'S', 'GGT': 'G', 'TGC': 'C', 'CGC': 'R', 'AGC': 'S', 'GGC': 'G', 'CGA': 'R', 'AGA': 'R',\n",
    "    'GGA': 'G', 'TGG': 'W', 'CGG': 'R', 'AGG': 'R', 'GGG': 'G'\n",
    "}\n",
    "\n",
    "# aminoacidos unicos\n",
    "aas = set(codigo_genetico.values())\n",
    "\n",
    "# Diccionario donde clave=aa inicial, valor=lista de aas posibles para\n",
    "# una sustitucion de un nucleotido en el codon, con repetidos si mas de un\n",
    "# codon mutado da el mismo aa.\n",
    "sustituciones = {aa:[] for aa in aas}\n",
    "\n",
    "for codon, aa in codigo_genetico.items():\n",
    "    for sust_codon in generar_mutantes(codon):\n",
    "        if sust_codon in codigo_genetico.keys(): # si no da un aa ignorar, por ej stops\n",
    "            sustituciones[aa].append(codigo_genetico[sust_codon])\n",
    "\n",
    "print(sustituciones)"
   ]
  }
 ],
 "metadata": {
  "kernelspec": {
   "display_name": "Python 3",
   "language": "python",
   "name": "python3"
  },
  "language_info": {
   "codemirror_mode": {
    "name": "ipython",
    "version": 3
   },
   "file_extension": ".py",
   "mimetype": "text/x-python",
   "name": "python",
   "nbconvert_exporter": "python",
   "pygments_lexer": "ipython3",
   "version": "3.8.5"
  }
 },
 "nbformat": 4,
 "nbformat_minor": 4
}
