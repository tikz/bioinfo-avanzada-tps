{
 "cells": [
  {
   "cell_type": "markdown",
   "metadata": {
    "colab_type": "text",
    "id": "Gi-hpPniQWwp"
   },
   "source": [
    "**Objetivo 1) Generar secuencia de ADN/Proteína al azar**"
   ]
  },
  {
   "cell_type": "markdown",
   "metadata": {
    "colab_type": "text",
    "id": "m4X4dhzwYz3d"
   },
   "source": [
    "Ejercicio 1a: genere secuencias al azar de 2 opciones (cara/seca) => analice la estadística en función del tiempo."
   ]
  },
  {
   "cell_type": "code",
   "execution_count": 33,
   "metadata": {
    "colab": {
     "base_uri": "https://localhost:8080/",
     "height": 34
    },
    "colab_type": "code",
    "id": "SVxvbzhVOgzg",
    "outputId": "4a21244a-72eb-4189-e6fa-29f7017bcad3"
   },
   "outputs": [
    {
     "name": "stdout",
     "output_type": "stream",
     "text": [
      "['C', 'G', 'T', 'T', 'T', 'C', 'C', 'G', 'T', 'T']\n"
     ]
    }
   ],
   "source": [
    "import random\n",
    "\n",
    "def generar_secuencia(n, alfabeto):\n",
    "    lista = []\n",
    "    for i in range(n):\n",
    "        lista.append(random.choice(alfabeto))\n",
    "    return lista\n",
    "\n",
    "print(generar_secuencia(10, \"ATCG\"))"
   ]
  },
  {
   "cell_type": "code",
   "execution_count": 34,
   "metadata": {
    "colab": {
     "base_uri": "https://localhost:8080/",
     "height": 187
    },
    "colab_type": "code",
    "id": "nRCJSMqCSBHz",
    "outputId": "199ca67d-9d17-426d-bc41-c6655239ea8d"
   },
   "outputs": [
    {
     "data": {
      "text/plain": [
       "['cara',\n",
       " 'seca',\n",
       " 'seca',\n",
       " 'cara',\n",
       " 'seca',\n",
       " 'seca',\n",
       " 'cara',\n",
       " 'cara',\n",
       " 'cara',\n",
       " 'cara']"
      ]
     },
     "execution_count": 34,
     "metadata": {},
     "output_type": "execute_result"
    }
   ],
   "source": [
    "generar_secuencia(10, [\"cara\", \"seca\"])"
   ]
  },
  {
   "cell_type": "code",
   "execution_count": 35,
   "metadata": {
    "colab": {},
    "colab_type": "code",
    "id": "-AzBAsXxSmIe"
   },
   "outputs": [],
   "source": [
    "def porcentajes(lista, alfabeto):\n",
    "    \"\"\" porcentajes printea por cada elemento de un alfabeto \n",
    "    el porcentaje que existe de este en una lista \"\"\"\n",
    "    for elem in alfabeto:\n",
    "        print(elem, lista.count(elem) / len(lista) * 100, \"%\")"
   ]
  },
  {
   "cell_type": "code",
   "execution_count": 36,
   "metadata": {
    "colab": {
     "base_uri": "https://localhost:8080/",
     "height": 68
    },
    "colab_type": "code",
    "id": "Xz09FCBESofQ",
    "outputId": "5e83941a-dd41-4805-c3cd-eac22e123f3a"
   },
   "outputs": [
    {
     "name": "stdout",
     "output_type": "stream",
     "text": [
      "['seca', 'seca', 'cara', 'seca', 'seca', 'seca', 'cara', 'cara', 'seca', 'cara']\n",
      "cara 40.0 %\n",
      "seca 60.0 %\n"
     ]
    }
   ],
   "source": [
    "alfabeto = [\"cara\", \"seca\"]\n",
    "\n",
    "seq = generar_secuencia(10, alfabeto)\n",
    "print(seq)\n",
    "porcentajes(seq, alfabeto)"
   ]
  },
  {
   "cell_type": "code",
   "execution_count": 37,
   "metadata": {
    "colab": {
     "base_uri": "https://localhost:8080/",
     "height": 357
    },
    "colab_type": "code",
    "id": "3mhIfGJpStWy",
    "outputId": "65167d0b-d502-45d2-c2ea-028ed2914a64"
   },
   "outputs": [
    {
     "name": "stdout",
     "output_type": "stream",
     "text": [
      "1 ['seca']\n",
      "cara 0.0 %\n",
      "seca 100.0 %\n",
      "\n",
      "2 ['seca', 'seca']\n",
      "cara 0.0 %\n",
      "seca 100.0 %\n",
      "\n",
      "3 ['seca', 'seca', 'cara']\n",
      "cara 33.33333333333333 %\n",
      "seca 66.66666666666666 %\n",
      "\n",
      "4 ['seca', 'seca', 'cara', 'seca']\n",
      "cara 25.0 %\n",
      "seca 75.0 %\n",
      "\n",
      "5 ['seca', 'seca', 'cara', 'seca', 'seca']\n",
      "cara 20.0 %\n",
      "seca 80.0 %\n",
      "\n"
     ]
    }
   ],
   "source": [
    "for i in range(1,6):\n",
    "    print(i, seq[0:i])\n",
    "    porcentajes(seq[0:i], alfabeto)\n",
    "    print()"
   ]
  },
  {
   "cell_type": "markdown",
   "metadata": {
    "colab_type": "text",
    "id": "kiuzrcHATlK-"
   },
   "source": [
    "Genere secuencias al azar de 10 opciones (meses) => analice la estadística en función del tiempo."
   ]
  },
  {
   "cell_type": "code",
   "execution_count": 38,
   "metadata": {
    "colab": {},
    "colab_type": "code",
    "id": "YSVIkx1BTnxR"
   },
   "outputs": [],
   "source": [
    "def generar_secuencia_meses(n, alfabeto):\n",
    "    lista = []\n",
    "    for i in range(n):\n",
    "        lista.append(random.choice(alfabeto))\n",
    "    return lista"
   ]
  },
  {
   "cell_type": "code",
   "execution_count": 39,
   "metadata": {
    "colab": {
     "base_uri": "https://localhost:8080/",
     "height": 357
    },
    "colab_type": "code",
    "id": "sq3me6MFTtP6",
    "outputId": "b0998db3-f760-41b6-dd18-8a468f4dd2c9"
   },
   "outputs": [
    {
     "data": {
      "text/plain": [
       "['marzo',\n",
       " 'septiembre',\n",
       " 'marzo',\n",
       " 'junio',\n",
       " 'julio',\n",
       " 'abril',\n",
       " 'junio',\n",
       " 'julio',\n",
       " 'mayo',\n",
       " 'febrero',\n",
       " 'septiembre',\n",
       " 'enero',\n",
       " 'agosto',\n",
       " 'octubre',\n",
       " 'enero',\n",
       " 'agosto',\n",
       " 'julio',\n",
       " 'febrero',\n",
       " 'octubre',\n",
       " 'febrero']"
      ]
     },
     "execution_count": 39,
     "metadata": {},
     "output_type": "execute_result"
    }
   ],
   "source": [
    "generar_secuencia_meses(20, [\"enero\", \"febrero\", \"marzo\", \"abril\", \"mayo\", \"junio\", \"julio\", \"agosto\", \"septiembre\", \"octubre\"])"
   ]
  },
  {
   "cell_type": "code",
   "execution_count": 40,
   "metadata": {
    "colab": {},
    "colab_type": "code",
    "id": "GWVzVRNgUW7c"
   },
   "outputs": [],
   "source": [
    "def porcentajes(lista, alfabeto):\n",
    "    for elem in alfabeto:\n",
    "        print(elem, lista.count(elem) / len(lista) * 100, \"%\")"
   ]
  },
  {
   "cell_type": "code",
   "execution_count": 41,
   "metadata": {
    "colab": {
     "base_uri": "https://localhost:8080/",
     "height": 224
    },
    "colab_type": "code",
    "id": "oK1rHJ9PUare",
    "outputId": "c53679d9-f5cb-43f1-f1b3-052d7159028e"
   },
   "outputs": [
    {
     "name": "stdout",
     "output_type": "stream",
     "text": [
      "['marzo', 'julio', 'mayo', 'agosto', 'octubre', 'septiembre', 'julio', 'abril', 'marzo', 'junio', 'septiembre', 'febrero', 'octubre', 'abril', 'julio', 'abril', 'septiembre', 'julio', 'septiembre', 'junio']\n",
      "enero 0.0 %\n",
      "febrero 5.0 %\n",
      "marzo 10.0 %\n",
      "abril 15.0 %\n",
      "mayo 5.0 %\n",
      "junio 10.0 %\n",
      "julio 20.0 %\n",
      "agosto 5.0 %\n",
      "septiembre 20.0 %\n",
      "octubre 10.0 %\n"
     ]
    }
   ],
   "source": [
    "alfabeto = [\"enero\", \"febrero\", \"marzo\", \"abril\", \"mayo\", \"junio\", \"julio\", \"agosto\", \"septiembre\", \"octubre\"]\n",
    "\n",
    "seq = generar_secuencia_meses(20, alfabeto)\n",
    "print(seq)\n",
    "porcentajes(seq, alfabeto)"
   ]
  },
  {
   "cell_type": "code",
   "execution_count": 42,
   "metadata": {
    "colab": {
     "base_uri": "https://localhost:8080/",
     "height": 629
    },
    "colab_type": "code",
    "id": "APzEff7vUn_p",
    "outputId": "9f7f8239-062f-4974-8f26-ab20f0b2fc6b"
   },
   "outputs": [
    {
     "name": "stdout",
     "output_type": "stream",
     "text": [
      "1 ['marzo']\n",
      "enero 0.0 %\n",
      "febrero 0.0 %\n",
      "marzo 100.0 %\n",
      "abril 0.0 %\n",
      "mayo 0.0 %\n",
      "junio 0.0 %\n",
      "julio 0.0 %\n",
      "agosto 0.0 %\n",
      "septiembre 0.0 %\n",
      "octubre 0.0 %\n",
      "\n",
      "2 ['marzo', 'julio']\n",
      "enero 0.0 %\n",
      "febrero 0.0 %\n",
      "marzo 50.0 %\n",
      "abril 0.0 %\n",
      "mayo 0.0 %\n",
      "junio 0.0 %\n",
      "julio 50.0 %\n",
      "agosto 0.0 %\n",
      "septiembre 0.0 %\n",
      "octubre 0.0 %\n",
      "\n",
      "3 ['marzo', 'julio', 'mayo']\n",
      "enero 0.0 %\n",
      "febrero 0.0 %\n",
      "marzo 33.33333333333333 %\n",
      "abril 0.0 %\n",
      "mayo 33.33333333333333 %\n",
      "junio 0.0 %\n",
      "julio 33.33333333333333 %\n",
      "agosto 0.0 %\n",
      "septiembre 0.0 %\n",
      "octubre 0.0 %\n",
      "\n"
     ]
    }
   ],
   "source": [
    "for i in range(1,4):\n",
    "    print(i, seq[0:i])\n",
    "    porcentajes(seq[0:i], alfabeto)\n",
    "    print()"
   ]
  },
  {
   "cell_type": "markdown",
   "metadata": {
    "colab_type": "text",
    "id": "TeYnykaAUw8N"
   },
   "source": [
    "Ahora utilice la función creada en el punto anterior para:\n",
    "ia) generar una secuencia de “n” bases al azar.\n",
    "ib) generar una secuencia de “n” aminoácidos al azar.\n",
    "\n",
    "---\n",
    "\n"
   ]
  },
  {
   "cell_type": "code",
   "execution_count": 43,
   "metadata": {
    "colab": {
     "base_uri": "https://localhost:8080/",
     "height": 34
    },
    "colab_type": "code",
    "id": "ikj8ESMIUs8J",
    "outputId": "d7cc1ec7-ce84-40b0-c50d-d87fec6b0889"
   },
   "outputs": [
    {
     "data": {
      "text/plain": [
       "['C', 'T', 'T', 'C', 'C', 'A', 'T', 'C', 'G', 'G']"
      ]
     },
     "execution_count": 43,
     "metadata": {},
     "output_type": "execute_result"
    }
   ],
   "source": [
    "generar_secuencia(10, \"ATCG\")"
   ]
  },
  {
   "cell_type": "code",
   "execution_count": 44,
   "metadata": {
    "colab": {
     "base_uri": "https://localhost:8080/",
     "height": 34
    },
    "colab_type": "code",
    "id": "aqnPr9rUU634",
    "outputId": "6d1b3c44-7be1-4502-9113-0096495aa9f0"
   },
   "outputs": [
    {
     "data": {
      "text/plain": [
       "['C', 'Q', 'P', 'V', 'W', 'H', 'F', 'Y', 'M', 'F', 'W', 'P', 'A', 'S', 'P']"
      ]
     },
     "execution_count": 44,
     "metadata": {},
     "output_type": "execute_result"
    }
   ],
   "source": [
    "generar_secuencia(15, \"ARNDCQEGHILKMFPSTWYV\")"
   ]
  },
  {
   "cell_type": "code",
   "execution_count": 45,
   "metadata": {
    "colab": {
     "base_uri": "https://localhost:8080/",
     "height": 51
    },
    "colab_type": "code",
    "id": "cfex89dYU_76",
    "outputId": "1fc3fad9-d66a-4ccd-a9af-6b21247e56cd"
   },
   "outputs": [
    {
     "name": "stdout",
     "output_type": "stream",
     "text": [
      "GGAAGCACCATGCTTTGACC\n",
      "VTDGHIELYFPSVRCYMTLVKFEIINYQKTYLVSW\n"
     ]
    }
   ],
   "source": [
    "#otra forma:\n",
    "import random\n",
    "import pandas as pd\n",
    "\n",
    "def generate_random_seq(dt,length):\n",
    "    NTs=[\"A\",\"T\",\"C\",\"G\"]\n",
    "    AAs=[\"A\",\"R\",\"N\",\"D\",\"C\",\"Q\",\"E\",\"G\",\"H\",\"I\",\"L\",\"K\",\"M\",\"F\",\"P\",\"S\",\"T\",\"W\",\"Y\",\"V\"]\n",
    "    if dt==\"DNA\":\n",
    "        random_seq=[random.choice(NTs) for k in range(length)]\n",
    "    elif dt==\"PROT\":\n",
    "        random_seq=[random.choice(AAs) for k in range(length)]\n",
    "    return\"\".join(random_seq)\n",
    "\n",
    "DNA=generate_random_seq(\"DNA\",20)\n",
    "PROT=generate_random_seq(\"PROT\",35)\n",
    "\n",
    "print(DNA)\n",
    "print(PROT)"
   ]
  },
  {
   "cell_type": "markdown",
   "metadata": {
    "colab_type": "text",
    "id": "4VYGWr-_Vctv"
   },
   "source": [
    "Ejercicio 1b: modifique ahora su programa tal que las secuencias de ADN/Proteína generadas al azar respeten % predefinidos (en un archivo) para cada una de las bases/aminoácidos. \n",
    "A modo de ejemplo: una secuencia con 60% CG se podría definir con el siguiente archivo: A:0.3 T:0.3 C:0.3 G: 0.3 \n",
    "Para los 20 aminoácidos será una tabla de los 20 aa c/u con su frecuencia.\n",
    "Haga un “módulo” que verifique los porcentajes obtenidos.\n"
   ]
  },
  {
   "cell_type": "code",
   "execution_count": 46,
   "metadata": {
    "colab": {},
    "colab_type": "code",
    "id": "jB7mtwKSVVDw"
   },
   "outputs": [],
   "source": [
    "def alfabeto_probs(path):\n",
    "    \"\"\" alfabeto_probs toma un path de un archivo de texto que contiene la \n",
    "    definición de un alfabeto por cada línea como \"elemento:probabilidad\",\n",
    "    y devuelve una lista de elementos y una lista de probabilidades\n",
    "    \"\"\"\n",
    "    alfabeto = []\n",
    "    probs = []\n",
    "\n",
    "    with open(path, \"r\") as f:\n",
    "        for line in f.readlines():\n",
    "            l = line.split(\":\")\n",
    "            alfabeto.append(l[0])\n",
    "            probs.append(float(l[1]))\n",
    "\n",
    "    return alfabeto, probs\n"
   ]
  },
  {
   "cell_type": "code",
   "execution_count": 47,
   "metadata": {
    "colab": {},
    "colab_type": "code",
    "id": "EF6BninNVL8z"
   },
   "outputs": [
    {
     "name": "stdout",
     "output_type": "stream",
     "text": [
      "['A', 'T', 'C', 'G']\n",
      "[0.2, 0.2, 0.3, 0.3]\n"
     ]
    }
   ],
   "source": [
    "alfabeto_dna, probs_dna = alfabeto_probs(\"dna.prob\")\n",
    "print(alfabeto_dna)\n",
    "print(probs_dna)"
   ]
  },
  {
   "cell_type": "code",
   "execution_count": 48,
   "metadata": {
    "colab": {},
    "colab_type": "code",
    "id": "kowPAfikVrs8"
   },
   "outputs": [
    {
     "name": "stdout",
     "output_type": "stream",
     "text": [
      "['A', 'C', 'D', 'E', 'F', 'G', 'H', 'I', 'K', 'L', 'M', 'N', 'P', 'Q', 'R', 'S', 'T', 'V', 'W', 'Y']\n",
      "[9.22, 1.2, 5.48, 6.17, 3.91, 7.35, 2.19, 5.62, 4.9, 9.9, 2.36, 3.8, 4.89, 3.76, 5.8, 6.65, 5.55, 6.92, 1.3, 2.9]\n"
     ]
    }
   ],
   "source": [
    "alfabeto_aa, probs_aa = alfabeto_probs(\"aa.prob\") #https://www.ebi.ac.uk/uniprot/TrEMBLstats\n",
    "print(alfabeto_aa)\n",
    "print(probs_aa)"
   ]
  },
  {
   "cell_type": "code",
   "execution_count": 49,
   "metadata": {
    "colab": {},
    "colab_type": "code",
    "id": "CvxTea4FVw9X"
   },
   "outputs": [
    {
     "data": {
      "text/plain": [
       "['I', 'E', 'A', 'R', 'G']"
      ]
     },
     "execution_count": 49,
     "metadata": {},
     "output_type": "execute_result"
    }
   ],
   "source": [
    "# https://docs.python.org/3/library/random.html#random.choices\n",
    "random.choices(alfabeto_aa, weights=probs_aa, k=5)"
   ]
  },
  {
   "cell_type": "markdown",
   "metadata": {
    "colab_type": "text",
    "id": "fkqc1PmzV41W"
   },
   "source": [
    "Módulo para verificar porcentajes"
   ]
  },
  {
   "cell_type": "code",
   "execution_count": 50,
   "metadata": {
    "colab": {},
    "colab_type": "code",
    "id": "0PzRE424V66n"
   },
   "outputs": [
    {
     "name": "stdout",
     "output_type": "stream",
     "text": [
      "A 9.2507 %\n",
      "C 1.2013 %\n",
      "D 5.4818999999999996 %\n",
      "E 6.205299999999999 %\n",
      "F 3.9398000000000004 %\n",
      "G 7.358499999999999 %\n",
      "H 2.218 %\n",
      "I 5.6443 %\n",
      "K 4.9017 %\n",
      "L 9.890699999999999 %\n",
      "M 2.3647 %\n",
      "N 3.7926 %\n",
      "P 4.903 %\n",
      "Q 3.7479999999999998 %\n",
      "R 5.810499999999999 %\n",
      "S 6.642 %\n",
      "T 5.5302 %\n",
      "V 6.9138 %\n",
      "W 1.3105 %\n",
      "Y 2.8925 %\n"
     ]
    }
   ],
   "source": [
    "#Secuencia de 100.000 aminoácidos tomados al azar con probabilidades por aminoácido de aa.prob\n",
    "porcentajes(random.choices(alfabeto_aa, weights=probs_aa, k=1000000), alfabeto_aa)"
   ]
  },
  {
   "cell_type": "markdown",
   "metadata": {
    "colab_type": "text",
    "id": "0x5G5IMNWDZi"
   },
   "source": [
    "Los porcentajes son similares a los originales en aa.prob (o sea, random.choices funciona)."
   ]
  },
  {
   "cell_type": "markdown",
   "metadata": {
    "colab_type": "text",
    "id": "8RSRk0rYWKb3"
   },
   "source": [
    "Ejercicio 1c: programe un módulo que traduzca la secuencia de ADN a proteína.\n",
    "Compare los % de aminoácidos obtenidos a partir de una secuencia de ADN al azar con una de aminoácidos al azar, que refleja esta diferencia?"
   ]
  },
  {
   "cell_type": "code",
   "execution_count": 51,
   "metadata": {
    "colab": {},
    "colab_type": "code",
    "id": "WTBWM5WbWFiV"
   },
   "outputs": [],
   "source": [
    "codigo_genetico = {\n",
    "    \"AAA\":\"K\",\n",
    "    \"AAC\":\"N\",\n",
    "    \"AAG\":\"K\",\n",
    "    \"AAT\":\"N\",\n",
    "    \"ACA\":\"T\",\n",
    "    \"ACC\":\"T\",\n",
    "    \"ACG\":\"T\",\n",
    "    \"ACT\":\"T\",\n",
    "    \"AGA\":\"R\",\n",
    "    \"AGC\":\"S\",\n",
    "    \"AGG\":\"R\",\n",
    "    \"AGT\":\"S\",\n",
    "    \"ATA\":\"I\",\n",
    "    \"ATC\":\"I\",\n",
    "    \"ATG\":\"M\",\n",
    "    \"ATT\":\"I\",\n",
    "    \"CAA\":\"Q\",\n",
    "    \"CAC\":\"H\",\n",
    "    \"CAG\":\"Q\",\n",
    "    \"CAT\":\"H\",\n",
    "    \"CCA\":\"P\",\n",
    "    \"CCC\":\"P\",\n",
    "    \"CCG\":\"P\",\n",
    "    \"CCT\":\"P\",\n",
    "    \"CGA\":\"R\",\n",
    "    \"CGC\":\"R\",\n",
    "    \"CGG\":\"R\",\n",
    "    \"CGT\":\"R\",\n",
    "    \"CTA\":\"L\",\n",
    "    \"CTC\":\"L\",\n",
    "    \"CTG\":\"L\",\n",
    "    \"CTT\":\"L\",\n",
    "    \"GAA\":\"E\",\n",
    "    \"GAC\":\"D\",\n",
    "    \"GAG\":\"E\",\n",
    "    \"GAT\":\"D\",\n",
    "    \"GCA\":\"A\",\n",
    "    \"GCC\":\"A\",\n",
    "    \"GCG\":\"A\",\n",
    "    \"GCT\":\"A\",\n",
    "    \"GGA\":\"G\",\n",
    "    \"GGC\":\"G\",\n",
    "    \"GGG\":\"G\",\n",
    "    \"GGT\":\"G\",\n",
    "    \"GTA\":\"V\",\n",
    "    \"GTC\":\"V\",\n",
    "    \"GTG\":\"V\",\n",
    "    \"GTT\":\"V\",\n",
    "    \"TAA\":\"O\",\n",
    "    \"TAC\":\"Y\",\n",
    "    \"TAG\":\"O\",\n",
    "    \"TAT\":\"Y\",\n",
    "    \"TCA\":\"S\",\n",
    "    \"TCC\":\"S\",\n",
    "    \"TCG\":\"S\",\n",
    "    \"TCT\":\"S\",\n",
    "    \"TGA\":\"O\",\n",
    "    \"TGC\":\"C\",\n",
    "    \"TGG\":\"W\",\n",
    "    \"TGT\":\"C\",\n",
    "    \"TTA\":\"L\",\n",
    "    \"TTC\":\"F\",\n",
    "    \"TTG\":\"L\",\n",
    "    \"TTT\":\"F\",\n",
    "}\n",
    "\n",
    "def traducir(seq):\n",
    "    codones = [seq[i:i+3] for i in range (0, len(seq), 3)]\n",
    "    return(\"\".join([codigo_genetico[i] for i in codones]))"
   ]
  },
  {
   "cell_type": "code",
   "execution_count": 52,
   "metadata": {
    "colab": {
     "base_uri": "https://localhost:8080/",
     "height": 68
    },
    "colab_type": "code",
    "id": "JK-EulxOganm",
    "outputId": "1e6b70a7-9448-4e8b-f98c-f4f2cbd2074b"
   },
   "outputs": [
    {
     "name": "stdout",
     "output_type": "stream",
     "text": [
      "Secuencia de ADN (EN MAYÚSCULA):\n",
      "TTA\n",
      "L\n"
     ]
    }
   ],
   "source": [
    "print('Secuencia de ADN (EN MAYÚSCULA):')\n",
    "seq_ADN = input()\n",
    "proteina = traducir(seq_ADN)\n",
    "print(proteina)"
   ]
  },
  {
   "cell_type": "markdown",
   "metadata": {
    "colab_type": "text",
    "id": "5S-73KigOFus"
   },
   "source": [
    "**Objetivo 2) Familiarizarse con manejo de secuencias en Biopyhton**"
   ]
  },
  {
   "cell_type": "code",
   "execution_count": 53,
   "metadata": {
    "colab": {
     "base_uri": "https://localhost:8080/",
     "height": 139
    },
    "colab_type": "code",
    "id": "me5gujCVOlAo",
    "outputId": "40f2b6b6-95c4-40ab-93c4-3c384d1d13e1"
   },
   "outputs": [
    {
     "name": "stdout",
     "output_type": "stream",
     "text": [
      "Defaulting to user installation because normal site-packages is not writeable\n",
      "Requirement already satisfied: biopython in /home/tik/.local/lib/python3.8/site-packages (1.77)\n",
      "Requirement already satisfied: numpy in /usr/lib/python3.8/site-packages (from biopython) (1.19.1)\n",
      "Note: you may need to restart the kernel to use updated packages.\n"
     ]
    }
   ],
   "source": [
    "pip install biopython"
   ]
  },
  {
   "cell_type": "code",
   "execution_count": 54,
   "metadata": {
    "colab": {
     "base_uri": "https://localhost:8080/",
     "height": 34
    },
    "colab_type": "code",
    "id": "p48TxRILOxu8",
    "outputId": "45f198bb-b3e5-4451-e24c-9def867408c2"
   },
   "outputs": [
    {
     "data": {
      "text/plain": [
       "Seq('AGTACACTGGT', IUPACUnambiguousDNA())"
      ]
     },
     "execution_count": 54,
     "metadata": {},
     "output_type": "execute_result"
    }
   ],
   "source": [
    "#“crear” una secuencia de ADN\n",
    "from Bio.Seq import Seq\n",
    "from Bio.Alphabet import IUPAC\n",
    "my_seq = Seq(\"AGTACACTGGT\", IUPAC.unambiguous_dna)\n",
    "my_seq"
   ]
  },
  {
   "cell_type": "code",
   "execution_count": 55,
   "metadata": {
    "colab": {
     "base_uri": "https://localhost:8080/",
     "height": 34
    },
    "colab_type": "code",
    "id": "mzp1nHXzO03y",
    "outputId": "7cb72e00-17cb-48f2-9357-4aa6862b57e9"
   },
   "outputs": [
    {
     "data": {
      "text/plain": [
       "Seq('AGTACACTGGT', IUPACProtein())"
      ]
     },
     "execution_count": 55,
     "metadata": {},
     "output_type": "execute_result"
    }
   ],
   "source": [
    "#o una de proteinas\n",
    "from Bio.Seq import Seq\n",
    "from Bio.Alphabet import IUPAC\n",
    "my_prot = Seq(\"AGTACACTGGT\", IUPAC.protein)\n",
    "my_prot"
   ]
  },
  {
   "cell_type": "code",
   "execution_count": 56,
   "metadata": {
    "colab": {
     "base_uri": "https://localhost:8080/",
     "height": 34
    },
    "colab_type": "code",
    "id": "HyRN1jrnO3qF",
    "outputId": "39599e03-1d76-40ff-f388-9c21bd9d23e8"
   },
   "outputs": [
    {
     "data": {
      "text/plain": [
       "45.45454545454545"
      ]
     },
     "execution_count": 56,
     "metadata": {},
     "output_type": "execute_result"
    }
   ],
   "source": [
    "#usando los comandos básicos de string podemos calcular el contenido de GC\n",
    "len(my_seq)\n",
    "my_seq.count(\"G\")\n",
    "100 * float(my_seq.count(\"G\") + my_seq.count(\"C\")) / len(my_seq)"
   ]
  },
  {
   "cell_type": "code",
   "execution_count": 57,
   "metadata": {
    "colab": {
     "base_uri": "https://localhost:8080/",
     "height": 34
    },
    "colab_type": "code",
    "id": "pjRievocO_kn",
    "outputId": "4c4f1120-e25a-46b0-b501-a01fc8df4d15"
   },
   "outputs": [
    {
     "data": {
      "text/plain": [
       "45.45454545454545"
      ]
     },
     "execution_count": 57,
     "metadata": {},
     "output_type": "execute_result"
    }
   ],
   "source": [
    "from Bio.SeqUtils import GC\n",
    "GC(my_seq)"
   ]
  },
  {
   "cell_type": "code",
   "execution_count": 58,
   "metadata": {
    "colab": {
     "base_uri": "https://localhost:8080/",
     "height": 119
    },
    "colab_type": "code",
    "id": "frb6Dk5uPFd6",
    "outputId": "67390f3b-c4c9-4227-f39c-cd7d79b2d371"
   },
   "outputs": [
    {
     "name": "stdout",
     "output_type": "stream",
     "text": [
      "GATCGATGGGCCTATATAGGATCGAAAATCTAAGCC\n",
      "36\n",
      "CTAGCTACCCGGATATATCCTAGCTTTTAGATTCGG\n",
      "GGCTTAGATTTTCGATCCTATATAGGCCCATCGATC\n",
      "GAUCGAUGGGCCUAUAUAGGAUCGAAAAUCUAAGCC\n",
      "DRWAYIGSKI*A\n"
     ]
    }
   ],
   "source": [
    "from Bio.Seq import Seq\n",
    "from Bio.Alphabet import IUPAC\n",
    "my_seq = Seq(\"GATCGATGGGCCTATATAGGATCGAAAATCTAAGCC\", IUPAC.unambiguous_dna)\n",
    "\n",
    "print(my_seq)\n",
    "print(len(my_seq))\n",
    "print(my_seq.complement())\n",
    "print(my_seq.reverse_complement())\n",
    "print(my_seq.transcribe())\n",
    "print(my_seq.translate())"
   ]
  },
  {
   "cell_type": "markdown",
   "metadata": {
    "colab_type": "text",
    "id": "ChCLfvj9olPq"
   },
   "source": [
    "Ejercicio 2: elija un registro de geneBank bajelo en formato fasta y formato gb, levantelos con Biopyhton y explore sus atributos."
   ]
  },
  {
   "cell_type": "code",
   "execution_count": 59,
   "metadata": {
    "colab": {},
    "colab_type": "code",
    "id": "kuByhcPVPVWc"
   },
   "outputs": [
    {
     "name": "stdout",
     "output_type": "stream",
     "text": [
      "ID: CR536544.1\n",
      "Name: CR536544.1\n",
      "Description: CR536544.1 Homo sapiens full open reading frame cDNA clone RZPDo834F0720D for gene LGALS4, lectin, galactoside-binding, soluble, 4 (galectin 4); complete cds, incl. stopcodon\n",
      "Number of features: 0\n",
      "Seq('ATGGCCTATGTCCCCGCACCGGGCTACCAGCCCACCTACAACCCGACGCTGCCT...TAA', SingleLetterAlphabet())\n",
      "CR536544.1\n",
      "CR536544.1\n",
      "CR536544.1 Homo sapiens full open reading frame cDNA clone RZPDo834F0720D for gene LGALS4, lectin, galactoside-binding, soluble, 4 (galectin 4); complete cds, incl. stopcodon\n"
     ]
    }
   ],
   "source": [
    "from Bio import SeqIO\n",
    "record = SeqIO.read(\"lsgal4.txt\", \"fasta\")\n",
    "\n",
    "print(record)\n",
    "print(record.id)\n",
    "print(record.name)\n",
    "print(record.description)"
   ]
  },
  {
   "cell_type": "code",
   "execution_count": 64,
   "metadata": {
    "colab": {},
    "colab_type": "code",
    "id": "qT2dOm71mh2V"
   },
   "outputs": [
    {
     "name": "stdout",
     "output_type": "stream",
     "text": [
      "ATGGCCTATGTCCCCGCACCGGGCTACCAGCCCACCTACAACCCGACGCTGCCTTACTACCAGCCCATCCCGGGCGGGCTCAACGTGGGAATGTCTGTTTACATCCAAGGAGTGGCCAGCGAGCACATGAAGCGGTTCTTCGTGAACTTTGTGGTTGGGCAGGATCCGGGCTCAGACGTCGCCTTCCACTTCAATCCGCGGTTTGACGGCTGGGACAAGGTGGTCTTCAACACGTTGCAGGGCGGGAAGTGGGGCAGCGAGGAGAGGAAGAGGAGCATGCCCTTCAAAAAGGGTGCCGCCTTTGAGCTGGTCTTCATAGTCCTGGCTGAGCACTACAAGGTGGTGGTAAATGGAAATCCCTTCTATGAGTACGGGCACCGGCTTCCCCTACAGATGGTCACCCACCTGCAAGTGGATGGGGATCTGCAACTTCAATCAATCAACTTCATCGGAGGCCAGCCCCTCCGGCCCCAGGGACCCCCGATGATGCCACCTTACCCTGGTCCCGGACATTGCCATCAACAGCTGAACAGCCTGCCCACCATGGAAGGACCCCCAACCTTCAACCCGCCTGTGCCATATTTCGGGAGGCTGCAAGGAGGGCTCACAGCTCGAAGAACCATCATCATCAAGGGCTATGTGCCTCCCACAGGCAAGAGCTTTGCTATCAACTTCAAGGTGGGCTCCTCAGGGGACATAGCTCTGCACATTAATCCCCGCATGGGCAACGGTACCGTGGTCCGGAACAGCCTTCTGAATGGCTCGTGGGGATCCGAGGAGAAGAAGATCACCCACAACCCATTTGGTCCCGGACAGTTCTTTGATCTGTCCATTCGCTGTGGCTTGGATCGCTTCAAGGTTTACGCCAATGGCCAGCACCTCTTTGACTTTGCCCATCGCCTCTCGGCCTTCCAGAGGGTGGACACATTGGAAATCCAGGGTGATGTCACCTTGTCCTATGTCCAGATCTAA\n",
      "CR536544.1\n",
      "CR536544\n",
      "Homo sapiens full open reading frame cDNA clone RZPDo834F0720D for gene LGALS4, lectin, galactoside-binding, soluble, 4 (galectin 4); complete cds, incl. stopcodon\n"
     ]
    }
   ],
   "source": [
    "from Bio import SeqIO\n",
    "record = SeqIO.read(\"Isgal4.gb\",\"gb\")\n",
    "print(record.seq)\n",
    "print(record.id)\n",
    "print(record.name)\n",
    "print(record.description)"
   ]
  },
  {
   "cell_type": "markdown",
   "metadata": {
    "colab_type": "text",
    "id": "xEakYfOWoi7O"
   },
   "source": [
    "2b) Utilice los comandos de biopython para obtener “solo” la secuencia y convertirla en un “string” para manipularla. Traduzca el objeto secuencia con Biopyhton y al “string” con “su” programa. Compare los resultados."
   ]
  },
  {
   "cell_type": "code",
   "execution_count": 65,
   "metadata": {
    "colab": {},
    "colab_type": "code",
    "id": "CpVJcoHlxJZO"
   },
   "outputs": [
    {
     "name": "stdout",
     "output_type": "stream",
     "text": [
      "ACTCTTCTGGTCCCCACAGACTCAGAGAGAACCCACCATGGTGCTGTCTCCTGCCGACAAGACCAACGTCAAGGCCGCCTGGGGTAAGGTCGGCGCGCACGCTGGCGAGTATGGTGCGGAGGCCCTGGAGAGGTGAGGCTCCCTCCCCTGCTCCGACCCGGGCTCCTCGCCCGCCCGGACCCACAGGCCACCCTCAACCGTCCTGGCCCCGGACCCAAACCCCACCCCTCACTCTGCTTCTCCCCGCAGGATGTTCCTGTCCTTCCCCACCACCAAGACCTACTTCCCGCACTTCGACCTGAGCCACGGCTCTGCCCAGGTTAAGGGCCACGGCAAGAAGGTGGCCGACGCGCTGACCAACGCCGTGGCGCACGTGGACGACATGCCCAACGCGCTGTCCGCCCTGAGCGACCTGCACGCCGAGATGGCGCCTTCCTCGCAGGGCAGAGGATCACGCGGGTTGCGGGAGGTGTAGCGCAGGCGGCGGCTGCGGGCCTGGGCCCTCGGCCCCACTGACCCTCTTCTCTGCACAGCTCCTAAGCCACTGCCTGCTGGTGACCCTGGCCGCCCACCTCCCCGCCGAGTTCACCCCTGCGGTGCACGCCTCCCTGGACAAGTTCCTGGCTTCTGTGAGCACCGTGCTGACCTCCAAATACCGTTAAGCTGGAGCCTCGGTGGCCATGCTTCTTGCCCCTTGGGCCTCCCCCCAGCCCCTCCTCCCCTTCCTGCACCCGTACCCCCGTGGTCTTTGAATAAAGTCTGAGTGGGCGGCAT\n"
     ]
    }
   ],
   "source": [
    "from Bio import SeqIO\n",
    "record = SeqIO.read(\"Tp1SeqADN1.fasta\",\"fasta\")\n",
    "record_str = (str(record.seq))\n",
    "\n",
    "print(record_str)"
   ]
  },
  {
   "cell_type": "code",
   "execution_count": 66,
   "metadata": {
    "colab": {},
    "colab_type": "code",
    "id": "fg-g-gIAkdo8"
   },
   "outputs": [
    {
     "name": "stdout",
     "output_type": "stream",
     "text": [
      "TLLVPTDSERTHHGAVSCRQDQRQGRLGOGRRARWRVWCGGPGEVRLPPLLRPGLLARPDPQATLNRPGPGPKPHPSLCFSPQDVPVLPHHQDLLPALRPEPRLCPGOGPRQEGGRRADQRRGARGRHAQRAVRPERPARRDGAFLAGQRITRVAGGVAQAAAAGLGPRPHOPSSLHSSOATACWOPWPPTSPPSSPLRCTPPWTSSWLLOAPCOPPNTVKLEPRWPCFLPLGPPPSPSSPSCTRTPVVFEOSLSGRH\n"
     ]
    }
   ],
   "source": [
    "proteina=traducir(record_str)\n",
    "print(proteina)"
   ]
  },
  {
   "cell_type": "code",
   "execution_count": 67,
   "metadata": {
    "colab": {},
    "colab_type": "code",
    "id": "0-9UHyNhxQLO"
   },
   "outputs": [
    {
     "name": "stdout",
     "output_type": "stream",
     "text": [
      "TLLVPTDSERTHHGAVSCRQDQRQGRLG*GRRARWRVWCGGPGEVRLPPLLRPGLLARPDPQATLNRPGPGPKPHPSLCFSPQDVPVLPHHQDLLPALRPEPRLCPG*GPRQEGGRRADQRRGARGRHAQRAVRPERPARRDGAFLAGQRITRVAGGVAQAAAAGLGPRPH*PSSLHSS*ATACW*PWPPTSPPSSPLRCTPPWTSSWLL*APC*PPNTVKLEPRWPCFLPLGPPPSPSSPSCTRTPVVFE*SLSGRH\n"
     ]
    }
   ],
   "source": [
    "from Bio import SeqIO\n",
    "record = SeqIO.read(\"Tp1SeqADN1.fasta\",\"fasta\")\n",
    "\n",
    "print(record.seq.translate())"
   ]
  },
  {
   "cell_type": "markdown",
   "metadata": {
    "colab_type": "text",
    "id": "eYIrw-JZlDYr"
   },
   "source": [
    "La secuencia traducida es igual para el programa traducir como para el módulo traducir de Biophyton, excepto que en el último indica dónde están los stop."
   ]
  },
  {
   "cell_type": "markdown",
   "metadata": {
    "colab_type": "text",
    "id": "ml2CFWt9NpSo"
   },
   "source": [
    "Objetivo 3) Hacer primeros programas bioinformáticos de análisis de secuencias y analizar los resultados."
   ]
  },
  {
   "cell_type": "markdown",
   "metadata": {
    "colab_type": "text",
    "id": "CcnwBFmtlnuk"
   },
   "source": [
    "3.1. Análisis de ditribución de Aminoácidos.\n",
    "\n",
    "a) Utilizando acceso vía Biopython, realice un programa que obtenga la secuencia de una (gen/rna) proteína y determine: i) frecuencia de aparición de cada aminoácido; ii) frecuencia de aparición de cada codon."
   ]
  },
  {
   "cell_type": "code",
   "execution_count": 68,
   "metadata": {
    "colab": {},
    "colab_type": "code",
    "id": "a-tLv1YWQhVx"
   },
   "outputs": [],
   "source": [
    "#Guarda el cofigo genetico sin STOPS\n",
    "GEN_CODE = {\n",
    "    'TTT': 'F', 'CTT': 'L', 'ATT': 'I', 'GTT': 'V', 'TTC': 'F', 'CTC': 'L', 'ATC': 'I', 'GTC': 'V',\n",
    "    'TTA': 'L', 'CTA': 'L', 'ATA': 'I', 'GTA': 'V', 'TTG': 'L', 'CTG': 'L', 'ATG': 'M', 'GTG': 'V',\n",
    "    'TCT': 'S', 'CCT': 'P', 'ACT': 'T', 'GCT': 'A', 'TCC': 'S', 'CCC': 'P', 'ACC': 'T', 'GCC': 'A',\n",
    "    'TCA': 'S', 'CCA': 'P', 'ACA': 'T', 'GCA': 'A', 'TCG': 'S', 'CCG': 'P', 'ACG': 'T', 'GCG': 'A',\n",
    "    'TAT': 'Y', 'CAT': 'H', 'AAT': 'N', 'GAT': 'D', 'TAC': 'Y', 'CAC': 'H', 'AAC': 'N', 'GAC': 'D',\n",
    "    'CAA': 'Q', 'AAA': 'K', 'GAA': 'E', 'CAG': 'Q', 'AAG': 'K', 'GAG': 'E', 'TGT': 'C', 'CGT': 'R',\n",
    "    'AGT': 'S', 'GGT': 'G', 'TGC': 'C', 'CGC': 'R', 'AGC': 'S', 'GGC': 'G', 'CGA': 'R', 'AGA': 'R',\n",
    "    'GGA': 'G', 'TGG': 'W', 'CGG': 'R', 'AGG': 'R', 'GGG': 'G'\n",
    "}\n",
    "\n",
    "\n",
    "#Define funcion leer_seq para separar en codones la secuencia\n",
    "def leer_seq(seq):\n",
    "    \"\"\" leer_seq recibe una secuencia de ADN seq, y devuelve una lista que contiene\n",
    "    listas con los codones.\"\"\"\n",
    "    codones = []\n",
    "    \n",
    "    for i in range(0, len(seq), 3):\n",
    "        codones.append(seq[i:i + 3])\n",
    "    # print(codones)\n",
    "    return codones\n",
    "\n",
    "#Calcula la frecuencia de codones de una secuencia de un gen (ADN)\n",
    "def freq_codones(codones):\n",
    "    codon_freq = {}\n",
    "    for key in GEN_CODE:\n",
    "        if key in codones:\n",
    "            freq = codones.count(key)/len(codones)\n",
    "            codon_freq[key] = freq\n",
    "            # print(codon_freq)\n",
    "    return codon_freq\n",
    "\n",
    "#Traduce a proteina y calcula la frecuencia de aminoacidos en una secuencia de un gen (ADN)\n",
    "def freq_amino(codones):\n",
    "    peps = []\n",
    "    for codon in codones:\n",
    "      if codon in GEN_CODE.keys():\n",
    "        peps += GEN_CODE[codon]\n",
    "    \n",
    "    amino_freq = {}\n",
    "    for amino in peps:\n",
    "        freq = peps.count(amino)/len(peps)\n",
    "        amino_freq[amino] = freq\n",
    "        # print(amino_freq)\n",
    "    \n",
    "    return amino_freq"
   ]
  },
  {
   "cell_type": "code",
   "execution_count": 69,
   "metadata": {
    "colab": {
     "base_uri": "https://localhost:8080/",
     "height": 34
    },
    "colab_type": "code",
    "id": "yqf6K_MM9dFW",
    "outputId": "35b7027b-3d27-4ebf-f9c3-1e75cdbd38f6"
   },
   "outputs": [
    {
     "name": "stdout",
     "output_type": "stream",
     "text": [
      "['ATG', 'TGG']\n"
     ]
    }
   ],
   "source": [
    "print(leer_seq(\"ATGTGG\"))"
   ]
  },
  {
   "cell_type": "code",
   "execution_count": 70,
   "metadata": {
    "colab": {
     "base_uri": "https://localhost:8080/",
     "height": 34
    },
    "colab_type": "code",
    "id": "h33Z7NPM-A1v",
    "outputId": "dd48c621-6cd7-441a-9f3a-f6a9cc4e6211"
   },
   "outputs": [
    {
     "name": "stdout",
     "output_type": "stream",
     "text": [
      "{'ATG': 0.3333333333333333, 'TGG': 0.6666666666666666}\n"
     ]
    }
   ],
   "source": [
    "print(freq_codones(leer_seq(\"ATGTGGTGG\")))"
   ]
  },
  {
   "cell_type": "code",
   "execution_count": 71,
   "metadata": {
    "colab": {
     "base_uri": "https://localhost:8080/",
     "height": 34
    },
    "colab_type": "code",
    "id": "8QDISiDO_a59",
    "outputId": "9df5adae-61b0-4798-8caa-66c6a332281f"
   },
   "outputs": [
    {
     "name": "stdout",
     "output_type": "stream",
     "text": [
      "{'M': 0.3333333333333333, 'W': 0.6666666666666666}\n"
     ]
    }
   ],
   "source": [
    "print(freq_amino(leer_seq(\"ATGTGGTGG\")))"
   ]
  },
  {
   "cell_type": "code",
   "execution_count": 72,
   "metadata": {
    "colab": {
     "base_uri": "https://localhost:8080/",
     "height": 71
    },
    "colab_type": "code",
    "id": "qt0lBeZgAD8C",
    "outputId": "8f9e53f1-2eb3-4725-9e4a-b679328cc732"
   },
   "outputs": [
    {
     "name": "stdout",
     "output_type": "stream",
     "text": [
      "NM_000169.3\n",
      "ATGCTGTCCGGTCACCGTGACAATGCAGCTGAGGAACCCAGAACTACATCTGGGCTGCGCGCTTGCGCTTCGCTTCCTGGCCCTCGTTTCCTGGGACATCCCTGGGGCTAGAGCACTGGACAATGGATTGGCAAGGACGCCTACCATGGGCTGGCTGCACTGGGAGCGCTTCATGTGCAACCTTGACTGCCAGGAAGAGCCAGATTCCTGCATCAGTGAGAAGCTCTTCATGGAGATGGCAGAGCTCATGGTCTCAGAAGGCTGGAAGGATGCAGGTTATGAGTACCTCTGCATTGATGACTGTTGGATGGCTCCCCAAAGAGATTCAGAAGGCAGACTTCAGGCAGACCCTCAGCGCTTTCCTCATGGGATTCGCCAGCTAGCTAATTATGTTCACAGCAAAGGACTGAAGCTAGGGATTTATGCAGATGTTGGAAATAAAACCTGCGCAGGCTTCCCTGGGAGTTTTGGATACTACGACATTGATGCCCAGACCTTTGCTGACTGGGGAGTAGATCTGCTAAAATTTGATGGTTGTTACTGTGACAGTTTGGAAAATTTGGCAGATGGTTATAAGCACATGTCCTTGGCCCTGAATAGGACTGGCAGAAGCATTGTGTACTCCTGTGAGTGGCCTCTTTATATGTGGCCCTTTCAAAAGCCCAATTATACAGAAATCCGACAGTACTGCAATCACTGGCGAAATTTTGCTGACATTGATGATTCCTGGAAAAGTATAAAGAGTATCTTGGACTGGACATCTTTTAACCAGGAGAGAATTGTTGATGTTGCTGGACCAGGGGGTTGGAATGACCCAGATATGTTAGTGATTGGCAACTTTGGCCTCAGCTGGAATCAGCAAGTAACTCAGATGGCCCTCTGGGCTATCATGGCTGCTCCTTTATTCATGTCTAATGACCTCCGACACATCAGCCCTCAAGCCAAAGCTCTCCTTCAGGATAAGGACGTAATTGCCATCAATCAGGACCCCTTGGGCAAGCAAGGGTACCAGCTTAGACAGGGAGACAACTTTGAAGTGTGGGAACGACCTCTCTCAGGCTTAGCCTGGGCTGTAGCTATGATAAACCGGCAGGAGATTGGTGGACCTCGCTCTTATACCATCGCAGTTGCTTCCCTGGGTAAAGGAGTGGCCTGTAATCCTGCCTGCTTCATCACACAGCTCCTCCCTGTGAAAAGGAAGCTAGGGTTCTATGAATGGACTTCAAGGTTAAGAAGTCACATAAATCCCACAGGCACTGTTTTGCTTCAGCTAGAAAATACAATGCAGATGTCATTAAAAGACTTACTTTAAAATGTT\n"
     ]
    }
   ],
   "source": [
    "from Bio import Entrez\n",
    "from Bio import SeqIO\n",
    "\n",
    "# Descarga el fasta para el accesion NM_000169.3 de NCBI Nucleotide\n",
    "# https://www.ncbi.nlm.nih.gov/nuccore/NM_000169.3\n",
    "Entrez.email = \"blah@blah.com\"\n",
    "handle = Entrez.efetch(db=\"nucleotide\", id=\"NM_000169.3\", rettype=\"fasta\", retmode=\"text\")\n",
    "\n",
    "records = list(SeqIO.parse(handle, \"fasta\"))\n",
    "id = records[0].id\n",
    "seq = records[0].seq\n",
    "print(id)\n",
    "print(seq)"
   ]
  },
  {
   "cell_type": "code",
   "execution_count": 73,
   "metadata": {
    "colab": {
     "base_uri": "https://localhost:8080/",
     "height": 54
    },
    "colab_type": "code",
    "id": "PeVooKcgCUzB",
    "outputId": "3fabd2e0-8fba-4c8f-a7af-1f095b07acab"
   },
   "outputs": [
    {
     "name": "stdout",
     "output_type": "stream",
     "text": [
      "{'TTT': 0.015909090909090907, 'CTT': 0.03409090909090909, 'ATT': 0.00909090909090909, 'GTT': 0.006818181818181818, 'TTC': 0.013636363636363636, 'CTC': 0.00909090909090909, 'ATC': 0.0022727272727272726, 'GTC': 0.006818181818181818, 'TTA': 0.020454545454545454, 'CTA': 0.004545454545454545, 'ATA': 0.0022727272727272726, 'GTA': 0.00909090909090909, 'TTG': 0.006818181818181818, 'CTG': 0.05227272727272727, 'ATG': 0.004545454545454545, 'GTG': 0.00909090909090909, 'TCT': 0.011363636363636364, 'CCT': 0.025, 'ACT': 0.011363636363636364, 'GCT': 0.031818181818181815, 'TCC': 0.013636363636363636, 'CCC': 0.01818181818181818, 'ACC': 0.006818181818181818, 'GCC': 0.011363636363636364, 'TCA': 0.029545454545454545, 'CCA': 0.013636363636363636, 'ACA': 0.011363636363636364, 'GCA': 0.015909090909090907, 'TCG': 0.006818181818181818, 'CCG': 0.006818181818181818, 'ACG': 0.0022727272727272726, 'GCG': 0.006818181818181818, 'TAT': 0.013636363636363636, 'CAT': 0.04090909090909091, 'AAT': 0.011363636363636364, 'GAT': 0.020454545454545454, 'TAC': 0.00909090909090909, 'CAC': 0.00909090909090909, 'AAC': 0.004545454545454545, 'GAC': 0.013636363636363636, 'CAA': 0.022727272727272728, 'AAA': 0.025, 'GAA': 0.022727272727272728, 'CAG': 0.015909090909090907, 'AAG': 0.01818181818181818, 'GAG': 0.00909090909090909, 'TGT': 0.020454545454545454, 'CGT': 0.006818181818181818, 'AGT': 0.013636363636363636, 'GGT': 0.004545454545454545, 'TGC': 0.025, 'CGC': 0.006818181818181818, 'AGC': 0.013636363636363636, 'GGC': 0.029545454545454545, 'CGA': 0.0022727272727272726, 'AGA': 0.03636363636363636, 'GGA': 0.031818181818181815, 'TGG': 0.031818181818181815, 'AGG': 0.02727272727272727, 'GGG': 0.015909090909090907}\n"
     ]
    }
   ],
   "source": [
    "print(freq_codones(leer_seq(seq)))"
   ]
  },
  {
   "cell_type": "code",
   "execution_count": 74,
   "metadata": {
    "colab": {
     "base_uri": "https://localhost:8080/",
     "height": 54
    },
    "colab_type": "code",
    "id": "w-8QIjH2C3Ao",
    "outputId": "99692d20-f204-492f-c1cd-762c742f6380"
   },
   "outputs": [
    {
     "name": "stdout",
     "output_type": "stream",
     "text": [
      "{'M': 0.004878048780487805, 'L': 0.13658536585365855, 'S': 0.0951219512195122, 'G': 0.08780487804878048, 'H': 0.05365853658536585, 'R': 0.08536585365853659, 'D': 0.036585365853658534, 'N': 0.01707317073170732, 'A': 0.07073170731707316, 'E': 0.03414634146341464, 'P': 0.06829268292682927, 'T': 0.03414634146341464, 'C': 0.04878048780487805, 'F': 0.03170731707317073, 'W': 0.03414634146341464, 'Q': 0.041463414634146344, 'I': 0.014634146341463415, 'K': 0.046341463414634146, 'Y': 0.024390243902439025, 'V': 0.03414634146341464}\n"
     ]
    }
   ],
   "source": [
    "print(freq_amino(leer_seq(str(seq))))"
   ]
  },
  {
   "cell_type": "code",
   "execution_count": 75,
   "metadata": {
    "colab": {
     "base_uri": "https://localhost:8080/",
     "height": 389
    },
    "colab_type": "code",
    "id": "Ls8EFF8LDm8g",
    "outputId": "11027706-786d-4dd7-9b7e-3c4fb0e488de"
   },
   "outputs": [
    {
     "data": {
      "text/plain": [
       "<matplotlib.axes._subplots.AxesSubplot at 0x7fb13f2f46a0>"
      ]
     },
     "execution_count": 75,
     "metadata": {},
     "output_type": "execute_result"
    },
    {
     "data": {
      "image/png": "[encoded data removed]",
      "text/plain": [
       "<Figure size 2160x504 with 1 Axes>"
      ]
     },
     "metadata": {
      "needs_background": "light"
     },
     "output_type": "display_data"
    }
   ],
   "source": [
    "import seaborn as sns\n",
    "import matplotlib.pyplot as plt\n",
    "import pandas as pd\n",
    "\n",
    "fc = freq_codones(leer_seq(seq))\n",
    "\n",
    "df = pd.DataFrame({\"codon\": list(fc.keys()), \"prob\": list(fc.values())})\n",
    "\n",
    "f, ax = plt.subplots(figsize=(30, 7))\n",
    "\n",
    "ax = sns.barplot(x=\"codon\", y=\"prob\", data=df)\n",
    "ax"
   ]
  },
  {
   "cell_type": "code",
   "execution_count": 76,
   "metadata": {
    "colab": {
     "base_uri": "https://localhost:8080/",
     "height": 459
    },
    "colab_type": "code",
    "id": "JlBI1YRdEpFX",
    "outputId": "7a57ca11-2760-493d-bab5-70961e381b91"
   },
   "outputs": [
    {
     "data": {
      "text/plain": [
       "<matplotlib.axes._subplots.AxesSubplot at 0x7fb13f0eadc0>"
      ]
     },
     "execution_count": 76,
     "metadata": {},
     "output_type": "execute_result"
    },
    {
     "data": {
      "image/png": "[encoded data removed]",
      "text/plain": [
       "<Figure size 720x504 with 1 Axes>"
      ]
     },
     "metadata": {
      "needs_background": "light"
     },
     "output_type": "display_data"
    }
   ],
   "source": [
    "fc = freq_amino(leer_seq(seq))\n",
    "\n",
    "df = pd.DataFrame({\"aa\": list(fc.keys()), \"prob\": list(fc.values())})\n",
    "\n",
    "f, ax = plt.subplots(figsize=(10, 7))\n",
    "\n",
    "ax = sns.barplot(x=\"aa\", y=\"prob\", data=df)\n",
    "ax"
   ]
  },
  {
   "cell_type": "markdown",
   "metadata": {
    "colab_type": "text",
    "id": "AYq-gbdhQhyf"
   },
   "source": [
    "b) Obtenga de una base de datos primaria una lista de proteínas, y utilizando el código anterior obtenga la estadística correspondiente. Cómo puede evaluar si su distribución se encuentra convergida? Que pasa si realiza el análisis para todas proteínas de la misma familia. "
   ]
  },
  {
   "cell_type": "markdown",
   "metadata": {
    "colab_type": "text",
    "id": "6g8AbdOuV-4I"
   },
   "source": [
    "## Convergencia en función de la cantidad de secuencias"
   ]
  },
  {
   "cell_type": "code",
   "execution_count": 77,
   "metadata": {
    "colab": {
     "base_uri": "https://localhost:8080/",
     "height": 609
    },
    "colab_type": "code",
    "id": "4XPEqkLTQkSx",
    "outputId": "b45fd7fb-8f1f-4604-d07d-585de0f5a716"
   },
   "outputs": [
    {
     "data": {
      "text/plain": [
       "<matplotlib.axes._subplots.AxesSubplot at 0x7fb13c8f2190>"
      ]
     },
     "execution_count": 77,
     "metadata": {},
     "output_type": "execute_result"
    },
    {
     "data": {
      "image/png": "[encoded data removed]",
      "text/plain": [
       "<Figure size 1080x720 with 1 Axes>"
      ]
     },
     "metadata": {
      "needs_background": "light"
     },
     "output_type": "display_data"
    }
   ],
   "source": [
    "#Codigo basado en lo explicado en clase y comentado por el grupo\n",
    "from Bio import SeqIO\n",
    "from Bio.SeqUtils.ProtParam import ProteinAnalysis \n",
    "import pandas as pd\n",
    "import matplotlib.pyplot as plt\n",
    "\n",
    "#Leo la familia de proteinas descargada de PFAM\n",
    "file = \"PF12891_seed.txt\"\n",
    "record = SeqIO.parse(file, \"fasta\")\n",
    "\n",
    "#Con ProteinAnalysis genera una tabla con a aparicion de todos los aminoacidos en cada uno de los registros\n",
    "#de la familia y genera un data.frame \n",
    "aa = [ProteinAnalysis(str(seq_record.seq)).count_amino_acids() for seq_record in record]\n",
    "df_raw = pd.DataFrame(aa)\n",
    "#print(df_raw)\n",
    "\n",
    "#Mezcla el orden de las filas y sumoa la cantidad de aminoacidos que hay en cada registro\n",
    "df_raw = df_raw.sample(frac=1).reset_index(drop=True)\n",
    "aasum_row = df_raw.cumsum().sum(axis=1)\n",
    "#print(aasum_row)\n",
    "\n",
    "#Calcula la proporcion de cada aminoacido en cada una de las proteinas\n",
    "df = df_raw.cumsum().div(aasum_row, axis=0)\n",
    "#print(df)\n",
    "\n",
    "#Grafico la proporcion de cada aminoacido en cada registro\n",
    "f, ax = plt.subplots(1, 1, figsize = (15,10))\n",
    "df.plot(ax=ax)"
   ]
  },
  {
   "cell_type": "markdown",
   "metadata": {
    "colab_type": "text",
    "id": "fbe_Uw-IWKUp"
   },
   "source": [
    "## Convergencia en función de la longitud"
   ]
  },
  {
   "cell_type": "code",
   "execution_count": 78,
   "metadata": {
    "colab": {
     "base_uri": "https://localhost:8080/",
     "height": 615
    },
    "colab_type": "code",
    "id": "4J_41ThrIPmL",
    "outputId": "effdf9c9-5749-4d21-909f-8e5fae8ca4c9"
   },
   "outputs": [
    {
     "name": "stdout",
     "output_type": "stream",
     "text": [
      "FSNAGSDWLHYSDTYLLEDGGVPKGEWSTPASVVTTFHDKALSKNVPYTLITLQAAGYVSADGNGPVSQEETAPSSRWKEVKFEKGAPFSLTPDTEDDYVYMDEFVNYLVNKYGNASTPTGIKGYSIDNEPALWSHTHPRIHPDNVTAKELIEKSVALSKAVKKVDPYAEIFGPALYGFAAYETLQSAPDWGTEGEGYRWFIDYYLDKMKKASDEEGKRLLDVLDVHWYPEA\n",
      "ASNAGSDYIHSSDNYLVEYIGVPREDSEKPGAVATTFHDQSLAQNVPYTLLTLQAAGYVSADKYGEVKPKDAAPSERWKEVKFAKNAPFSLTPDLTDDYVYMDEFVNFLVNKYGSASSPTGVKGYSVDNEPALWAHTHSRVHPDPVTCEELVEKTAELSKAVKNVDPDAEIFGPALYGFAAYLSLQSAPDWEAGLKDNYDWFVDYYLEKMKEKSDEAGMRLLDVFDIHYYPEA\n",
      "DSNAGTDWKNESDNYWLTLYDVPKEKYNEPASVYTAFHDKSLAMGVPYSLVTLQAGGYVAADQSGPLANTDVAPSSKWKKVEFNKNGPLSLTPDTTDGSVYMDEFVNYLVNKYGSASGSKGIKGYSLDNEPSLWPSTHPLIHPDKTKCSEVLDKDTQLAQVVKKIDPAAETFGPALFGFSAFNDFNSSPDWSSVKGNYQWFIDYYLDNMKKNSDAAGKRLLDALDLHWYPEA\n",
      "YSNAGSDWQQSSDTYMLTSNKIPEDKWSEPGVVITDFHDKNLAAGEPYSLVTLQAAGYVSADANGTVAEDEVAPSERWKEVKFKKDAPLSLTPDTTDNYVYMDELVNLLVNKYGSASTATGIKGYAIDNEPALWSGTHPRMHPNNATCAEVIDKNINLAKTVKGVDPSAETFGLVAYGFAAYNDFQSATDWKDLKGNYTWFLDYYLDSMKKASTEAGTRLIDALDLHWYPEA\n",
      "FSSAGSDWKQSSDTYLLSNGNIPEARWSEPGVVATDFHDKNLSAGESYSIVSLQAAGYVVADGNGTVAESEAAPSARWKEVKFKKNAPFSLTPDTTDNYVYMDEYVNFLVNKYGNASTATGIKGYSLDNEPALWPGTHPRIHPQQPTCAEIVDKNINLAKAVKSVDPYAETYGLVAYGFAEYNNFQSAKDWDSVKGSYNWFLDYYLDSMKKASDAEGKRLIDDLDLHWYPEA\n",
      "MSNAGSDWKNMSDMNLISSAAEQFRRVPGGAALNASYEAQNGNVPYTLLTLQMLGYVASSKKGQVNEDMAAPSEYWKKVVNRKNGELSSEPDKKDDYVYTDEYLNYLIEKIGKSDSETGFKAYALDNEPALWHSTHSRVQTEPLKCSELIEKSVDLASLVKETDSGAEVFGPSLFGYSAYDSLAGAPDWAELKAANNYRWFIDYYLDEMHKAESESGTRLLDVLDIHYYTEA\n",
      "YSNAGHDWINSSDTNIGDDSDGPGYAARRLSESCQKYNVPYKMTTLQMAGYVAADKAGTVEDIQAAPSSRWDKVEFQKNGELSLTPDTTDGTVYMDEYVNYLVQTLGNSATASGIQGYNLDNEPVLWNQTHPLIHAETVSNNELISKTIALSRVVKSIDPNAEVYGPAFWGILPCIQAGNSTEYTDPEWDAVKNDYTWYMDFYLKQMADAEETYGTRLLDAVDVHYYAQ\n",
      "YSNAGEDWHNSSDTNIGDDTDGCGYAGRRLSATCQKNNIPYKMTTLQMAGYVAADKAGTVLESEAAPSSRWKEVKFKKDTALTLEPDVTDDYVYMDEYVNYLVKTLGDSTTSTGIQAYSLDNEPVLWNDTHPLLHSKEVSSSELISKSIELANVVKEIDPNAEVFGPAFWGMLPCINGSNSASDKNNNVYTDPDYDAVKGNYSWFMDYYLEQMANAEKESGKRLLDVVDVHFYSQ\n",
      "MSNAGSDWQQSSDNFLCNNGGLTGAECEKPGAVTTSFHDQSLKLGAYSLVTLPMAGYVAKDGNGSVQESEKAPSARWNQVINAKNAPFQLQPDLNDNRVYADEFVHFLVNKYGAASTKTGVKGYALDNEPALWSHTHPRIHGEKVGAKELVDRSVSLSKAVKAVDAGAEIFGPVLYGFGAYKDLQTAPDWDSVKGSYSWFVDYYLDQMRLSSQAEGKRLLDVFDVHWYPEA\n",
      "ASNAGRDWNYQNDDYLGGGTTPGEAVRVRVDGAAARGAGTIVTVPMIGYVARDMDETSVGTDPTTLHARLAARFVRSLPSKRGTLALAPDVDDSAVYQDEFVYWLTHRAPRVARSDTTPLFFALDNEPDVWGATHEEIMPKVGGKMATLTYDEFIDRTISYARAVKAVAPDALVFGPGTATWTGATTFARYPTPDPKYGRQDFLDVYLDRMRDAERAGGRRLLDVLDLHWYPEI\n",
      "NTSSAADWYFQNRGMGDTALYQDSKTFVQTIANAGAAPVMTIPMLGWVSKDATSYSFSVKTFGAQCGINPYNSDDGNGVKSDCATNLTGVNPTWTSVKFLDSPKTGDPAGSIYLSEWATALSPLFGNFGHFYEMDNEMDIWGGTHRDIHPNPAGYNEMRDVFLQHARALKTFDTKAIRMGPVSCCWWFYFNGANNNDKGNHAGIDFMPWWLNEIYWADLNGTTGRSLDVFDFHAYPDT\n",
      "KMTVHPDWYNNVYSHDWAITAQKVLDKMPGVDAMYAFQLTGYAASSTDYNFPDWNWKQEHGTYATQTFDLAGGGEVSEDGKTLIKAGDPSLYNMEWPADSTVAIIPHWKDELKFDMSRFKYWSMDNEMEIWRGTHNDLDLPVTGDFLVERYIDVAKKARAAWGDIKLTGPVAANEWQWCSVSSYNKEDRPKGEDRNYCWLEYFIMKVAEEQKKSGVRLLDVFDIHWYPTE\n",
      "ISSHPDWYNNVYSSDWDFAAQSLHQNLPAAQGMWGFQLIGQAASNTANNFNDWGYNNSQWWSGVNQNLAGGGVVNTAGGSQALTNGDPTKYLEPWTADSTTGILTHWFGNGGLGLDAAHIRYWNMDNEVEIWSGTHDDVMPVQPDAETFMQLYFAVAKKARALFPGIKLTGPVSPNEWQWFNFGGAPVTGSDGKRYPWLQYFIKRVAEEEQSTGIRLLDVIDLHFYPGS\n",
      "FTNAANDWFFENRKADGGNADSWIAWIKAAGSQAMMTIPALDWVAKDATSYSYPKSIYPNQQRFDPYNADAGNGLYPNGSYIQPPPDPNRAYVPWNTTAAKKWLTGLTNKPDFVFIDNEIEIAHSTHQDIHPQPMSYDEELDRMVTYAKMAKEALPNAKVAAPSSCSWWFYWTSAVGYSDNAAHWNIDFLPWFLSQMKTASTTAGKRLLDYLDIHYYFQ\n",
      "TNAGADWYFENRGSTDGTAEDWLAWVQGAGSDALLTVPALDWVSKDSTSYSYPVSIYGEQADTDPFNSDAGNGLFPNGSAVAPPDPTTVYTGWNTSLAQTWLKGLANKPLMVAIDNEIEIASSTHRDMHPDPMSYDEELDRVVRFATTAKEAIPDILVVAPSTCCWWFYWTTTVGWDDTTAHNNTDFLPWFLGQMKAVEATTGKRLLDYLDIHYYF\n",
      "FTNAGSDWFFENRGNEKSDDWIGWIHEAGSDAIMTVPALDWVAKDATSYSYPRSIYPEQERFNPYNPDSGNGRFPNGTNLSPPTDPNRAYTPWNTTQATTWLSQLKNKPKFATIDNEIEIAAHTHTDMHPEPMSYDEELDRVTRFALATKEALPDVKVLAPSPCSWWFYWTSAIGWSDTEAHNNTDFLPWFLQQMRDLEGQHGKRLLDYLDIHYYFQ\n",
      "ADNRGSDWFFQSIADTSAVAGERGDTFFSTAKTAGAQALITIPMVPYIANLASGRNKLWSFSKAKYGNQTAYDSFNPDSGNGISTASGNPYITGNNPLDANVANSVATQTAWVNHLIATWGSSSAGGVKYYIMDNEPALWNSTHRDVHPAGETYDEILNLYKTYALAIRNADANAQIVGPEEWGWTGYFYSGSDAAWANTHGWGGPFPDKSAHGNMDHIPWLLQQLKAYQTSSGKQLLNVFSLHYYPQQ\n",
      "IHNTAQDWFFMNIPDEIESGQILPNGSAATMFMDTANKHGSKLMLTASLIGYTPLDDRSKKWGFSVAKYGSQLETECTRTGFPSWCMGDAGNGKKTGNIYVTGNDPAETSKVIDENYVVNWIKYMKSRGTPVKLWSLDNEMDLWHSTHHDVHPNPITYDEMWTLTEKYAKAIKTEDSTIKTFGPNSWGHCGYYYSPADGCSSGADRQAHSNLPLIDYYLTKVCEYKKNTGILLVDYLDIHYYPQA\n",
      "IHNTAQDWYYMNIPDSVQSGKTLPDGSTATVFVDTSNKYSSKAMLTASLIGYTPLDDRVKKWGFSVAKYGNQLETECNGSNGASWCMSDAGNGKISSTTYITSNSPSDTSKTIDETYVRNWIKFMKSRNTPVKFWSLDNEMDLWHSTHRDVHPNKVTYDEMWTLTQKYAAAIKAEDSTITTFGPASWGHCGYYYSPTDGCSSGSDRKAHSDMPLLDYYLSKVCEYKKSNGVLLVDYLDVHYYPQA\n",
      "ASNAGADWFFMAGNGKDNPVPGQSSDEYVQKALSIGASPIITIPIIQYINKVSQWDCSFPVSIFGPQQAVNPYVHPIVNGKQTDAGNGIRPDGSLITLTTDQILRIHIVNTPDFQKTWIRHLVQKFGTAAHGGVPIYQMDNEPFGWSNTHRDVHPQQPTYTEIVERTIPFAKAVKEIDPTAKVLGPGDFGYAAYRGSPEKNPGNLWNVQYYLQALHQASEQAGVRLLDYLDEHYYPTK\n",
      "SSNSGDDFFFVGGGDNKNPVPGDSIDKIVKTNRQNGSKSIVTIPMIGYVNKFSTWNCGFRVSKYGPQEKTNPHIFPEGDKCGNGKRPDGTLITDNNRLDVSITSNPEFQKAWVQHLVKTHGTAANGGVQIYQMDNEPSGWGNTHRDVHPEATSYDELRDRTYQYASMVKATDPTAKVLGPSDFGWPVYVDSLVKGDREKHGGVWLARWYLQQMRAYEQQKGVRILDYFDEHYYPAA\n",
      "YNTGKDWYFENIPRDNPDRSQLPNNSAADRFIQRNKAAGTESFITVPIIGWVAKAKAKTENDPNPLGHPYNCGFKVSKYGEQQSTDPYDPDCGNGIRRSDSSRITGNDPTDTSIAVGPDFIRRWVAHLVKKFGNASAGGVRFYGLDNEPGIWFETHRDVYPGYLSYEELLQRNIDYAAAIRQADPNAQILGPVQDGWTRYFYSSYGSYPDKTAEADRKAHNGQAFVAWYLTQLYAHDQQSGKRTIDYLNLHYYPQA\n",
      "NTNRASDWYFENIDEATPDPAALPDGSVTDLTHERNVRTGSKSLFTVPLIGWVPKARGKACGFSVAKYGPQQSTDSWAPDCGNGVRPDGTNVTGNDPHDTSVEAGAQYVEDWIHHLTGKYGTAAGGGVRYYDLDNEPDLWQHTHRDVHPQGAGAVELRDRTYDIGAAVKAADPSAKTMGPVGWGYMSLLHSGLGDADRPNHGGVDFGEWYLAQMRAYEQQHGVRILDYYDNHIYPQQ\n",
      "AYNAGSDWYFENLYYENGTAQLPDGSEADKFVDQNRRTGTDTILTVPMVGSTTAARNAACGFSIAKYGPQKGSDAQWRPDCGNGVKSDDTNVTGNDPADTSVAAGPEFTKGWVEYLNRAYGSADAGGVRFYNLDNEPDLWFTTHRDVHPAGAGYDEIRDSTYATAAAIKEADPGAQTLGPVGWGLNSLIYSGLDQKTCNEKGGDCWSNPPDRAAHGGQQFAPWYLQQMKAYEQSHGRRILDYFDNHIYPQQ\n",
      "TYNTGSDWYFENIVAGPDNTLEAFVRTNLQRGTKQVVTVPMSGWVAKDSPDQHPFACGFPAARFPQQDSFDQWDPACGNGKHGGVDLTGADPTDTSIPADASFDGAMVSHLVSQFGTAAHGGVPIYELDNEPVLWSSTHRDVHPDPVTYDELGTKGTATATAIKAADPSAAVLGPSGWGYCEWVASGLDGCSPGADAAAHGGLNLSQWYLKTMKDHSDARGGKRLLDYFDQHYYPQI\n",
      "TWNTANDWYFENVAGCWPGCSAPPAEPAQAYRRIIDGDQATGAQTLLTLPMVGWVAKQAAYSQPLPCSYPIGDFPSQESFDRWNGVCGNGRDTARNPLTANPALANEPSDERLSAAWIADIRARYGAGAVRFYGLGNEPGLWDETHRDVHPAPTTSAELLSRSIALAAAVKDGDPGAQVLGFSEWGWPNYFKSAAEEAGRPDPAKPAGVAMAAWFLDGMRAAGEVRGERLLDYLDLHYYRQG\n",
      "AWNTGNDWYFRNVELGFGADDFLESNRKNNVQSALTLPLIGWVAKDTSSVGFPVSTFGPQQAQDDTEPAGGNGVRRDGTPLVPSAPTTTSVQAPPEFISEWVKSLKAAKRGVNMYILDNEPALWSSTHRDVHPDPLTYDELLKRTIEYGTAVRKADPEAVIAGPAEWGWTNYFWSAADFAPGRPPYTDRRAHGDVPLLPWYLRELRDHEKKTGVRLLDVVDVHFYPQT\n",
      "AWNTANDWYFRNTAPGDEPKFTYEEFLLSNRAHGVQSALTLPLIGWVAKDTSSVSFPTSKFKSQEKVAPEMPEAGNGKSPSGALLPPLPPEQTSVAAPPEFIAEWVRTMRQKDQGRGRSVQMYFLDNEPMLWNSTHRDVHPAPTTYDELLERTLSYGTAVRQADPEAVIAGPAEWGWTAYFRSAADVDKSRPADADRKAHGNVPLLPWYLRKLRDHQKKTGVRILDVLDVHFYPQG\n",
      "AWNTANDWFYQNVDIGLSYDDFLESNRKHGMTSALTVPILGWVAKDAKSVGFPVSRFGSQQQEDNGSGNGLARDGTPLKPGAPTLTSTEAPPEFIAEWIRAIRKKDQERGQRSVQTYILDNEPMLWNSTHRDVHPEPLSYDGLLERTIAYGTVVRKEDPEGLIAGPAEWGWTNYLWSAADFAPGKMPHSDRRAHGNMPLLPWYLRQLREHEKKTGVRLLDIVDLHFYPQT\n",
      "FSNAGSDWLNSSDTYMVPTGVDGSIPGITYTDFIDNDVAPGAKTLVTVQMAGYVSADGDGSVSEAEAAPSSRWVPVYPRKSSPFVLSPDLNDNAVYIDEMVNFLVDRYGRADQGGVHAYSLDNEPALWYHTHSLIHPEALGAAELVERSTATASAIKDVDPSAQIYGPALFGFGAYTDLVGAPDWASYSGAYPWYIDYYLDQMRIASGNEGKRLLDVLDLHWYSEA\n",
      "ASNAGKDWMHYSDNYLTMNIPESEENIPGKVVTNFKEHCITNNIPYSFVTVQMAGYVSKDKDGIVTEEETAPSSRWVKTINRNSEEYSSSPDLNDDYVYMDEFINFLLNKYGDASTINGIKGYCLDNEPGLWAETHPRIHPEKVKCSELIEKSTDTAKMIKDLDNSAETFGPILYGMTAYESLQEAPDWSEVKGDYDWFVDYYLDEMKKASDNDNRRLLDVFAFNYYSEA\n",
      "ASNAGSDWKHSSDNYLNMNRPYDTQNIPGEVVTNFHDEALKNGSTYSLATLQLAGYVAKDKNGSVSESEAAPSARWDQVKVRKGSAFSQTPDLTDNYVYMDEFVNSLISKYGKSDTATGIKGYSLDNEPGLWSGTHPRIHKDKVTCAELISKGTDYAKMVKDMDSKAEIFGPVLYGMGAYQSLQSAPDWDSVKGNYKWFPEYYLDNMKKASEKDGRRLLDVFDIHYYSEA\n",
      "MSNAGSDWDHSSDYYLPWVMGIPQDQYNVPAIVLTKFHDQSLSMGAISLVTLQMAGYVAKDANGAVSEDETAPSSRWAEVKFRKGVGFSLNPDTSDNYVYIDELLNYLISKYGKADTSTGIKGYLLDNEPDLWSSTHPRIHPNKVTCNELISKSIELAKVIKEMDPSALVFGYESYGFMGYYSLQDAPDWNSVKGSHEWFISYYLQRMKEASDSYGKRLLDVLSLHWYPEA\n",
      "ASNAGHDYRHQSDNYLTWVVGIPDSQANTPGIVMTHYHDQVLADSARYSIITVPMAGYVAADKINRGLFASEAAPSVRWVAVENTKPTALSLVPDVTDARVYSDEMVNFLVNRYGSASGPRGVKAYSLDNEPDLWSDGQYVNGQVALENNATHPLIHPAKPRAAELITRSVDLAKAIKRVDPAAEVVGFASYGFGGYSTFQSAPDWDTEKAKGSYRWFIDYFLDQMRQASTTAGVRLLDVMDLHNYSEA\n"
     ]
    }
   ],
   "source": [
    "import requests\n",
    "from Bio import SeqIO\n",
    "import io\n",
    "\n",
    "# Descargar FASTA que contiene las secuencias que componen el seed de la familia PF12891, sin alinear\n",
    "fasta_seed = requests.get(\"http://pfam.xfam.org/family/PF12891/alignment/seed/format?format=fasta&alnType=seed&order=t&case=l&gaps=none&download=0\").text\n",
    "records_seed = list(SeqIO.parse(io.StringIO(fasta_seed), \"fasta\"))\n",
    "\n",
    "#Calcula la frecuencia de aminoacidos en una secuencia de una proteina\n",
    "def freq_amino_prot(protseq):\n",
    "    protseq = str(protseq)\n",
    "    amino_freq = {}\n",
    "    for amino in \"ACDEFGHIKLMNPQRSTVWY\":\n",
    "        freq = protseq.count(amino)/len(protseq)\n",
    "        amino_freq[amino] = freq\n",
    "    \n",
    "    return amino_freq\n",
    "\n",
    "seqs_freq_amino = []\n",
    "seqs_concat = \"\"\n",
    "for record in records_seed:\n",
    "  for aa in record.seq:\n",
    "    # Cada aa de la secuencia la concateno en un string, y a la concatenada le voy\n",
    "    # calculando las proporciones, para despues ver como convergen los % en funcion del n\n",
    "    seqs_concat += aa\n",
    "    seqs_freq_amino.append(freq_amino_prot(leer_seq(seqs_concat)))\n",
    "  print(record.seq)\n"
   ]
  },
  {
   "cell_type": "code",
   "execution_count": 79,
   "metadata": {
    "colab": {
     "base_uri": "https://localhost:8080/",
     "height": 419
    },
    "colab_type": "code",
    "id": "8YSE4P-XLSyE",
    "outputId": "5f51962e-3d06-4d05-d7c0-9570a9eefd02"
   },
   "outputs": [
    {
     "data": {
      "text/html": [
       "<div>\n",
       "<style scoped>\n",
       "    .dataframe tbody tr th:only-of-type {\n",
       "        vertical-align: middle;\n",
       "    }\n",
       "\n",
       "    .dataframe tbody tr th {\n",
       "        vertical-align: top;\n",
       "    }\n",
       "\n",
       "    .dataframe thead th {\n",
       "        text-align: right;\n",
       "    }\n",
       "</style>\n",
       "<table border=\"1\" class=\"dataframe\">\n",
       "  <thead>\n",
       "    <tr style=\"text-align: right;\">\n",
       "      <th></th>\n",
       "      <th>n</th>\n",
       "      <th>aa</th>\n",
       "      <th>prob</th>\n",
       "    </tr>\n",
       "  </thead>\n",
       "  <tbody>\n",
       "    <tr>\n",
       "      <th>0</th>\n",
       "      <td>1</td>\n",
       "      <td>A</td>\n",
       "      <td>0.000000</td>\n",
       "    </tr>\n",
       "    <tr>\n",
       "      <th>1</th>\n",
       "      <td>1</td>\n",
       "      <td>C</td>\n",
       "      <td>0.000000</td>\n",
       "    </tr>\n",
       "    <tr>\n",
       "      <th>2</th>\n",
       "      <td>1</td>\n",
       "      <td>D</td>\n",
       "      <td>0.000000</td>\n",
       "    </tr>\n",
       "    <tr>\n",
       "      <th>3</th>\n",
       "      <td>1</td>\n",
       "      <td>E</td>\n",
       "      <td>0.000000</td>\n",
       "    </tr>\n",
       "    <tr>\n",
       "      <th>4</th>\n",
       "      <td>1</td>\n",
       "      <td>F</td>\n",
       "      <td>0.200000</td>\n",
       "    </tr>\n",
       "    <tr>\n",
       "      <th>...</th>\n",
       "      <td>...</td>\n",
       "      <td>...</td>\n",
       "      <td>...</td>\n",
       "    </tr>\n",
       "    <tr>\n",
       "      <th>159335</th>\n",
       "      <td>7967</td>\n",
       "      <td>S</td>\n",
       "      <td>0.031628</td>\n",
       "    </tr>\n",
       "    <tr>\n",
       "      <th>159336</th>\n",
       "      <td>7967</td>\n",
       "      <td>T</td>\n",
       "      <td>0.026841</td>\n",
       "    </tr>\n",
       "    <tr>\n",
       "      <th>159337</th>\n",
       "      <td>7967</td>\n",
       "      <td>V</td>\n",
       "      <td>0.025281</td>\n",
       "    </tr>\n",
       "    <tr>\n",
       "      <th>159338</th>\n",
       "      <td>7967</td>\n",
       "      <td>W</td>\n",
       "      <td>0.013770</td>\n",
       "    </tr>\n",
       "    <tr>\n",
       "      <th>159339</th>\n",
       "      <td>7967</td>\n",
       "      <td>Y</td>\n",
       "      <td>0.024420</td>\n",
       "    </tr>\n",
       "  </tbody>\n",
       "</table>\n",
       "<p>159340 rows × 3 columns</p>\n",
       "</div>"
      ],
      "text/plain": [
       "           n aa      prob\n",
       "0          1  A  0.000000\n",
       "1          1  C  0.000000\n",
       "2          1  D  0.000000\n",
       "3          1  E  0.000000\n",
       "4          1  F  0.200000\n",
       "...      ... ..       ...\n",
       "159335  7967  S  0.031628\n",
       "159336  7967  T  0.026841\n",
       "159337  7967  V  0.025281\n",
       "159338  7967  W  0.013770\n",
       "159339  7967  Y  0.024420\n",
       "\n",
       "[159340 rows x 3 columns]"
      ]
     },
     "execution_count": 79,
     "metadata": {},
     "output_type": "execute_result"
    }
   ],
   "source": [
    "ns, aas, probs = [], [], []\n",
    "for n, freqs in enumerate(seqs_freq_amino, 1):\n",
    "  for aa, freq in freqs.items():\n",
    "    ns.append(n)\n",
    "    aas.append(aa)\n",
    "    probs.append(freq)\n",
    "\n",
    "df = pd.DataFrame({\"n\": ns, \"aa\": aas, \"prob\": probs})\n",
    "df"
   ]
  },
  {
   "cell_type": "code",
   "execution_count": 80,
   "metadata": {
    "colab": {
     "base_uri": "https://localhost:8080/",
     "height": 520
    },
    "colab_type": "code",
    "id": "BIvY1nnIOH6R",
    "outputId": "8c6a6743-4758-4e7e-ada4-c5f2bc08e861"
   },
   "outputs": [
    {
     "data": {
      "text/plain": [
       "<matplotlib.axes._subplots.AxesSubplot at 0x7fb13a7e9040>"
      ]
     },
     "execution_count": 80,
     "metadata": {},
     "output_type": "execute_result"
    },
    {
     "data": {
      "image/png": "[encoded data removed]",
      "text/plain": [
       "<Figure size 2160x720 with 1 Axes>"
      ]
     },
     "metadata": {
      "needs_background": "light"
     },
     "output_type": "display_data"
    }
   ],
   "source": [
    "# Tarda un toque en plotearse\n",
    "\n",
    "f, ax = plt.subplots(figsize=(30, 10))\n",
    "ax = sns.lineplot(x=\"n\", y=\"prob\", hue=\"aa\", data=df)\n",
    "ax.set_xlim(0, 3000)\n",
    "ax"
   ]
  },
  {
   "cell_type": "markdown",
   "metadata": {
    "colab_type": "text",
    "id": "bdYtFyarQkj1"
   },
   "source": [
    "c) Obtenga para los conjuntos de proteínas anteriores el histograma de tamaños. Analice los resultados.\n",
    "\n",
    "Nota: para realizar análisis gráficos puede utilizar Plot.ly, una librera gráfica en python con gran capacidad. En la web hay tutoriales y ejemplos muy fáciles de copiar/implementar. \n"
   ]
  },
  {
   "cell_type": "code",
   "execution_count": 81,
   "metadata": {
    "colab": {
     "base_uri": "https://localhost:8080/",
     "height": 282
    },
    "colab_type": "code",
    "id": "meVGMzKEQpAq",
    "outputId": "56cd8ed8-4438-4849-9251-ad50cb7ba150"
   },
   "outputs": [
    {
     "data": {
      "text/plain": [
       "<matplotlib.axes._subplots.AxesSubplot at 0x7fb137e84af0>"
      ]
     },
     "execution_count": 81,
     "metadata": {},
     "output_type": "execute_result"
    },
    {
     "data": {
      "image/png": "[encoded data removed]",
      "text/plain": [
       "<Figure size 432x288 with 1 Axes>"
      ]
     },
     "metadata": {
      "needs_background": "light"
     },
     "output_type": "display_data"
    }
   ],
   "source": [
    "longitudes = [len(record.seq) for record in records_seed]\n",
    "sns.distplot(longitudes)"
   ]
  },
  {
   "cell_type": "markdown",
   "metadata": {
    "colab_type": "text",
    "id": "MX-p3KcvNyOh"
   },
   "source": [
    "3.2. Análisis de ORFs\n",
    "\n",
    "a) Realice un programa que dada una secuencia de ADN sea capaz de identificar los posibles ORFs (utilice en primer instancia un filtro por tamaño/longitud)\n"
   ]
  },
  {
   "cell_type": "code",
   "execution_count": 82,
   "metadata": {
    "colab": {
     "base_uri": "https://localhost:8080/",
     "height": 237
    },
    "colab_type": "code",
    "id": "dmtl2BEyhkJ4",
    "outputId": "cfa61507-20a1-487a-8a8e-f7da57b44ab4"
   },
   "outputs": [
    {
     "ename": "FileNotFoundError",
     "evalue": "[Errno 2] No such file or directory: 'genoma.txt'",
     "output_type": "error",
     "traceback": [
      "\u001b[0;31m---------------------------------------------------------------------------\u001b[0m",
      "\u001b[0;31mFileNotFoundError\u001b[0m                         Traceback (most recent call last)",
      "\u001b[0;32m<ipython-input-82-3f584ed2423a>\u001b[0m in \u001b[0;36m<module>\u001b[0;34m\u001b[0m\n\u001b[1;32m     75\u001b[0m \u001b[0;34m\u001b[0m\u001b[0m\n\u001b[1;32m     76\u001b[0m \u001b[0;31m# Abrir archivo con la secuencia\u001b[0m\u001b[0;34m\u001b[0m\u001b[0;34m\u001b[0m\u001b[0;34m\u001b[0m\u001b[0m\n\u001b[0;32m---> 77\u001b[0;31m \u001b[0mdna\u001b[0m \u001b[0;34m=\u001b[0m \u001b[0mopen\u001b[0m\u001b[0;34m(\u001b[0m\u001b[0;34m'genoma.txt'\u001b[0m\u001b[0;34m,\u001b[0m \u001b[0;34m'r'\u001b[0m\u001b[0;34m)\u001b[0m\u001b[0;34m.\u001b[0m\u001b[0mread\u001b[0m\u001b[0;34m(\u001b[0m\u001b[0;34m)\u001b[0m\u001b[0;34m.\u001b[0m\u001b[0mreplace\u001b[0m\u001b[0;34m(\u001b[0m\u001b[0;34m\"\\n\"\u001b[0m\u001b[0;34m,\u001b[0m \u001b[0;34m\"\"\u001b[0m\u001b[0;34m)\u001b[0m\u001b[0;34m\u001b[0m\u001b[0;34m\u001b[0m\u001b[0m\n\u001b[0m\u001b[1;32m     78\u001b[0m \u001b[0mdna_rev\u001b[0m \u001b[0;34m=\u001b[0m \u001b[0mrev_comp\u001b[0m\u001b[0;34m(\u001b[0m\u001b[0mdna\u001b[0m\u001b[0;34m)\u001b[0m\u001b[0;34m\u001b[0m\u001b[0;34m\u001b[0m\u001b[0m\n\u001b[1;32m     79\u001b[0m \u001b[0;34m\u001b[0m\u001b[0m\n",
      "\u001b[0;31mFileNotFoundError\u001b[0m: [Errno 2] No such file or directory: 'genoma.txt'"
     ]
    }
   ],
   "source": [
    "COMPLEMENT = {\n",
    "    'A': 'T',\n",
    "    'T': 'A',\n",
    "    'C': 'G',\n",
    "    'G': 'C',\n",
    "}\n",
    "\n",
    "GEN_CODE = {\n",
    "    'TTT': 'F', 'CTT': 'L', 'ATT': 'I', 'GTT': 'V', 'TTC': 'F', 'CTC': 'L', 'ATC': 'I', 'GTC': 'V',\n",
    "    'TTA': 'L', 'CTA': 'L', 'ATA': 'I', 'GTA': 'V', 'TTG': 'L', 'CTG': 'L', 'ATG': 'M', 'GTG': 'V',\n",
    "    'TCT': 'S', 'CCT': 'P', 'ACT': 'T', 'GCT': 'A', 'TCC': 'S', 'CCC': 'P', 'ACC': 'T', 'GCC': 'A',\n",
    "    'TCA': 'S', 'CCA': 'P', 'ACA': 'T', 'GCA': 'A', 'TCG': 'S', 'CCG': 'P', 'ACG': 'T', 'GCG': 'A',\n",
    "    'TAT': 'Y', 'CAT': 'H', 'AAT': 'N', 'GAT': 'D', 'TAC': 'Y', 'CAC': 'H', 'AAC': 'N', 'GAC': 'D',\n",
    "    'CAA': 'Q', 'AAA': 'K', 'GAA': 'E', 'CAG': 'Q', 'AAG': 'K', 'GAG': 'E', 'TGT': 'C', 'CGT': 'R',\n",
    "    'AGT': 'S', 'GGT': 'G', 'TGC': 'C', 'CGC': 'R', 'AGC': 'S', 'GGC': 'G', 'CGA': 'R', 'AGA': 'R',\n",
    "    'GGA': 'G', 'TGG': 'W', 'CGG': 'R', 'AGG': 'R', 'GGG': 'G'\n",
    "}\n",
    "\n",
    "START = ['ATG']\n",
    "STOP = ['TAG', 'TGA', 'TAA']\n",
    "\n",
    "\n",
    "def rev_comp(seq):\n",
    "    \"\"\" rev_comp recibe una secuencia de ADN seq, y devuelve el reverso complementario \"\"\"\n",
    "    rev_seq = \"\"\n",
    "    for base in seq:\n",
    "        rev_seq = COMPLEMENT[base] + rev_seq\n",
    "    return rev_seq\n",
    "\n",
    "\n",
    "def orfs(seq):\n",
    "    \"\"\" orfs recibe una secuencia de ADN seq, y devuelve una lista que contiene\n",
    "    listas con los codones de cada ORF en sus 3 marcos de lectura.\"\"\"\n",
    "    o = []\n",
    "\n",
    "    # Para cada indice/letra, tomar el slice de los tres caracteres siguientes,\n",
    "    # se recorren los 3 marcos de lectura.\n",
    "    #    AATGATCTAG\n",
    "    # 0: AAT\n",
    "    # 1:  ATG\n",
    "    # 2:   TGA\n",
    "    # 3:     ATC\n",
    "    # 4:      TCT\n",
    "    # 5:       CTA\n",
    "    # 6:        TAG\n",
    "    \n",
    "    for i in range(0, len(seq)):\n",
    "        codon = seq[i:i + 3]\n",
    "        if codon == \"ATG\":\n",
    "            # Llegué a un START\n",
    "            current_orf = []\n",
    "            found_stop = False\n",
    "\n",
    "            # Para el ciclo de adentro uso otro indice j, que inicialmente\n",
    "            # toma el mismo que el valor de i, el indice donde fue hallado\n",
    "            # un START. Entonces se contempla el marco de lectura en donde fue \n",
    "            # encontrado el codón START.\n",
    "            j = i\n",
    "\n",
    "            # Mientras no haya STOP y no haya llegado al final de la secuencia\n",
    "            # agregar a una lista nueva los codones siguientes\n",
    "            while not found_stop and j < len(seq):\n",
    "                codon_orf = seq[j:j + 3]\n",
    "                if codon_orf in STOP:\n",
    "                    found_stop = True\n",
    "                else:\n",
    "                    current_orf.append(codon_orf)\n",
    "\n",
    "                j += 3\n",
    "\n",
    "            if found_stop:\n",
    "                o.append(current_orf)\n",
    "\n",
    "    return o\n",
    "\n",
    "# Abrir archivo con la secuencia\n",
    "dna = open('genoma.txt', 'r').read().replace(\"\\n\", \"\")\n",
    "dna_rev = rev_comp(dna)\n",
    "\n",
    "seqs = [dna, dna_rev]\n",
    "\n",
    "# Lista de listas de codones por ORF\n",
    "orfs_codons = []\n",
    "for seq in seqs:\n",
    "    orfs_codons += orfs(seq)\n",
    "\n",
    "# En cada ORF, para cada codon obtener de GEN_CODE el aminoacido\n",
    "# correspondiente y de la lista de aminoacidos resultante, unirlos en una cadena\n",
    "# (se puede hacer lo mismo con mas lineas de codigo)\n",
    "peps = [''.join(map(lambda codon: GEN_CODE[codon], orf)) for orf in orfs_codons]\n",
    "\n",
    "# print(peps)\n",
    "\n",
    "# Filtrar, set es como una lista pero sin orden y que admite solo elementos unicos\n",
    "unique_peps = set()\n",
    "for pep in peps:\n",
    "    unique_peps.add(pep)\n",
    "\n",
    "print(\"===== DNA input =====\")\n",
    "print(dna)\n",
    "print()\n",
    "print(\"======= ORFS ========\")\n",
    "with open('out.txt', 'w') as f:\n",
    "    for upep in unique_peps:\n",
    "        print(upep)\n",
    "        f.write(upep + '\\n')\n"
   ]
  },
  {
   "cell_type": "markdown",
   "metadata": {
    "colab_type": "text",
    "id": "SbWB49n_QQcx"
   },
   "source": [
    "b) Obtenga la secuencia de un CONTIG para algún genoma de interès, corra su programa y compare los ORFs identificados con los genes/exones existentes en el contig (Analice brevemente los resultados)\n"
   ]
  },
  {
   "cell_type": "markdown",
   "metadata": {
    "colab_type": "text",
    "id": "HwrWoHFoscdb"
   },
   "source": [
    "Definición y comparación entre contig y scaffolds:\n",
    "https://www.pacb.com/blog/genomes-vs-gennnnes-difference-contigs-scaffolds-genome-assemblies/\n",
    "\n",
    "En esta página podemos ver los contigs disponibles, la mayoría obtenido por Whole Genome Shotgun (WGS):\n",
    "\n",
    "https://www.ncbi.nlm.nih.gov/Traces/wgs/\n",
    "\n",
    "Descarga de: \n",
    "'Brassica napus' phytoplasma isolate TW1 Consensus_utg000001l_pilon, whole genome shotgun sequence\n",
    "https://www.ncbi.nlm.nih.gov/nuccore/1393952344?report=fasta\n"
   ]
  },
  {
   "cell_type": "code",
   "execution_count": null,
   "metadata": {
    "colab": {
     "base_uri": "https://localhost:8080/",
     "height": 235
    },
    "colab_type": "code",
    "id": "cTztL01AADRG",
    "outputId": "f0d0d647-c756-46b0-d50c-d98ae886b5db"
   },
   "outputs": [],
   "source": []
  },
  {
   "cell_type": "markdown",
   "metadata": {
    "colab_type": "text",
    "id": "JfsCR6CBnLo-"
   },
   "source": [
    "3.3.Mutaciones\n",
    "\n",
    "a) Realice un programa que dada la secuencia de un gen, permita obtener todas las mutaciones debidas al cambio de una base."
   ]
  },
  {
   "cell_type": "markdown",
   "metadata": {
    "colab_type": "text",
    "id": "Ufkbzlfu0vqR"
   },
   "source": [
    "* Se debe tener en cuenta que cada codón está compuesto por 3 bases que definirán un aminoácido. Suponiendo que un códon sea por ejemplo:\n",
    "ATG, las posibles variantes serán 9 (3 variantes nucleotídicas por posición): CTG,TTG,GTG,AAG,ACG,AGG,ATA,ATC,ATT. \n",
    "*Deberíamos crear un loop que en primera instancia detecte el codón de inicio ATG/AUG, luego tome la secuencia y contemple de a 3 nucleótidos y les genere estas variaciones indicadas, luego pase hacia los siguientes nucleótidos y esto lo haga hasta llegar al final (un codón STOP de los 3 posibles TAG/UAG, TAA/UAA, TGA/UGA). Luego de hacer ese recorrido se corra un nucleótido y haga lo mismo"
   ]
  },
  {
   "cell_type": "markdown",
   "metadata": {
    "colab_type": "text",
    "id": "3uADtktTgUAs"
   },
   "source": [
    "* Otra solución más abarcativa y genérica en terminos de la implementación que facilita su reutilización en los puntos siguientes, sería una función que reciba una secuencia que ya sea la correspondiente a un marco abierto de lectura y que devuelva todas las combinaciones posibles de reemplazo de 1 base, siguiendo exactamente la misma lógica descripta antes para generarlas."
   ]
  },
  {
   "cell_type": "code",
   "execution_count": null,
   "metadata": {
    "colab": {},
    "colab_type": "code",
    "id": "kIUmR7a8COFS"
   },
   "outputs": [],
   "source": [
    "codigo_genetico = {\n",
    "    'TTT': 'F', 'CTT': 'L', 'ATT': 'I', 'GTT': 'V', 'TTC': 'F', 'CTC': 'L', 'ATC': 'I', 'GTC': 'V',\n",
    "    'TTA': 'L', 'CTA': 'L', 'ATA': 'I', 'GTA': 'V', 'TTG': 'L', 'CTG': 'L', 'ATG': 'M', 'GTG': 'V',\n",
    "    'TCT': 'S', 'CCT': 'P', 'ACT': 'T', 'GCT': 'A', 'TCC': 'S', 'CCC': 'P', 'ACC': 'T', 'GCC': 'A',\n",
    "    'TCA': 'S', 'CCA': 'P', 'ACA': 'T', 'GCA': 'A', 'TCG': 'S', 'CCG': 'P', 'ACG': 'T', 'GCG': 'A',\n",
    "    'TAT': 'Y', 'CAT': 'H', 'AAT': 'N', 'GAT': 'D', 'TAC': 'Y', 'CAC': 'H', 'AAC': 'N', 'GAC': 'D',\n",
    "    'CAA': 'Q', 'AAA': 'K', 'GAA': 'E', 'CAG': 'Q', 'AAG': 'K', 'GAG': 'E', 'TGT': 'C', 'CGT': 'R',\n",
    "    'AGT': 'S', 'GGT': 'G', 'TGC': 'C', 'CGC': 'R', 'AGC': 'S', 'GGC': 'G', 'CGA': 'R', 'AGA': 'R',\n",
    "    'GGA': 'G', 'TGG': 'W', 'CGG': 'R', 'AGG': 'R', 'GGG': 'G'\n",
    "}\n",
    "\n",
    "# Aminoacidos unicos\n",
    "aas_unicos = sorted(set(codigo_genetico.values()))"
   ]
  },
  {
   "cell_type": "code",
   "execution_count": null,
   "metadata": {
    "colab": {
     "base_uri": "https://localhost:8080/",
     "height": 170
    },
    "colab_type": "code",
    "id": "1oL-FHzFf4U1",
    "outputId": "65446982-5ae5-415d-cdc9-ef66ac61de3a"
   },
   "outputs": [],
   "source": [
    "def generar_mutantes(seq):\n",
    "    seqs = []\n",
    "    for i in range(len(seq)):\n",
    "        for base in \"ATCG\":\n",
    "            if base != seq[i]:\n",
    "                seqs.append(seq[0:i] + base + seq[i+1:])\n",
    "    return seqs\n",
    "\n",
    "for mutante in generar_mutantes(\"ATG\"):\n",
    "  print(mutante)"
   ]
  },
  {
   "cell_type": "markdown",
   "metadata": {
    "colab_type": "text",
    "id": "MqLWB7h8nSi1"
   },
   "source": [
    "*a’*) Realice uno que haga lo mismo para el cambio de 2, y hasta 3 bases.\n",
    "Elija una proteína de interés (que este en PFAM), corra su programa y compare las distribuciones de mutaciones obtenidas con las probabilidades de emisión en el logo de PFAM para: i) 2-3 posiciones conservadas ii) 2-3 posiciones NO conservadas."
   ]
  },
  {
   "cell_type": "markdown",
   "metadata": {
    "colab_type": "text",
    "id": "QFTdLQ6XSNAL"
   },
   "source": [
    "+Partiendo de una suposición de que elegimos el codón \"AAA\"\n",
    "\n",
    "*   para 2 mutaciones:\n",
    "CCA-CGA-CTA-GCA-GGA-GTA-TCA-TGA-TTA\n",
    "ACC-ACG-ACT-AGC-AGG-AGT-ATC-ATG-ATT\n",
    "CAC-CAG-CAT-GAC-GAG-GAT-TAC-TAG-TAT\n",
    "PARA CADA CODÓN que tome el programa HABRÁ **27 posibilidades** de mutación\n",
    "*   para 3 mutaciones:\n",
    "CCC-CGC-CTC-CCG-CCT-CTG\n",
    "GCC-GGC-GTC-GCG-GCT-GTG\n",
    "TCC-TGC-TTC-TCG-TCT-TTG\n",
    "Para cada codón que tome el programa habrá **18 posibilidades** de mutación\n",
    "\n",
    "+Hay que transcribir la secuencia y luego traducirla.\n",
    "\n",
    "+Teniendo en cuenta que el código genético es degenerado, nuestro algoritmo debería ver qué codón corresponde a cada aminoácido y si esto verdaderamente afecta la conservación de la proteína.\n",
    "\n",
    "Esperamos que mas mutaciones generen un cambio mas notorio y por ende se vea reflejado en la homología de la secuencia"
   ]
  },
  {
   "cell_type": "markdown",
   "metadata": {
    "colab_type": "text",
    "id": "9_BXHRlcnLtX"
   },
   "source": [
    "Las siguientes funciones mutan **hasta** 2 y 3 veces la secuencia (dicha secuencia puede ser solo un codon) que se les pase. Es decir, *generar_mutantes_3(seq)* genera todas las mutantes posibles tanto con 3, **2, 1, y 0** sustituciones de bases."
   ]
  },
  {
   "cell_type": "code",
   "execution_count": null,
   "metadata": {
    "colab": {},
    "colab_type": "code",
    "id": "l6Cu6gW2jTgc"
   },
   "outputs": [],
   "source": [
    "def generar_mutantes_2(seq):\n",
    "    seqs = set()\n",
    "    for s in generar_mutantes(seq):\n",
    "      for mutante in generar_mutantes(s):\n",
    "        seqs.add(mutante)\n",
    "    return seqs\n",
    "\n",
    "def generar_mutantes_3(seq):\n",
    "    seqs = set()\n",
    "    for s1 in generar_mutantes(seq):\n",
    "        for s2 in generar_mutantes(s1):\n",
    "          for mutante in generar_mutantes(s2):\n",
    "            seqs.add(mutante)\n",
    "    return seqs"
   ]
  },
  {
   "cell_type": "markdown",
   "metadata": {
    "colab_type": "text",
    "id": "wcePZ1D1oZZx"
   },
   "source": [
    "Por como está planteado el algoritmo (para simplificar el código), genera mutantes repetidas. Por eso el resultado se agrega a un *set()*, que es como una lista pero no ordenada y que solo guarda valores únicos."
   ]
  },
  {
   "cell_type": "code",
   "execution_count": null,
   "metadata": {
    "colab": {
     "base_uri": "https://localhost:8080/",
     "height": 54
    },
    "colab_type": "code",
    "id": "g9E1VJRXoDt_",
    "outputId": "d0b2453b-17af-415c-d1a0-304576873abc"
   },
   "outputs": [],
   "source": [
    "print(sorted(generar_mutantes_2(\"AAA\")))"
   ]
  },
  {
   "cell_type": "code",
   "execution_count": null,
   "metadata": {
    "colab": {
     "base_uri": "https://localhost:8080/",
     "height": 54
    },
    "colab_type": "code",
    "id": "vKiVT8q5plTS",
    "outputId": "21a076bf-5ab1-4f50-83d8-e010b2a57c5e"
   },
   "outputs": [],
   "source": [
    "print(sorted(generar_mutantes_3(\"AAA\")))"
   ]
  },
  {
   "cell_type": "code",
   "execution_count": null,
   "metadata": {
    "colab": {
     "base_uri": "https://localhost:8080/",
     "height": 391
    },
    "colab_type": "code",
    "id": "cY4JDUp4ro-Z",
    "outputId": "ff293829-1aaf-4536-f476-2627cdf81ed0"
   },
   "outputs": [],
   "source": [
    "import requests\n",
    "agal_fasta = requests.get(\"https://www.ncbi.nlm.nih.gov/sviewer/viewer.cgi?tool=portal&save=file&log$=seqview&db=nuccore&report=fasta&id=1774638997&extrafeat=null&conwithfeat=on&hide-cdd=on\").text\n",
    "print(agal_fasta)"
   ]
  },
  {
   "cell_type": "code",
   "execution_count": null,
   "metadata": {
    "colab": {
     "base_uri": "https://localhost:8080/",
     "height": 54
    },
    "colab_type": "code",
    "id": "eabnPY2wrwe-",
    "outputId": "70da03cc-3049-4ed2-96ac-c0224780357b"
   },
   "outputs": [],
   "source": [
    "agal_seq = \"\".join(agal_fasta.split(\"\\n\")[1:])\n",
    "print(agal_seq)"
   ]
  },
  {
   "cell_type": "code",
   "execution_count": null,
   "metadata": {
    "colab": {
     "base_uri": "https://localhost:8080/",
     "height": 816
    },
    "colab_type": "code",
    "id": "c3XPoH9fsC01",
    "outputId": "c3c1b91a-57ea-4850-e431-9d4a7872b378"
   },
   "outputs": [],
   "source": [
    "agal_marco2 = agal[1:]\n",
    "started = False\n",
    "n = 1\n",
    "for i in range(0, len(agal_marco2), 3):\n",
    "  pos = i\n",
    "  codon = agal[i:i+3]\n",
    "\n",
    "  if codon == \"ATG\":\n",
    "    started = True\n",
    "\n",
    "  if started:\n",
    "    print(pos, codon, n, codigo_genetico[codon])\n",
    "    n += 1\n",
    "\n",
    "  # Imprimir solo algunas posiciones luego del start\n",
    "  if i > 156:\n",
    "    break\n"
   ]
  },
  {
   "cell_type": "markdown",
   "metadata": {
    "colab_type": "text",
    "id": "u1XS05pQ9ojC"
   },
   "source": [
    "Vamos a estudiar los últimos 4 aminoácidos del print anterior: 44W, 45L, 46H y 47W, codificados por TGG CTG CAC TGG respectivamente.\n",
    "\n",
    "\n",
    "Del logo para el dominio melibiasa (https://pfam.xfam.org/family/PF16499#tabview=tab4) que posee esta proteína, se observa a ojo (la forma correcta de hacerlo sería utilizando hmmalign del paquete HMMER3, y parsear la salida) que el triptofano en posición 44 de la secuencia de la proteína se corresponde con la emisión del nodo 6 del modelo, y la 47 con la 9."
   ]
  },
  {
   "cell_type": "code",
   "execution_count": null,
   "metadata": {
    "colab": {},
    "colab_type": "code",
    "id": "WZX8iYq0CGfl"
   },
   "outputs": [],
   "source": [
    "import pandas as pd\n",
    "import seaborn as sns\n",
    "import matplotlib.pyplot as plt\n",
    "\n",
    "\n",
    "def df_dist_freqs_codon(codon, gen_func):\n",
    "  aas_dest = [codigo_genetico[c] for c in gen_func(codon) if c in codigo_genetico.keys()]\n",
    "  aas = []\n",
    "  probs = []\n",
    "  for aa in aas_unicos:\n",
    "    aas.append(aa)\n",
    "    probs.append(aas_dest.count(aa) / len(aas_dest))\n",
    "\n",
    "  freqs = pd.DataFrame({\"aa\": aas, \"prob\": probs})\n",
    "  return freqs"
   ]
  },
  {
   "cell_type": "markdown",
   "metadata": {
    "colab_type": "text",
    "id": "pROZwQU8Fb4a"
   },
   "source": [
    "## Triptofano (TGG)"
   ]
  },
  {
   "cell_type": "code",
   "execution_count": null,
   "metadata": {
    "colab": {
     "base_uri": "https://localhost:8080/",
     "height": 34
    },
    "colab_type": "code",
    "id": "-1NSQkgjJpXB",
    "outputId": "9299cfbf-767f-4b89-ec16-4d288efca996"
   },
   "outputs": [],
   "source": [
    "# df_dist_freqs_codon(\"TTG\", generar_mutantes)\n",
    "[codigo_genetico[x] for x in generar_mutantes(\"TGG\") if x in codigo_genetico.keys()]"
   ]
  },
  {
   "cell_type": "code",
   "execution_count": null,
   "metadata": {
    "colab": {
     "base_uri": "https://localhost:8080/",
     "height": 300
    },
    "colab_type": "code",
    "id": "Z0UsmUFqFKd3",
    "outputId": "cbebd7a1-3076-43cf-f8ab-10286d5c1b53"
   },
   "outputs": [],
   "source": [
    "sns.barplot(x=\"aa\", y=\"prob\", data=df_dist_freqs_codon(\"TGG\", generar_mutantes))"
   ]
  },
  {
   "cell_type": "code",
   "execution_count": null,
   "metadata": {
    "colab": {
     "base_uri": "https://localhost:8080/",
     "height": 296
    },
    "colab_type": "code",
    "id": "QTQqVuubFK1-",
    "outputId": "1822e9e2-b5bd-437b-d46e-82f5558fb8f7"
   },
   "outputs": [],
   "source": [
    "sns.barplot(x=\"aa\", y=\"prob\", data=df_dist_freqs_codon(\"TGG\", generar_mutantes_2))"
   ]
  },
  {
   "cell_type": "code",
   "execution_count": null,
   "metadata": {
    "colab": {
     "base_uri": "https://localhost:8080/",
     "height": 296
    },
    "colab_type": "code",
    "id": "9yZoPpHfFLGz",
    "outputId": "8bac003f-ec47-4455-eaff-342508b0f837"
   },
   "outputs": [],
   "source": [
    "sns.barplot(x=\"aa\", y=\"prob\", data=df_dist_freqs_codon(\"TGG\", generar_mutantes_3))"
   ]
  },
  {
   "cell_type": "markdown",
   "metadata": {
    "colab_type": "text",
    "id": "R_9sDhhEF9Ak"
   },
   "source": [
    "Como se puede observar en los gráficos anteriores, los aminoácidos resultantes más típicos tanto para los casos de sustitución de 1, 2 y 3 bases en un codón TTG (W) son la C, R, L, S.\n",
    "\n",
    "Si se observa en el logo en posiciones 6 y 9, se observa que las emisiones más probables son F, Y, L, V."
   ]
  },
  {
   "cell_type": "markdown",
   "metadata": {
    "colab_type": "text",
    "id": "SCzHPlqWG9l6"
   },
   "source": [
    "## Leucina (CTG)"
   ]
  },
  {
   "cell_type": "code",
   "execution_count": null,
   "metadata": {
    "colab": {
     "base_uri": "https://localhost:8080/",
     "height": 296
    },
    "colab_type": "code",
    "id": "dP7Cl4pwG9FU",
    "outputId": "432ef71b-774c-43e9-8686-c6fa20ad7f0e"
   },
   "outputs": [],
   "source": [
    "sns.barplot(x=\"aa\", y=\"prob\", data=df_dist_freqs_codon(\"CTG\", generar_mutantes))"
   ]
  },
  {
   "cell_type": "code",
   "execution_count": null,
   "metadata": {
    "colab": {
     "base_uri": "https://localhost:8080/",
     "height": 296
    },
    "colab_type": "code",
    "id": "ptEO_xcYHHBs",
    "outputId": "8e696ea2-4a3b-4b86-8a78-c940297514a4"
   },
   "outputs": [],
   "source": [
    "sns.barplot(x=\"aa\", y=\"prob\", data=df_dist_freqs_codon(\"CTG\", generar_mutantes_2))"
   ]
  },
  {
   "cell_type": "code",
   "execution_count": null,
   "metadata": {
    "colab": {
     "base_uri": "https://localhost:8080/",
     "height": 296
    },
    "colab_type": "code",
    "id": "b16ELhwlHHsu",
    "outputId": "97a20e28-d361-43a3-e2c8-a6cb54b9a972"
   },
   "outputs": [],
   "source": [
    "sns.barplot(x=\"aa\", y=\"prob\", data=df_dist_freqs_codon(\"CTG\", generar_mutantes_3))"
   ]
  },
  {
   "cell_type": "markdown",
   "metadata": {
    "colab_type": "text",
    "id": "htcUBNPTG9S2"
   },
   "source": [
    "## Histidina (CAC)"
   ]
  },
  {
   "cell_type": "code",
   "execution_count": null,
   "metadata": {
    "colab": {
     "base_uri": "https://localhost:8080/",
     "height": 296
    },
    "colab_type": "code",
    "id": "gCsD4VFJHWcn",
    "outputId": "2b2a3d16-2564-4870-eb28-d5b911433f7e"
   },
   "outputs": [],
   "source": [
    "sns.barplot(x=\"aa\", y=\"prob\", data=df_dist_freqs_codon(\"CAC\", generar_mutantes))"
   ]
  },
  {
   "cell_type": "code",
   "execution_count": null,
   "metadata": {
    "colab": {
     "base_uri": "https://localhost:8080/",
     "height": 300
    },
    "colab_type": "code",
    "id": "Z2FGncZQHXy_",
    "outputId": "f665aea0-4f9a-42a5-c154-3a573248e9f6"
   },
   "outputs": [],
   "source": [
    "sns.barplot(x=\"aa\", y=\"prob\", data=df_dist_freqs_codon(\"CAC\", generar_mutantes_2))"
   ]
  },
  {
   "cell_type": "code",
   "execution_count": null,
   "metadata": {
    "colab": {
     "base_uri": "https://localhost:8080/",
     "height": 296
    },
    "colab_type": "code",
    "id": "SrwBRenhHYDh",
    "outputId": "76da39f4-fb46-40e8-f0ad-8fccaf17e548"
   },
   "outputs": [],
   "source": [
    "sns.barplot(x=\"aa\", y=\"prob\", data=df_dist_freqs_codon(\"CAC\", generar_mutantes_3))"
   ]
  },
  {
   "cell_type": "markdown",
   "metadata": {
    "colab_type": "text",
    "id": "SpIOD2Munbx9"
   },
   "source": [
    "b) A partir del código genético calcule la matriz de probabilidad de sustituciones de 1 base."
   ]
  },
  {
   "cell_type": "code",
   "execution_count": null,
   "metadata": {
    "colab": {
     "base_uri": "https://localhost:8080/",
     "height": 54
    },
    "colab_type": "code",
    "id": "W8De16frftSF",
    "outputId": "e4f83a5c-1b5e-4eab-940d-8d7f046a80ff"
   },
   "outputs": [],
   "source": [
    "# Diccionario que va a contener clave=aa inicial, valor=lista de aas destino posibles\n",
    "# para una sustitucion de un nucleotido en el codon original, con repetidos si mas de uno cumple.\n",
    "sustituciones = {aa:[] for aa in aas} # inicializar con listas vacias\n",
    "\n",
    "for codon, aa in codigo_genetico.items():\n",
    "    for sust_codon in generar_mutantes(codon):\n",
    "        if sust_codon in codigo_genetico.keys(): # si el codon mutante generado no corresponde a aa ignorar, por ej stops\n",
    "            sustituciones[aa].append(codigo_genetico[sust_codon])\n",
    "\n",
    "print(sustituciones)"
   ]
  },
  {
   "cell_type": "code",
   "execution_count": null,
   "metadata": {
    "colab": {
     "base_uri": "https://localhost:8080/",
     "height": 669
    },
    "colab_type": "code",
    "id": "znz024oqiyLB",
    "outputId": "bafd0d09-0e71-4ed6-b3fe-1652dbf6165d"
   },
   "outputs": [],
   "source": [
    "import pandas as pd\n",
    "\n",
    "freqs = pd.DataFrame({aa:0.0 for aa in aas_unicos}, index=aas_unicos)\n",
    "freqs"
   ]
  },
  {
   "cell_type": "code",
   "execution_count": null,
   "metadata": {
    "colab": {
     "base_uri": "https://localhost:8080/",
     "height": 669
    },
    "colab_type": "code",
    "id": "QSvqhQmbi5W4",
    "outputId": "114262ae-3efc-406d-88e0-48ccc90d8e57"
   },
   "outputs": [],
   "source": [
    "for aa, aas_dest in sustituciones.items():\n",
    "    for aa_dest in aas_dest:\n",
    "        freqs.at[aa, aa_dest] = aas_dest.count(aa_dest) / len(aas_dest)\n",
    "        # Proporcion de sustituciones por fila\n",
    "\n",
    "freqs"
   ]
  },
  {
   "cell_type": "code",
   "execution_count": null,
   "metadata": {
    "colab": {
     "base_uri": "https://localhost:8080/",
     "height": 429
    },
    "colab_type": "code",
    "id": "UxtUxMJdjqtM",
    "outputId": "15f70cd8-9c1c-4f18-a856-50743ad317f6"
   },
   "outputs": [],
   "source": [
    "import seaborn as sns\n",
    "import matplotlib.pyplot as plt\n",
    "f, ax = plt.subplots(figsize=(8, 7))\n",
    "ax = sns.heatmap(freqs, center=0, linecolor=\"#000000\", linewidths=1)"
   ]
  },
  {
   "cell_type": "markdown",
   "metadata": {
    "colab_type": "text",
    "id": "YBSrpPc9ng24"
   },
   "source": [
    "c) A partir de la distribución de probabilidad de aparición de un aminoácido en proteínas calcule la matriz de probabilidad de sustituciones de 1 aminoácido."
   ]
  }
 ],
 "metadata": {
  "colab": {
   "collapsed_sections": [],
   "name": "TP2 BioinfoAvanzada.ipynb",
   "provenance": [],
   "toc_visible": true
  },
  "kernelspec": {
   "display_name": "Python 3",
   "language": "python",
   "name": "python3"
  },
  "language_info": {
   "codemirror_mode": {
    "name": "ipython",
    "version": 3
   },
   "file_extension": ".py",
   "mimetype": "text/x-python",
   "name": "python",
   "nbconvert_exporter": "python",
   "pygments_lexer": "ipython3",
   "version": "3.8.5"
  }
 },
 "nbformat": 4,
 "nbformat_minor": 1
}
