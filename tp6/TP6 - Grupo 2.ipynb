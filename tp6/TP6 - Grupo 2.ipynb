{
 "cells": [
  {
   "cell_type": "code",
   "execution_count": 2,
   "metadata": {},
   "outputs": [
    {
     "data": {
      "application/vnd.jupyter.widget-view+json": {
       "model_id": "e7ec63c3a36e468d819c9e55ca6224a6",
       "version_major": 2,
       "version_minor": 0
      },
      "text/plain": []
     },
     "metadata": {},
     "output_type": "display_data"
    }
   ],
   "source": [
    "import math\n",
    "import json\n",
    "\n",
    "import re\n",
    "import io\n",
    "import os\n",
    "\n",
    "from collections import namedtuple\n",
    "\n",
    "from Bio.PDB import PDBParser, PDBList, Superimposer, vectors\n",
    "from Bio.PDB.MMCIFParser import MMCIFParser\n",
    "from Bio.PDB.MMCIF2Dict import MMCIF2Dict\n",
    "from Bio.PDB.PDBIO import PDBIO, Select\n",
    "from Bio.PDB.NeighborSearch import NeighborSearch\n",
    "from Bio.PDB.Polypeptide import PPBuilder\n",
    "from Bio.SeqUtils import IUPACData\n",
    "from Bio import AlignIO\n",
    "\n",
    "from ipywidgets import interact_manual\n",
    "\n",
    "import nglview as nv\n",
    "import pandas as pd\n",
    "import seaborn as sns\n",
    "import requests\n",
    "\n",
    "sns.set(rc={'figure.figsize':(12, 8)})"
   ]
  },
  {
   "cell_type": "code",
   "execution_count": 3,
   "metadata": {
    "tags": []
   },
   "outputs": [
    {
     "name": "stdout",
     "output_type": "stream",
     "text": [
      "Structure exists: 'data/pdb1mbo.ent' \n",
      "Structure exists: 'data/1mbo.cif' \n"
     ]
    }
   ],
   "source": [
    "def download(pdb_id, format):\n",
    "    \"\"\" Descarga una estructura en el formato dado, y devuelve el path del archivo \"\"\"\n",
    "    pdbl = PDBList()\n",
    "    path = pdbl.retrieve_pdb_file(pdb_id, pdir=\"data/\", file_format=format)\n",
    "    return path\n",
    "\n",
    "myo_pdb = download(\"1mbo\", \"pdb\")\n",
    "myo_cif = download(\"1mbo\", \"mmCif\")"
   ]
  },
  {
   "cell_type": "code",
   "execution_count": 4,
   "metadata": {},
   "outputs": [
    {
     "data": {
      "text/plain": [
       "'Structure and refinement of oxymyoglobin at 1.6 angstroms resolution'"
      ]
     },
     "execution_count": 4,
     "metadata": {},
     "output_type": "execute_result"
    }
   ],
   "source": [
    "def parse_cif(path):\n",
    "    return MMCIFParser(QUIET=True).get_structure(\"\", path)\n",
    "\n",
    "structure = parse_cif(myo_cif)\n",
    "\n",
    "structure.header[\"name\"]"
   ]
  },
  {
   "cell_type": "code",
   "execution_count": 5,
   "metadata": {},
   "outputs": [
    {
     "data": {
      "text/plain": [
       "['Structure and refinement of oxymyoglobin at 1.6 angstroms resolution']"
      ]
     },
     "execution_count": 5,
     "metadata": {},
     "output_type": "execute_result"
    }
   ],
   "source": [
    "mmcif_dict = MMCIF2Dict(myo_cif)\n",
    "\n",
    "mmcif_dict[\"_struct.title\"]"
   ]
  },
  {
   "cell_type": "code",
   "execution_count": 6,
   "metadata": {},
   "outputs": [
    {
     "data": {
      "text/plain": [
       "<Residue LEU het=  resseq=89 icode= >"
      ]
     },
     "execution_count": 6,
     "metadata": {},
     "output_type": "execute_result"
    }
   ],
   "source": [
    "res = structure[0][\"A\"][89]\n",
    "res"
   ]
  },
  {
   "cell_type": "code",
   "execution_count": 7,
   "metadata": {},
   "outputs": [
    {
     "data": {
      "text/plain": [
       "'LEU'"
      ]
     },
     "execution_count": 7,
     "metadata": {},
     "output_type": "execute_result"
    }
   ],
   "source": [
    "res.get_resname()"
   ]
  },
  {
   "cell_type": "code",
   "execution_count": 8,
   "metadata": {
    "tags": []
   },
   "outputs": [
    {
     "data": {
      "text/plain": [
       "(' ', 89, ' ')"
      ]
     },
     "execution_count": 8,
     "metadata": {},
     "output_type": "execute_result"
    }
   ],
   "source": [
    "res.id\n",
    "# hetfield (\"W\": water, \"H_\": hetgroup, \" \": standard), resseq, icode"
   ]
  },
  {
   "cell_type": "code",
   "execution_count": 9,
   "metadata": {
    "tags": []
   },
   "outputs": [
    {
     "name": "stdout",
     "output_type": "stream",
     "text": [
      "<Atom CA>\n",
      "CA\n"
     ]
    },
    {
     "data": {
      "text/plain": [
       "array([10.157, 31.339,  5.075], dtype=float32)"
      ]
     },
     "execution_count": 9,
     "metadata": {},
     "output_type": "execute_result"
    }
   ],
   "source": [
    "atom = res[\"CA\"]\n",
    "\n",
    "print(atom)\n",
    "print(atom.get_id())\n",
    "\n",
    "atom.get_coord()"
   ]
  },
  {
   "cell_type": "code",
   "execution_count": 10,
   "metadata": {},
   "outputs": [
    {
     "data": {
      "text/plain": [
       "<Vector 10.16, 31.34, 5.07>"
      ]
     },
     "execution_count": 10,
     "metadata": {},
     "output_type": "execute_result"
    }
   ],
   "source": [
    "atom.get_vector()"
   ]
  },
  {
   "cell_type": "code",
   "execution_count": 11,
   "metadata": {},
   "outputs": [
    {
     "data": {
      "text/plain": [
       "12.19"
      ]
     },
     "execution_count": 11,
     "metadata": {},
     "output_type": "execute_result"
    }
   ],
   "source": [
    "atom.get_bfactor()"
   ]
  },
  {
   "cell_type": "markdown",
   "metadata": {},
   "source": [
    "# Actividad 1\n",
    "## 1.\n",
    "Utilice los comandos anteriores para tratar de identificar el residuo HEMO de la Mb y\n",
    "obtener su id y full_id (hay algún otro residuo que NO es de la proteìna y NO es agua?)"
   ]
  },
  {
   "cell_type": "code",
   "execution_count": 12,
   "metadata": {
    "tags": []
   },
   "outputs": [
    {
     "data": {
      "text/plain": [
       "[<Residue SO4 het=H_SO4 resseq=154 icode= >,\n",
       " <Residue HEM het=H_HEM resseq=155 icode= >,\n",
       " <Residue OXY het=H_OXY resseq=555 icode= >]"
      ]
     },
     "execution_count": 12,
     "metadata": {},
     "output_type": "execute_result"
    }
   ],
   "source": [
    "hets = list(filter(lambda res: \"H_\" in res.id[0], structure.get_residues()))\n",
    "hets\n",
    "\n",
    "# Si, hay un sulfato y una molecula de oxigeno"
   ]
  },
  {
   "cell_type": "code",
   "execution_count": 13,
   "metadata": {
    "tags": []
   },
   "outputs": [
    {
     "name": "stdout",
     "output_type": "stream",
     "text": [
      "('H_HEM', 155, ' ')\n",
      "('', 0, 'A', ('H_HEM', 155, ' '))\n"
     ]
    }
   ],
   "source": [
    "print(hets[1].id)\n",
    "print(hets[1].full_id)"
   ]
  },
  {
   "cell_type": "markdown",
   "metadata": {},
   "source": [
    "## 2.\n",
    "Levante un PDB y obtenga: a) el número de cadenas, b) el número de residuos, c) número de átomos totales, d) número de átomos de proteìna, e) número de HETatoms, f) número de átomos de agua."
   ]
  },
  {
   "cell_type": "code",
   "execution_count": 14,
   "metadata": {
    "tags": []
   },
   "outputs": [
    {
     "name": "stdout",
     "output_type": "stream",
     "text": [
      "1MBO Structure and refinement of oxymyoglobin at 1.6 angstroms resolution\n",
      "Cadenas: 1\n",
      "Residuos: 490\n",
      "Atomos totales: 1601\n",
      "Atomos de proteina: 1217\n",
      "HETatoms: 50\n",
      "Atomos de aguas: 334\n"
     ]
    }
   ],
   "source": [
    "# Las funciones get_algo() en biopython devuelven generadores, un tipo de iterable que no tiene\n",
    "# definido a priori su longitud. No definen el metodo len().\n",
    "def iter_count(iterable):\n",
    "    return sum(1 for _ in iterable)\n",
    "\n",
    "print(structure.header[\"idcode\"], structure.header[\"name\"])\n",
    "print(\"Cadenas:\", iter_count(structure.get_chains()))\n",
    "print(\"Residuos:\", iter_count(structure.get_residues()))\n",
    "print(\"Atomos totales:\", iter_count(structure.get_atoms()))\n",
    "print(\"Atomos de proteina:\", sum(iter_count(res.get_atoms()) for res in structure.get_residues() if res.id[0] == \" \"))\n",
    "print(\"HETatoms:\", sum(iter_count(res.get_atoms()) for res in structure.get_residues() if \"H_\" in res.id[0]))\n",
    "print(\"Atomos de aguas:\", sum(iter_count(res.get_atoms()) for res in structure.get_residues() if res.id[0] == \"W\"))\n",
    "\n",
    "# Otra forma de hacerlo es recorriendo con un for y sumando a varios contadores para cada caso pedido."
   ]
  },
  {
   "cell_type": "markdown",
   "metadata": {},
   "source": [
    "## 3.\n",
    "Levante un PDB y determine la secuencia de aminoàcidos de cada cadena"
   ]
  },
  {
   "cell_type": "code",
   "execution_count": 15,
   "metadata": {
    "tags": []
   },
   "outputs": [
    {
     "name": "stdout",
     "output_type": "stream",
     "text": [
      "Structure exists: 'data/1a3n.cif' \n",
      "1A3N DEOXY HUMAN HEMOGLOBIN\n",
      "Cadena A - VLSPADKTNVKAAWGKVGAHAGEYGAEALERMFLSFPTTKTYFPHFDLSHGSAQVKGHGKKVADALTNAVAHVDDMPNALSALSDLHAHKLRVDPVNFKLLSHCLLVTLAAHLPAEFTPAVHASLDKFLASVSTVLTSKYR\n",
      "Cadena B - HLTPEEKSAVTALWGKVNVDEVGGEALGRLLVVYPWTQRFFESFGDLSTPDAVMGNPKVKAHGKKVLGAFSDGLAHLDNLKGTFATLSELHCDKLHVDPENFRLLGNVLVCVLAHHFGKEFTPPVQAAYQKVVAGVANALAHKYH\n",
      "Cadena C - VLSPADKTNVKAAWGKVGAHAGEYGAEALERMFLSFPTTKTYFPHFDLSHGSAQVKGHGKKVADALTNAVAHVDDMPNALSALSDLHAHKLRVDPVNFKLLSHCLLVTLAAHLPAEFTPAVHASLDKFLASVSTVLTSKYR\n",
      "Cadena D - HLTPEEKSAVTALWGKVNVDEVGGEALGRLLVVYPWTQRFFESFGDLSTPDAVMGNPKVKAHGKKVLGAFSDGLAHLDNLKGTFATLSELHCDKLHVDPENFRLLGNVLVCVLAHHFGKEFTPPVQAAYQKVVAGVANALAHKYH\n"
     ]
    }
   ],
   "source": [
    "def name1(name3):\n",
    "    return IUPACData.protein_letters_3to1[name3.title()]\n",
    "    \n",
    "structure = parse_cif(download(\"1a3n\", \"mmCif\"))\n",
    "print(structure.header[\"idcode\"], structure.header[\"name\"])\n",
    "\n",
    "for chain in structure.get_chains():\n",
    "    seq = \"\".join(name1(res.get_resname()) for res in chain.get_residues() if res.id[0] == \" \")\n",
    "    print(\"Cadena\", chain.get_id(), \"-\", seq)"
   ]
  },
  {
   "cell_type": "markdown",
   "metadata": {},
   "source": [
    "## 4.\n",
    "Levante un PDB y obtenga un nuevo PDB que contenga “solo” los CA"
   ]
  },
  {
   "cell_type": "code",
   "execution_count": 16,
   "metadata": {
    "tags": []
   },
   "outputs": [],
   "source": [
    "class SelectCA(Select):\n",
    "    # Heredar y overload de los metodos accept_x incluidos.\n",
    "    def accept_atom(self, atom):\n",
    "        return atom.id == \"CA\"\n",
    "\n",
    "pdb_io = PDBIO()\n",
    "pdb_io.set_structure(structure)\n",
    "pdb_io.save(\"actividad1-4.pdb\", select=SelectCA())"
   ]
  },
  {
   "cell_type": "markdown",
   "metadata": {},
   "source": [
    "# Actividad 2\n",
    "\n",
    "Cree una representación con el nglview, que contenga:\n",
    "\n",
    "- La proteína en cartoon\n",
    "- Las aguas en licorice\n",
    "- El cofactor y/o ligando en vwd\n",
    "- Los aminoácidos cercanos al cofactor y/o ligando en licorice"
   ]
  },
  {
   "cell_type": "code",
   "execution_count": 17,
   "metadata": {
    "tags": []
   },
   "outputs": [
    {
     "name": "stdout",
     "output_type": "stream",
     "text": [
      "Structure exists: 'data/1mbo.cif' \n"
     ]
    },
    {
     "data": {
      "application/vnd.jupyter.widget-view+json": {
       "model_id": "0986f5f09c78437889efcd3d1d49d74b",
       "version_major": 2,
       "version_minor": 0
      },
      "text/plain": [
       "NGLWidget(background='black')"
      ]
     },
     "metadata": {},
     "output_type": "display_data"
    }
   ],
   "source": [
    "structure = parse_cif(download(\"1mbo\", \"mmCif\"))\n",
    "view = nv.show_biopython(structure)\n",
    "view.clear_representations()\n",
    "view.background = \"black\"\n",
    "view.add_representation(\"cartoon\", selection=\"protein\", color=\"grey\")\n",
    "\n",
    "view.add_representation(\"surface\", surfaceType=\"vws\", selection=\"HEM\", color=\"cyan\")\n",
    "view.add_representation(\"licorice\", selection=\"OXY\", color=\"red\")\n",
    "\n",
    "near_lig_pos = set()\n",
    "ns = NeighborSearch(list(structure[0][\"A\"].get_atoms()))\n",
    "for ligand_res in filter(lambda res: \"H_HEM\" in res.id[0], structure.get_residues()):\n",
    "    for atom in ligand_res:\n",
    "        s = ns.search(atom.coord, 5, \"R\")\n",
    "        for res in s:\n",
    "            resseq = res.get_full_id()[3][1]\n",
    "            near_lig_pos.add(resseq)\n",
    "\n",
    "for pos in near_lig_pos:\n",
    "    view.add_representation(\"licorice\", selection=str(pos), color=\"orange\")\n",
    "\n",
    "\n",
    "view.add_representation(\"surface\", selection=\"ligand\", color=\"cyan\")\n",
    "view.add_representation(\"licorice\", selection=\"water\", color=\"red\")\n",
    "view"
   ]
  },
  {
   "cell_type": "markdown",
   "metadata": {},
   "source": [
    "# Actividad 3\n",
    "## 1.\n",
    "Busque en el PDB la oximioglobina (si es valiente la oxihemoglobina o algo equivalente), carguela en Biopython y calcule: distancia Fe-O, Angulo Fe-O-O, diedro N-Fe-O-O\n"
   ]
  },
  {
   "cell_type": "code",
   "execution_count": 18,
   "metadata": {
    "tags": []
   },
   "outputs": [
    {
     "name": "stdout",
     "output_type": "stream",
     "text": [
      "Structure exists: 'data/2dn1.cif' \n",
      "1.25A resolution crystal structure of human hemoglobin in the oxy form\n"
     ]
    },
    {
     "data": {
      "application/vnd.jupyter.widget-view+json": {
       "model_id": "913ee2a4cb28499b94da4d8dffe8bdec",
       "version_major": 2,
       "version_minor": 0
      },
      "text/plain": [
       "NGLWidget(background='black')"
      ]
     },
     "metadata": {},
     "output_type": "display_data"
    }
   ],
   "source": [
    "structure = parse_cif(download(\"2dn1\", \"mmCif\"))\n",
    "print(structure.header[\"name\"])\n",
    "\n",
    "view = nv.show_biopython(structure)\n",
    "view.clear_representations()\n",
    "view.background = \"black\"\n",
    "view.add_representation(\"cartoon\", selection=\"protein\", color=\"grey\")\n",
    "view.add_representation(\"ball+stick\", selection=\"HEM\", color=\"cyan\")\n",
    "view.add_representation(\"ball+stick\", selection=\"OXY\", color=\"red\")\n",
    "view"
   ]
  },
  {
   "cell_type": "code",
   "execution_count": 19,
   "metadata": {
    "tags": []
   },
   "outputs": [
    {
     "name": "stdout",
     "output_type": "stream",
     "text": [
      "[<Atom FE>]\n",
      "[<Atom O1>, <Atom O2>]\n",
      "[<Atom NA>, <Atom NB>, <Atom NC>, <Atom ND>]\n"
     ]
    }
   ],
   "source": [
    "# Las posiciones salen de ver la estructura en nglview\n",
    "\n",
    "fe = list(filter(lambda a: a.id == \"FE\", structure[0][\"A\"][('H_HEM', 142, ' ')].get_atoms()))\n",
    "nit = list(filter(lambda a: a.id[0] == \"N\", structure[0][\"A\"][('H_HEM', 142, ' ')].get_atoms()))\n",
    "oxys = list(structure[0][\"A\"][('H_OXY', 143, ' ')].get_atoms())\n",
    "print(fe)\n",
    "print(oxys)\n",
    "print(nit)"
   ]
  },
  {
   "cell_type": "code",
   "execution_count": 20,
   "metadata": {
    "tags": []
   },
   "outputs": [
    {
     "name": "stdout",
     "output_type": "stream",
     "text": [
      "distancia Fe-O#1: 1.8169678 A\n",
      "distancia Fe-O#2: 2.71159 A\n",
      "angulo Fe-O-O: 124.29449828574195 grados\n",
      "diedro N#1-Fe-O-O: -144.77793825170625 grados\n",
      "diedro N#2-Fe-O-O: 125.18782376997045 grados\n",
      "diedro N#3-Fe-O-O: 33.863400231077875 grados\n",
      "diedro N#4-Fe-O-O: -55.0446314625624 grados\n"
     ]
    }
   ],
   "source": [
    "deg = lambda rads: rads*180/math.pi\n",
    "\n",
    "# Cada oxigeno del O2\n",
    "for i in range(2):\n",
    "    print(f\"distancia Fe-O#{i+1}:\", fe[0] - oxys[i], \"A\")\n",
    "\n",
    "print(\"angulo Fe-O-O:\", deg(vectors.calc_angle(fe[0].get_vector(), oxys[0].get_vector(), oxys[1].get_vector())), \"grados\")\n",
    "\n",
    "# Cada N de la protoporfirina\n",
    "for i in range(4):\n",
    "    print(f\"diedro N#{i+1}-Fe-O-O:\", deg(vectors.calc_dihedral(nit[i].get_vector(), fe[0].get_vector(), oxys[0].get_vector(), oxys[1].get_vector())), \"grados\")"
   ]
  },
  {
   "cell_type": "markdown",
   "metadata": {},
   "source": [
    "## 2.\n",
    "Genere una función que le permita obtener los ángulos diedros del enlace peptídico (Phi/psi) y represéntelos en un gráfico de ramachandran"
   ]
  },
  {
   "cell_type": "code",
   "execution_count": 21,
   "metadata": {
    "tags": []
   },
   "outputs": [
    {
     "name": "stdout",
     "output_type": "stream",
     "text": [
      "Structure exists: 'data/3con.cif' \n",
      "Crystal structure of the human NRAS GTPase bound with GDP\n",
      "phi -73.97433392322318 psi 169.42544563021667\n",
      "phi -123.3388572746355 psi 144.64419593452035\n",
      "phi -136.49914452560606 psi 144.40615983010048\n",
      "phi -102.82593351414 psi 129.46937041603402\n",
      "phi -107.80527702524483 psi 108.85990676938704\n",
      "phi -132.79896366035118 psi 150.68042076997554\n",
      "phi -109.54332786264406 psi 135.28075071211555\n",
      "phi -129.19683643443875 psi 120.46711024073511\n",
      "phi 144.81208231299019 psi 162.63268408058545\n",
      "phi -61.298768136594184 psi 170.5564248072735\n",
      "phi -58.450880295830146 psi 158.86943924135645\n",
      "phi 87.29916536286414 psi 135.49250238834827\n",
      "phi -78.38498555543015 psi 4.550704805910056\n",
      "phi 113.8302581314706 psi -20.008522252917917\n",
      "phi -54.35724156824258 psi 21.77283726491664\n",
      "phi -67.44049514148148 psi -49.673794716752845\n",
      "phi -62.3247207835999 psi -45.01072996145268\n",
      "phi -65.31726285013609 psi -38.420336456843614\n",
      "phi -59.33009396349832 psi -47.41960392024867\n",
      "phi -66.60550588973601 psi -50.191226316151784\n",
      "phi -56.49833340787453 psi -37.8315448556292\n",
      "phi -61.784253952944574 psi -47.56404220124056\n",
      "phi -77.58321759665128 psi -50.459371465493334\n",
      "phi -111.02365240642503 psi -45.844723914626584\n",
      "phi 59.7134673662583 psi -4.566480946069741\n",
      "phi -151.9132768305238 psi 39.946115824197136\n",
      "phi -92.64321964532624 psi 154.19076808727843\n",
      "phi -91.48222429529348 psi 125.3173903375098\n",
      "phi -77.04000526361143 psi 120.63900953524879\n",
      "phi -159.287103244923 psi -15.00050220180485\n",
      "phi -157.76780387418097 psi 150.20020880045595\n",
      "phi -40.0834734717257 psi 121.05489093362252\n",
      "phi -68.50762753166248 psi 114.50900028528405\n",
      "phi -94.28514205888972 psi -8.259320949205256\n",
      "phi -77.14255577513684 psi -9.38177583872161\n",
      "phi -113.2235545936963 psi 114.23738632883462\n",
      "phi -154.69072336356336 psi 125.81473590203807\n",
      "phi -98.86801139608481 psi 163.11889465748388\n",
      "phi -126.9560870500694 psi 140.40569430171215\n",
      "phi -113.06148099122869 psi 129.21459751133114\n",
      "phi -163.26000298665278 psi 151.17020992251523\n",
      "phi -73.27713665640594 psi 126.86606509181186\n",
      "phi -136.15622765295453 psi 127.23898287507893\n",
      "phi -118.17087180551961 psi 175.28451114143976\n",
      "phi -122.73909918364406 psi 123.12227831606188\n",
      "phi 54.83220089204322 psi 117.52898970748434\n",
      "phi 84.74944511456557 psi 36.709021932065625\n",
      "phi -94.61198591276248 psi -8.509621173047668\n",
      "phi -75.64017987390507 psi 124.94340628953229\n",
      "phi -153.78113961033196 psi 129.17294543334444\n",
      "phi -109.61798707437686 psi 168.46926282564837\n",
      "phi -100.18103788554367 psi 125.81441565384397\n",
      "phi -119.80572376841322 psi 134.97567207583666\n",
      "phi -113.90899679451455 psi 113.60519666899744\n",
      "phi -91.11276812040971 psi 118.47077389808246\n",
      "phi -89.59767711546402 psi 111.97697498874507\n",
      "phi -81.9071265720677 psi 104.78900254927885\n",
      "phi -135.757818725915 psi 156.9446522950224\n",
      "phi -98.9333180775343 psi 147.9974484489304\n",
      "phi 164.60982929530613 psi 80.66389514814614\n",
      "phi -61.29095722531996 psi -56.050467271523374\n",
      "phi -90.30135333662817 psi -28.948163936202963\n",
      "phi -58.55595705748928 psi -2.353646889952812\n",
      "phi -98.15256430029687 psi 134.28870729539943\n",
      "phi -156.39549488467622 psi -19.01860767353468\n",
      "phi -130.9280713988421 psi 149.73363114792124\n",
      "phi -91.79759903555922 psi 132.13473621527638\n",
      "phi -100.9810728056139 psi 122.67167605418028\n",
      "phi -107.27106830090727 psi 108.23417323042227\n",
      "phi -125.4466025985391 psi 131.65296706699746\n",
      "phi -105.5459012670096 psi 168.37205020302997\n",
      "phi -69.01369876999347 psi 137.30778828232957\n",
      "phi -106.19218725517214 psi -13.158419445475722\n",
      "phi -146.25326522730225 psi 27.793339846850404\n",
      "phi -53.066304918954934 psi 91.3165643255724\n",
      "phi -59.08868532941336 psi -46.50476142966084\n",
      "phi -64.79345684028436 psi -35.77373265588856\n",
      "phi -66.55128729327663 psi -35.99829428867691\n",
      "phi -52.79738075710254 psi -48.1204732180639\n",
      "phi -70.96566603388027 psi -41.890988763816694\n",
      "phi -48.83824493274171 psi -16.44164045747206\n",
      "phi -62.64359322033584 psi -41.17238678364568\n",
      "phi -63.808858517971245 psi -33.856208503261506\n",
      "phi -68.09682664147898 psi -42.471454495468066\n",
      "phi -58.06908672405521 psi -44.15464005094922\n",
      "phi -66.54979558429027 psi -43.99230920536771\n",
      "phi -52.650271355775644 psi -41.56715353839617\n",
      "phi -68.47545942608791 psi -44.961155071892875\n",
      "phi -56.03563701241557 psi -44.60791364425151\n",
      "phi -72.62269911734172 psi -42.808840603492236\n",
      "phi -65.32439569258835 psi -44.662193717014226\n",
      "phi -94.60925960366866 psi -31.770269762053896\n",
      "phi 43.87572937461967 psi -3.2195414248524257\n",
      "phi -160.8545822477702 psi 51.94035906796667\n",
      "phi -86.7481997258472 psi 141.83036722208413\n",
      "phi -102.02274799071256 psi -10.790650233299937\n",
      "phi -66.95762979170655 psi 17.49702128946235\n",
      "phi -54.46692152021813 psi 126.9962837249915\n",
      "phi -150.8215244153938 psi 128.84005533257505\n",
      "phi -136.8221454975025 psi 161.07581249343886\n",
      "phi -88.6295911250998 psi 136.2439342978669\n",
      "phi -117.80000679938841 psi 126.55824460012758\n",
      "phi -103.94065739710801 psi 123.53959278177337\n",
      "phi -94.27870939495865 psi 104.29875288899484\n",
      "phi 73.14734625498592 psi 167.2238909850614\n",
      "phi -67.84664092448867 psi 30.999492575948143\n",
      "phi -68.18771150993399 psi -10.444349438725427\n",
      "phi -83.5982522404001 psi -21.934971579341582\n",
      "phi -84.15514777687557 psi 139.9701173773421\n",
      "phi -93.22222148655389 psi -5.596526507205961\n",
      "phi -75.09863790773403 psi 53.427865378375685\n",
      "phi -123.1801735839292 psi 127.33582074780554\n",
      "phi -119.32382230356615 psi -1.1240375545198682\n",
      "phi -85.48201571101586 psi 114.39665914064345\n",
      "phi -68.21367403647571 psi 169.75665964997935\n",
      "phi -65.04833019566166 psi -30.37445334418462\n",
      "phi -56.73563704006677 psi -45.1502409443641\n",
      "phi -69.29724685635084 psi -47.39886053198722\n",
      "phi -63.473984797789434 psi -46.785528349165375\n",
      "phi -64.4609306897868 psi -42.02009034742527\n",
      "phi -62.51505120423491 psi -37.12188208987813\n",
      "phi -56.90142854516014 psi -49.58201761673251\n",
      "phi -65.45361566279911 psi -41.36812353300279\n",
      "phi -61.10452842808925 psi -35.92721242275781\n",
      "phi -97.17853857819576 psi -29.799736627183744\n",
      "phi 59.75288669355677 psi -9.405013139146511\n",
      "phi -127.42624169376424 psi 38.18302180410672\n",
      "phi -66.90841552283898 psi 160.35532711939692\n",
      "phi -107.43211309571868 psi 143.46778171979955\n",
      "phi -127.27510746642648 psi 128.94918269015037\n",
      "phi -88.07702125579996 psi 126.40754178270227\n",
      "phi -129.40149613269568 psi 128.59603562214218\n",
      "phi -132.25249828718236 psi 159.8636397842812\n",
      "phi -61.35135025132018 psi 109.50343490203831\n",
      "phi -67.5064628684724 psi -27.424430060796098\n",
      "phi -97.25105296502606 psi -46.63961513874204\n",
      "phi 86.04994176526651 psi -17.33363840308344\n",
      "phi -53.133129666676496 psi -4.572562153620828\n",
      "phi 72.29214973274262 psi 132.6137789427209\n",
      "phi -66.55816738534985 psi -8.302735314998616\n",
      "phi -56.4765017359556 psi -53.02501268594623\n",
      "phi -55.57085542838359 psi -45.24856710665394\n",
      "phi -64.23967024372496 psi -42.35217442010759\n",
      "phi -66.62745486213655 psi -52.067530524375144\n",
      "phi -71.99038036989339 psi -43.72273341382816\n",
      "phi -59.08645001000242 psi -35.65100646746305\n",
      "phi -57.4942138069724 psi -42.95509086682822\n",
      "phi -52.84627077886391 psi -49.21486105451885\n",
      "phi -65.97683035758081 psi -44.3043700116878\n",
      "phi -62.381493943893275 psi -34.597749587159676\n",
      "phi -68.67851142628236 psi -39.18361797296552\n",
      "phi -51.61864768407051 psi -44.7208424123276\n",
      "phi -60.60497382734898 psi -48.23298214479676\n",
      "phi -60.040767025001955 psi -46.97204736273104\n",
      "phi -68.28812685166731 psi -41.41722142657148\n"
     ]
    }
   ],
   "source": [
    "def pep_dihedral(structure, chain):\n",
    "    \"\"\" pep_diedral recibe una structure de biopython, y el nombre de una cadena.\n",
    "    Devuelve un generador de tuplas (phi, psi) \"\"\"\n",
    "    \n",
    "    prev_ca, prev_t = None, None\n",
    "    chain_res = [res for res in structure[0][chain] if res.id[0] == \" \"]\n",
    "    \n",
    "    for i in range(len(chain_res) - 1):\n",
    "        cr, nr = chain_res[i], chain_res[i+1]\n",
    "        phi = deg(vectors.calc_dihedral( *(a.get_vector() for a in (cr[\"C\"], nr[\"N\"], nr[\"CA\"], nr[\"C\"]))))\n",
    "        psi = deg(vectors.calc_dihedral(*(a.get_vector() for a in (cr[\"N\"], cr[\"CA\"], cr[\"C\"], nr[\"N\"]))))\n",
    "        \n",
    "        yield phi, psi\n",
    "\n",
    "structure = parse_cif(download(\"3con\", \"mmCif\"))\n",
    "print(structure.header[\"name\"])\n",
    "\n",
    "for phi, psi in pep_dihedral(structure, \"A\"):\n",
    "    print(\"phi\", phi, \"psi\", psi)"
   ]
  },
  {
   "cell_type": "code",
   "execution_count": 22,
   "metadata": {
    "tags": []
   },
   "outputs": [
    {
     "data": {
      "text/plain": [
       "<matplotlib.lines.Line2D at 0x7f4a2251f130>"
      ]
     },
     "execution_count": 22,
     "metadata": {},
     "output_type": "execute_result"
    },
    {
     "data": {
      "image/png": "[encoded data removed]",
      "text/plain": [
       "<Figure size 864x576 with 1 Axes>"
      ]
     },
     "metadata": {},
     "output_type": "display_data"
    }
   ],
   "source": [
    "ax = sns.scatterplot(*zip(*pep_dihedral(structure, \"A\")))\n",
    "ax.set(xlim=(-200, 200), ylim=(-200, 200))\n",
    "ax.axhline(0)\n",
    "ax.axvline(0)"
   ]
  },
  {
   "cell_type": "markdown",
   "metadata": {},
   "source": [
    "## 3.\n",
    "Utilizando valores de los ángulos Phi/psi calculados en el punto anterior determine los elementos de estructura secundaria correspondientes a cada posición de la secuencia"
   ]
  },
  {
   "cell_type": "code",
   "execution_count": 23,
   "metadata": {
    "tags": []
   },
   "outputs": [
    {
     "name": "stdout",
     "output_type": "stream",
     "text": [
      "T <Residue MET het=  resseq=1 icode= >\n",
      "T <Residue THR het=  resseq=2 icode= >\n",
      "B <Residue GLU het=  resseq=3 icode= >\n",
      "B <Residue TYR het=  resseq=4 icode= >\n",
      "B <Residue LYS het=  resseq=5 icode= >\n",
      "B <Residue LEU het=  resseq=6 icode= >\n",
      "B <Residue VAL het=  resseq=7 icode= >\n",
      "B <Residue VAL het=  resseq=8 icode= >\n",
      "T <Residue VAL het=  resseq=9 icode= >\n",
      "T <Residue GLY het=  resseq=10 icode= >\n",
      "T <Residue ALA het=  resseq=11 icode= >\n",
      "T <Residue GLY het=  resseq=12 icode= >\n",
      "T <Residue GLY het=  resseq=13 icode= >\n",
      "T <Residue VAL het=  resseq=14 icode= >\n",
      "T <Residue GLY het=  resseq=15 icode= >\n",
      "T <Residue LYS het=  resseq=16 icode= >\n",
      "T <Residue SER het=  resseq=17 icode= >\n",
      "H <Residue ALA het=  resseq=18 icode= >\n",
      "H <Residue LEU het=  resseq=19 icode= >\n",
      "H <Residue THR het=  resseq=20 icode= >\n",
      "H <Residue ILE het=  resseq=21 icode= >\n",
      "H <Residue GLN het=  resseq=22 icode= >\n",
      "H <Residue LEU het=  resseq=23 icode= >\n",
      "H <Residue ILE het=  resseq=24 icode= >\n",
      "T <Residue GLN het=  resseq=25 icode= >\n",
      "T <Residue ASN het=  resseq=26 icode= >\n",
      "T <Residue HIS het=  resseq=27 icode= >\n",
      "B <Residue PHE het=  resseq=28 icode= >\n",
      "B <Residue VAL het=  resseq=29 icode= >\n",
      "T <Residue ASP het=  resseq=30 icode= >\n",
      "T <Residue GLU het=  resseq=31 icode= >\n",
      "T <Residue TYR het=  resseq=32 icode= >\n",
      "B <Residue ASP het=  resseq=33 icode= >\n",
      "T <Residue PRO het=  resseq=34 icode= >\n",
      "T <Residue THR het=  resseq=35 icode= >\n",
      "T <Residue ILE het=  resseq=36 icode= >\n",
      "T <Residue GLU het=  resseq=37 icode= >\n",
      "B <Residue ASP het=  resseq=38 icode= >\n",
      "B <Residue SER het=  resseq=39 icode= >\n",
      "B <Residue TYR het=  resseq=40 icode= >\n",
      "B <Residue ARG het=  resseq=41 icode= >\n",
      "B <Residue LYS het=  resseq=42 icode= >\n",
      "B <Residue GLN het=  resseq=43 icode= >\n",
      "B <Residue VAL het=  resseq=44 icode= >\n",
      "B <Residue VAL het=  resseq=45 icode= >\n",
      "T <Residue ILE het=  resseq=46 icode= >\n",
      "T <Residue ASP het=  resseq=47 icode= >\n",
      "H <Residue GLY het=  resseq=48 icode= >\n",
      "T <Residue GLU het=  resseq=49 icode= >\n",
      "T <Residue THR het=  resseq=50 icode= >\n",
      "B <Residue CYS het=  resseq=51 icode= >\n",
      "B <Residue LEU het=  resseq=52 icode= >\n",
      "B <Residue LEU het=  resseq=53 icode= >\n",
      "B <Residue ASP het=  resseq=54 icode= >\n",
      "B <Residue ILE het=  resseq=55 icode= >\n",
      "B <Residue LEU het=  resseq=56 icode= >\n",
      "B <Residue ASP het=  resseq=57 icode= >\n",
      "B <Residue THR het=  resseq=58 icode= >\n",
      "B <Residue ALA het=  resseq=59 icode= >\n",
      "T <Residue GLY het=  resseq=60 icode= >\n",
      "T <Residue MET het=  resseq=72 icode= >\n",
      "H <Residue ARG het=  resseq=73 icode= >\n",
      "H <Residue THR het=  resseq=74 icode= >\n",
      "T <Residue GLY het=  resseq=75 icode= >\n",
      "T <Residue GLU het=  resseq=76 icode= >\n",
      "T <Residue GLY het=  resseq=77 icode= >\n",
      "T <Residue PHE het=  resseq=78 icode= >\n",
      "B <Residue LEU het=  resseq=79 icode= >\n",
      "B <Residue CYS het=  resseq=80 icode= >\n",
      "B <Residue VAL het=  resseq=81 icode= >\n",
      "B <Residue PHE het=  resseq=82 icode= >\n",
      "B <Residue ALA het=  resseq=83 icode= >\n",
      "T <Residue ILE het=  resseq=84 icode= >\n",
      "T <Residue ASN het=  resseq=85 icode= >\n",
      "T <Residue ASN het=  resseq=86 icode= >\n",
      "T <Residue SER het=  resseq=87 icode= >\n",
      "T <Residue LYS het=  resseq=88 icode= >\n",
      "H <Residue SER het=  resseq=89 icode= >\n",
      "H <Residue PHE het=  resseq=90 icode= >\n",
      "H <Residue ALA het=  resseq=91 icode= >\n",
      "H <Residue ASP het=  resseq=92 icode= >\n",
      "H <Residue ILE het=  resseq=93 icode= >\n",
      "H <Residue ASN het=  resseq=94 icode= >\n",
      "H <Residue LEU het=  resseq=95 icode= >\n",
      "H <Residue TYR het=  resseq=96 icode= >\n",
      "H <Residue ARG het=  resseq=97 icode= >\n",
      "H <Residue GLU het=  resseq=98 icode= >\n",
      "H <Residue GLN het=  resseq=99 icode= >\n",
      "H <Residue ILE het=  resseq=100 icode= >\n",
      "H <Residue LYS het=  resseq=101 icode= >\n",
      "H <Residue ARG het=  resseq=102 icode= >\n",
      "H <Residue VAL het=  resseq=103 icode= >\n",
      "T <Residue LYS het=  resseq=104 icode= >\n",
      "T <Residue ASP het=  resseq=105 icode= >\n",
      "T <Residue SER het=  resseq=106 icode= >\n",
      "T <Residue ASP het=  resseq=107 icode= >\n",
      "T <Residue ASP het=  resseq=108 icode= >\n",
      "T <Residue VAL het=  resseq=109 icode= >\n",
      "B <Residue PRO het=  resseq=110 icode= >\n",
      "B <Residue MET het=  resseq=111 icode= >\n",
      "B <Residue VAL het=  resseq=112 icode= >\n",
      "B <Residue LEU het=  resseq=113 icode= >\n",
      "B <Residue VAL het=  resseq=114 icode= >\n",
      "B <Residue GLY het=  resseq=115 icode= >\n",
      "T <Residue ASN het=  resseq=116 icode= >\n",
      "T <Residue LYS het=  resseq=117 icode= >\n",
      "T <Residue CYS het=  resseq=118 icode= >\n",
      "T <Residue ASP het=  resseq=119 icode= >\n",
      "T <Residue LEU het=  resseq=120 icode= >\n",
      "T <Residue PRO het=  resseq=121 icode= >\n",
      "T <Residue THR het=  resseq=122 icode= >\n",
      "T <Residue ARG het=  resseq=123 icode= >\n",
      "T <Residue THR het=  resseq=124 icode= >\n",
      "T <Residue VAL het=  resseq=125 icode= >\n",
      "T <Residue ASP het=  resseq=126 icode= >\n",
      "T <Residue THR het=  resseq=127 icode= >\n",
      "T <Residue LYS het=  resseq=128 icode= >\n",
      "H <Residue GLN het=  resseq=129 icode= >\n",
      "H <Residue ALA het=  resseq=130 icode= >\n",
      "H <Residue HIS het=  resseq=131 icode= >\n",
      "H <Residue GLU het=  resseq=132 icode= >\n",
      "H <Residue LEU het=  resseq=133 icode= >\n",
      "H <Residue ALA het=  resseq=134 icode= >\n",
      "H <Residue LYS het=  resseq=135 icode= >\n",
      "H <Residue SER het=  resseq=136 icode= >\n",
      "T <Residue TYR het=  resseq=137 icode= >\n",
      "T <Residue GLY het=  resseq=138 icode= >\n",
      "T <Residue ILE het=  resseq=139 icode= >\n",
      "B <Residue PRO het=  resseq=140 icode= >\n",
      "B <Residue PHE het=  resseq=141 icode= >\n",
      "B <Residue ILE het=  resseq=142 icode= >\n",
      "B <Residue GLU het=  resseq=143 icode= >\n",
      "B <Residue THR het=  resseq=144 icode= >\n",
      "B <Residue SER het=  resseq=145 icode= >\n",
      "T <Residue ALA het=  resseq=146 icode= >\n",
      "T <Residue LYS het=  resseq=147 icode= >\n",
      "T <Residue THR het=  resseq=148 icode= >\n",
      "T <Residue ARG het=  resseq=149 icode= >\n",
      "T <Residue GLN het=  resseq=150 icode= >\n",
      "H <Residue GLY het=  resseq=151 icode= >\n",
      "H <Residue VAL het=  resseq=152 icode= >\n",
      "H <Residue GLU het=  resseq=153 icode= >\n",
      "H <Residue ASP het=  resseq=154 icode= >\n",
      "H <Residue ALA het=  resseq=155 icode= >\n",
      "H <Residue PHE het=  resseq=156 icode= >\n",
      "H <Residue TYR het=  resseq=157 icode= >\n",
      "H <Residue THR het=  resseq=158 icode= >\n",
      "H <Residue LEU het=  resseq=159 icode= >\n",
      "H <Residue VAL het=  resseq=160 icode= >\n",
      "H <Residue ARG het=  resseq=161 icode= >\n",
      "H <Residue GLU het=  resseq=162 icode= >\n",
      "H <Residue ILE het=  resseq=163 icode= >\n",
      "H <Residue ARG het=  resseq=164 icode= >\n",
      "H <Residue GLN het=  resseq=165 icode= >\n",
      "H <Residue TYR het=  resseq=166 icode= >\n"
     ]
    }
   ],
   "source": [
    "def sec(dihedrals, w=3):\n",
    "    \"\"\" sec recibe el generador de angulos dihedros anterior y un tamaño w de ventana deslizante.\n",
    "    En la ventana deslizante lleva la cuenta de que cuadrantes caen los ultimos w pares phi-psi.\n",
    "    Devuelve un generador que por cada posicion da B=hoja beta, H=helice, T=turn/otro en base a que valor unanime contiene la ventana.\n",
    "    \"\"\"\n",
    "    window = []\n",
    "    for phi, psi in dihedrals:\n",
    "        if len(window) >= w:\n",
    "            window.pop(0)\n",
    "        if phi < 0 and psi > 0:\n",
    "            window.append(\"B\")\n",
    "        elif (phi < 0 and psi < 0) or (phi > 0 and psi > 0):\n",
    "            window.append(\"H\")\n",
    "        else:\n",
    "            window.append(\"T\")  \n",
    "\n",
    "        if window.count(\"B\") == w:\n",
    "            yield \"B\"\n",
    "        elif window.count(\"H\") == w:\n",
    "            yield \"H\"\n",
    "        else:\n",
    "            yield \"T\"\n",
    "\n",
    "for secstruct, res in zip(sec(pep_dihedral(structure, \"A\")), structure[0][\"A\"]):\n",
    "    print(secstruct, res)"
   ]
  },
  {
   "cell_type": "code",
   "execution_count": 24,
   "metadata": {
    "tags": []
   },
   "outputs": [
    {
     "data": {
      "application/vnd.jupyter.widget-view+json": {
       "model_id": "50ca35cc5ab048b88d49bb64eeca0dda",
       "version_major": 2,
       "version_minor": 0
      },
      "text/plain": [
       "NGLWidget(background='black')"
      ]
     },
     "metadata": {},
     "output_type": "display_data"
    }
   ],
   "source": [
    "# Verificacion visual\n",
    "\n",
    "view = nv.show_biopython(structure)\n",
    "view.clear_representations()\n",
    "view.add_representation(\"cartoon\", selection=\"protein\", color=\"grey\")\n",
    "view.background = \"black\"\n",
    "\n",
    "sec_pos = {\n",
    "    \"H\": [], \"B\": [], \"T\": []\n",
    "}\n",
    "\n",
    "for sec_struct, res in zip(sec(pep_dihedral(structure, \"A\")), structure[0][\"A\"]):\n",
    "    sec_pos[sec_struct].append(res.full_id[3][1])\n",
    "\n",
    "view.add_representation(\"backbone\", aspectRatio=2, selection=\" \".join(str(pos) for pos in sec_pos[\"H\"]), color=\"red\")\n",
    "view.add_representation(\"backbone\", aspectRatio=2, selection=\" \".join(str(pos) for pos in sec_pos[\"B\"]), color=\"green\")\n",
    "view.add_representation(\"backbone\", aspectRatio=2, selection=\" \".join(str(pos) for pos in sec_pos[\"T\"]), color=\"blue\")\n",
    "view"
   ]
  },
  {
   "cell_type": "markdown",
   "metadata": {},
   "source": [
    "# Actividad 4\n",
    "Elija una familia de proteìnas que contenga al menos 10 estructuras correspondientes a\n",
    "organismos distintos y realice las siguientes actividades:\n",
    "## 1.\n",
    "Alineamiento múltiple de todas las estructuras y estimación de una matriz de distancia\n",
    "(RMSD de CA)."
   ]
  },
  {
   "cell_type": "code",
   "execution_count": 25,
   "metadata": {
    "tags": []
   },
   "outputs": [
    {
     "name": "stdout",
     "output_type": "stream",
     "text": [
      "Structure exists: 'data/1hny.cif' \n",
      "Structure exists: 'data/1c8q.cif' \n",
      "Structure exists: 'data/1amy.cif' \n",
      "Structure exists: 'data/2guy.cif' \n",
      "Structure exists: 'data/1clv.cif' \n",
      "Structure exists: 'data/1aqh.cif' \n",
      "Structure exists: 'data/1hvx.cif' \n",
      "Structure exists: 'data/1ht6.cif' \n",
      "Structure exists: 'data/4x9y.cif' \n",
      "Structure exists: 'data/1dhk.cif' \n",
      "Structure exists: 'data/1g5a.cif' \n",
      "1HNY The structure of human pancreatic alpha-amylase at 1.8 angstroms resolution and comparisons with related enzymes\n",
      "1C8Q STRUCTURE SOLUTION AND REFINEMENT OF THE RECOMBINANT HUMAN SALIVARY AMYLASE\n",
      "1AMY CRYSTAL AND MOLECULAR STRUCTURE OF BARLEY ALPHA-AMYLASE\n",
      "2GUY Orthorhombic crystal structure (space group P21212) of Aspergillus niger alpha-amylase at 1.6 A resolution\n",
      "1CLV YELLOW MEAL WORM ALPHA-AMYLASE IN COMPLEX WITH THE AMARANTH ALPHA-AMYLASE INHIBITOR\n",
      "1AQH ALPHA-AMYLASE FROM ALTEROMONAS HALOPLANCTIS\n",
      "1HVX BACILLUS STEAROTHERMOPHILUS ALPHA-AMYLASE\n",
      "1HT6 CRYSTAL STRUCTURE AT 1.5A RESOLUTION OF THE BARLEY ALPHA-AMYLASE ISOZYME 1\n",
      "4X9Y Wild-Type Human Pancreatic Alpha-Amylase at True Atomic Resolution (1.07 A)\n",
      "1DHK STRUCTURE OF PORCINE PANCREATIC ALPHA-AMYLASE\n",
      "1G5A AMYLOSUCRASE FROM NEISSERIA POLYSACCHAREA\n"
     ]
    }
   ],
   "source": [
    "# http://pfam.xfam.org/family/PF00128\n",
    "pdb_ids = [\"1hny\", \"1c8q\", \"1amy\", \"2guy\", \"1clv\", \"1aqh\", \"1hvx\", \"1ht6\", \"4x9y\", \"1dhk\", \"1g5a\"]\n",
    "pdb_ids = [pdb_id.upper() for pdb_id in pdb_ids]\n",
    "\n",
    "structures = {pdb_id: parse_cif(download(pdb_id, \"mmCif\")) for pdb_id in pdb_ids}\n",
    "\n",
    "for pdb_id, structure in structures.items():\n",
    "    print(pdb_id, structure.header[\"name\"])"
   ]
  },
  {
   "cell_type": "code",
   "execution_count": 26,
   "metadata": {},
   "outputs": [
    {
     "name": "stdout",
     "output_type": "stream",
     "text": [
      ">1HNY The structure of human pancreatic alpha-amylase at 1.8 angstroms resolution and comparisons with related enzymes\n",
      "YSPNTQQGRTSIVHLFEWRWVDIALECERYLAPKGFGGVQVSPPNENVAIYNPFRPWWERYQPVSYKLCTRSGNEDEFRNMVTRCNNVGVRIYVDAVINHMCGNAVSAGTSSTCGSYFNPGSRDFPAVPYSGWDFNDGKCKTGSGDIENYNDATQVRDCRLTGLLDLALEKDYVRSKIAEYMNHLIDIGVAGFRLDASKHMWPGDIKAILDKLHNLNSNWFPAGSKPFIYQEVIDLGGEPIKSSDYFGNGRVTEFKYGAKLGTVIRKWNGEKMSYLKNWGEGWGFVPSDRALVFVDNHDNQRGHGAGGASILTFWDARLYKMAVGFMLAHPYGFTRVMSSYRWPRQFQNGNDVNDWVGPPNNNGVIKEVTINPDTTCGNDWVCEHRWRQIRNMVIFRNVVDGQPFTNWYDNGSNQVAFGRGNRGFIVFNNDDWSFSLTLQTGLPAGTYCDVISGDKINGNCTGIKIYVSDDGKAHFSISNSAEDPFIAIHAESKL\n",
      "\n",
      ">1C8Q STRUCTURE SOLUTION AND REFINEMENT OF THE RECOMBINANT HUMAN SALIVARY AMYLASE\n",
      "YSSNTQQGRTSIVHLFEWRWVDIALECERYLAPKGFGGVQVSPPNENVAIHNPFRPWWERYQPVSYKLCTRSGNEDEFRNMVTRCNNVGVRIYVDAVINHMCGNAVSAGTSSTCGSYFNPGSRDFPAVPYSGWDFNDGKCKTGSGDIENYNDATQVRDCRLSGLLDLALGKDYVRSKIAEYMNHLIDIGVAGFRIDASKHMWPGDIKAILDKLHNLNSNWFPEGSKPFIYQEVIDLGGEPIKSSDYFGNGRVTEFKYGAKLGTVIRKWNGEKMSYLKNWGEGWGFMPSDRALVFVDNHDNQRGHGAGGASILTFWDARLYKMAVGFMLAHPYGFTRVMSSYRWPRYFENGKDVNDWVGPPNDNGVTKEVTINPDTTCGNDWVCEHRWRQIRNMVNFRNVVDGQPFTNWYDNGSNQVAFGRGNRGFIVFNNDDWTFSLTLQTGLPAGTYCDVISGDKINGNCTGIKIYVSDDGKAHFSISNSAEDPFIAIHAESKL\n",
      "\n",
      ">1AMY CRYSTAL AND MOLECULAR STRUCTURE OF BARLEY ALPHA-AMYLASE\n",
      "QVLFQGFNWESWKHNGGWYNFLMGKVDDIAAAGITHVWLPPASQSVAEQGYMPGRLYDLDASKYGNKAQLKSLIGALHGKGVKAIADIVINHRTAEHKDGRGIYCIFEGGTPDARLDWGPHMICRDDRPYADGTGNPDTGADFGAAPDIDHLNLRVQKELVEWLNWLKADIGFDGWRFDFAKGYSADVAKIYIDRSEPSFAVAEIWTSLAYGGDGKPNLNQDQHRQELVNWVDKVGGKGPATTFDFTTKGILNVAVEGELWRLRGTDGKAPGMIGWWPAKAVTFVDNHDTGSTQHMWPFPSDRVMQGYAYILTHPGTPCIFYDHFFDWGLKEEIDRLVSVRTRHGIHNESKLQIIEADADLYLAEIDGKVIVKLGPRYDVGNLIPGGFKVAAHGNDYAVWEKI\n",
      "\n",
      ">2GUY Orthorhombic crystal structure (space group P21212) of Aspergillus niger alpha-amylase at 1.6 A resolution\n",
      "ATPADWRSQSIYFLLTDRFARTDGSTTATCNTADQKYCGGTWQGIIDKLDYIQGMGFTAIWITPVTAQLPQTTAYGDAYHGYWQQDIYSLNENYGTADDLKALSSALHERGMYLMVDVVANHMGYDGAGSSVDYSVFKPFSSQDYFHPFCFIQNYEDQTQVEDCWLGDNTVSLPDLDTTKDVVKNEWYDWVGSLVSNYSIDGLRIDTVKHVQKDFWPGYNKAAGVYCIGEVLDGDPAYTCPYQNVMDGVLNYPIYYPLLNAFKSTSGSMDDLYNMINTVKSDCPDSTLLGTFVENHDNPRFASYTNDIALAKNVAAFIILNDGIPIIYAGQEQHYAGGNDPANREATWLSGYPTDSELYKLIASANAIRNYAISKDTGFVTYKNWPIYKDDTTIAMRKGTDGSQIVTILSNKGASGDSYTLSLSGAGYTAGQQLTEVIGCTTVTVGSDGNVPVPMAGGLPRVLYPTEKLAGSKICS\n",
      "\n",
      ">1CLV YELLOW MEAL WORM ALPHA-AMYLASE IN COMPLEX WITH THE AMARANTH ALPHA-AMYLASE INHIBITOR\n",
      "KDANFASGRNSIVHLFEWKWNDIADECERFLQPQGFGGVQISPPNEYLVADGRPWWERYQPVSYIINTRSGDESAFTDMTRRCNDAGVRIYVDAVINHMTGMNGVGTSGSSADHDGMNYPAVPYGSGDFHSPCEVNNYQDADNVRNCELVGLRDLNQGSDYVRGVLIDYMNHMIDLGVAGFRVDAAKHMSPGDLSVIFSGLKNLNTDYGFADGARPFIYQEVIDLGGEAISKNEYTGFGCVLEFQFGVSLGNAFQGGNQLKNLANWGPEWGLLEGLDAVVFVDNHDNQRTGGSQILTYKNPKPYKMAIAFMLAHPYGTTRIMSSFDFTDNDQGPPQDGSGNLISPGINDDNTCSNGYVCEHRWRQVYGMVGFRNAVEGTQVENWWSNDDNQIAFSRGSQGFVAFTNGGDLNQNLNTGLPAGTYCDVISGELSGGSCTGKSVTVGDNGSADISLGSAEDDGVLAIHVNAKL\n",
      "\n",
      ">1AQH ALPHA-AMYLASE FROM ALTEROMONAS HALOPLANCTIS\n",
      "TPTTFVHLFEWNWQDVAQECEQYLGPKGYAAVQVSPPNEHITGSQWWTRYQPVSYELQSRGGNRAQFIDMVNRCSAAGVDIYVDTLINHMAAGSGTGTAGNSFGNKSFPIYSPQDFHESCTINNSDYGNDRYRVQNCELVGLADLDTASNYVQNTIAAYINDLQAIGVKGFRFDASKHVAASDIQSLMAKVNGSPVVFQEVIDQGGEAVGASEYLSTGLVTEFKYSTELGNTFRNGSLAWLSNFGEGWGFMPSSSAVVFVDNHDNQRGHGGAGNVITFEDGRLYDLANVFMLAYPYGYPKVMSSYDFHGDTDAGGPNVPVHNNGNLECFASNWKCEHRWSYIAGGVDFRNNTADNWAVTNWWDNTNNQISFGRGSSGHMAINKEDSTLTATVQTDMASGQYCNVLKGELSADAKSCSGEVITVNSDGTINLNIGAWDAMAIHKNAKLN\n",
      "\n",
      ">1HVX BACILLUS STEAROTHERMOPHILUS ALPHA-AMYLASE\n",
      "AAPFNGTMMQYFEWYLPDDGTLWTKVANEANNLSSLGITALWLPPAYKGTSRSDVGYGVYDLYDLGEFNQKGAVRTKYGTKAQYLQAIQAAHAAGMQVYADVVFDHKGGADGTEWVDAVEVNPSDRNQEISGTYQIQAWTKFDFPGRGNTYSSFKWRWYHFDGVDWDESRKLSRIYKFRGIGKAWDWEVDTENGNYDYLMYADLDMDHPEVVTELKSWGKWYVNTTNIDGFRLDAVKHIKFSFFPDWLSYVRSQTGKPLFTVGEYWSYDINKLHNYIMKTNGTMSLFDAPLHNKFYTASKSGGTFDMRTLMTNTLMKDQPTLAVTFVDNHDTEPGQALQSWVDPWFKPLAYAFILTRQEGYPCVFYGDYYGIPQYNIPSLKSKIDPLLIARRDYAYGTQHDYLDHSDIIGWTREGVTEKPGSGLAALITDGPGGSKWMYVGKQHAGKVFYDLTGNRSDTVTINSDGWGEFKVNGGSVSVWVPR\n",
      "\n",
      ">1HT6 CRYSTAL STRUCTURE AT 1.5A RESOLUTION OF THE BARLEY ALPHA-AMYLASE ISOZYME 1\n",
      "HQVLFQGFNWESWKQSGGWYNMMMGKVDDIAAAGVTHVWLPPPSHSVSNEGYMPGRLYDIDASKYGNAAELKSLIGALHGKGVQAIADIVINHRCADYKDSRGIYCIFEGGTSDGRLDWGPHMICRDDTKYSDGTANLDTGADFAAAPDIDHLNDRVQRELKEWLLWLKSDLGFDAWRLDFARGYSPEMAKVYIDGTSPSLAVAEVWDNMATGGDGKPNYDQDAHRQNLVNWVDKVGGAASAGMVFDFTTKGILNAAVEGELWRLIDPQGKAPGVMGWWPAKAVTFVDNHDTGSTQAMWPFPSDKVMQGYAYILTHPGIPCIFYDHFFNWGFKDQIAALVAIRKRNGITATSALKILMHEGDAYVAEIDGKVVVKIGSRYDVGAVIPAGFVTSAHGNDYAVWEK\n",
      "\n",
      ">4X9Y Wild-Type Human Pancreatic Alpha-Amylase at True Atomic Resolution (1.07 A)\n",
      "YSPNTQQGRTSIVHLFEWRWVDIALECERYLAPKGFGGVQVSPPNENVAIYNPFRPWWERYQPVSYKLCTRSGNEDEFRNMVTRCNNVGVRIYVDAVINHMCGNAVSAGTSSTCGSYFNPGSRDFPAVPYSGWDFNDGKCKTGSGDIENYNDATQVRDCRLTGLLDLALEKDYVRSKIAEYMNHLIDIGVAGFRLDASKHMWPGDIKAILDKLHNLNSNWFPAGSKPFIYQEVIDLGGEPIKSSDYFGNGRVTEFKYGAKLGTVIRKWNGEKMSYLKNWGEGWGFVPSDRALVFVDNHDNQRGHGAGGASILTFWDARLYKMAVGFMLAHPYGFTRVMSSYRWPRQFQNGNDVNDWVGPPNNNGVIKEVTINPDTTCGNDWVCEHRWRQIRNMVIFRNVVDGQPFTNWYDNGSNQVAFGRGNRGFIVFNNDDWSFSLTLQTGLPAGTYCDVISGDKINGNCTGIKIYVSDDGKAHFSISNSAEDPFIAIHAESKL\n",
      "\n",
      ">1DHK STRUCTURE OF PORCINE PANCREATIC ALPHA-AMYLASE\n",
      "YAPQTQSGRTSIVHLFEWRWVDIALECERYLGPKGFGGVQVSPPNENVVVTNPSRPWWERYQPVSYKLCTRSGNENEFRDMVTRCNNVGVRIYVDAVINHMCGSGAAAGTGTTCGSYCNPGSREFPAVPYSAWDFNDGKCKTASGGIESYNDPYQVRDCQLVGLLDLALEKDYVRSMIADYLNKLIDIGVAGFRIDASKHMWPGDIKAVLDKLHNLNTNWFPAGSRPFIFQEVIDLGGEAIQSSEYFGNGRVTEFKYGAKLGTVVRKWSGEKMSYLKNWGEGWGFMPSDRALVFVDNHDNQRGHGAGGASILTFWDARLYKVAVGFMLAHPYGFTRVMSSYRWARNFVNGEDVNDWIGPPNNNGVIKEVTINADTTCGNDWVCEHRWREIRNMVWFRNVVDGQPFANWWDNGSNQVAFGRGNRGFIVFNNDDWQLSSTLQTGLPGGTYCDVISGDKVGNSCTGIKVYVSSDGTAQFSISNSAEDPFIAIHAESKL\n",
      "\n",
      ">1G5A AMYLOSUCRASE FROM NEISSERIA POLYSACCHAREA\n",
      "SPNSQYLKTRILDIYTPEQRAGIEKSEDWRQFSRRMDTHFPKLMNELDSVYGNNEALLPMLEMLLAQAWQSYSQRNSSLKDIDIARENNPDWILSNKQVGGVCYVDLFAGDLKGLKDKIPYFQELGLTYLHLMPLFKCPEGKSDGGYAVSSYRDVNPALGTIGDLREVIAALHEAGISAVVDFIFNHTSNEHEWAQRCAAGDPLFDNFYYIFPDRRMPDQYDRTLREIFPDQHPGGFSQLEDGRWVWTTFNSFQWDLNYSNPWVFRAMAGEMLFLANLGVDILRMDAVAFIWKQMGTSCENLPQAHALIRAFNAVMRIAAPAVFFKSEAIVHPDQVVQYIGQDECQIGYNPLQMALLWNTLATREVNLLHQALTYRHNLPEHTAWVNYVRSHDDIGWTFADEDAAYLGISGYDHRQFLNRFFVNRFDGSFARGVPFQYNPSTGDCRVSGTAAALVGLAQDDPHAVDRIKLLYSIALSTGGLPLIYLGDEVGTLNDDDWSQDSNKSDDSRWAHRPRYNEALYAQRNDPSTAAGQIYQDLRHMIAVRQSNPRFDGGRLVTFNTNNKHIIGYIRNNALLAFGNFSEYPQTVTAHTLQAMPFKAHDLIGGKTVSLNQDLTLQPYQVMWLEIA\n",
      "\n"
     ]
    }
   ],
   "source": [
    "ppb=PPBuilder()\n",
    "for struct in structures.values():\n",
    "    for pp in ppb.build_peptides(struct[0][\"A\"]):\n",
    "        print(\">\"+struct.header[\"idcode\"], struct.header[\"name\"])\n",
    "        print(pp.get_sequence())\n",
    "        print()"
   ]
  },
  {
   "cell_type": "code",
   "execution_count": 27,
   "metadata": {},
   "outputs": [
    {
     "data": {
      "text/plain": [
       "['1AQH',\n",
       " '1CLV',\n",
       " '1DHK',\n",
       " '1HNY',\n",
       " '4X9Y',\n",
       " '1C8Q',\n",
       " '1G5A',\n",
       " '1HVX',\n",
       " '2GUY',\n",
       " '1AMY',\n",
       " '1HT6']"
      ]
     },
     "execution_count": 27,
     "metadata": {},
     "output_type": "execute_result"
    }
   ],
   "source": [
    "# Alineamiento multiple de las secuencias anteriores con Clustal Omega\n",
    "# Trabajo hecho: https://www.ebi.ac.uk/Tools/services/web/toolresult.ebi?jobId=clustalo-I20200926-022534-0245-39620853-p1m\n",
    "\n",
    "aln_txt = requests.get(\"https://www.ebi.ac.uk/Tools/services/rest/clustalo/result/clustalo-I20200926-022534-0245-39620853-p1m/aln-clustal_num\").text\n",
    "\n",
    "aln = AlignIO.read(io.StringIO(aln_txt), \"clustal\")\n",
    "pdb_ids = [record.id for record in aln]\n",
    "pdb_ids"
   ]
  },
  {
   "cell_type": "code",
   "execution_count": 28,
   "metadata": {},
   "outputs": [
    {
     "name": "stdout",
     "output_type": "stream",
     "text": [
      "126 GGGGGGGGGGG\n",
      "{'1AQH': 28, '1CLV': 35, '1DHK': 35, '1HNY': 35, '4X9Y': 35, '1C8Q': 35, '1G5A': 126, '1HVX': 37, '2GUY': 56, '1AMY': 33, '1HT6': 34}\n",
      "<Residue GLY het=  resseq=28 icode= >\n",
      "<Residue GLY het=  resseq=36 icode= >\n",
      "<Residue GLY het=  resseq=36 icode= >\n",
      "<Residue GLY het=  resseq=36 icode= >\n",
      "<Residue GLY het=  resseq=36 icode= >\n",
      "<Residue GLY het=  resseq=36 icode= >\n",
      "<Residue GLY het=  resseq=126 icode= >\n",
      "<Residue GLY het=  resseq=37 icode= >\n",
      "<Residue GLY het=  resseq=56 icode= >\n",
      "<Residue GLY het=  resseq=33 icode= >\n",
      "<Residue GLY het=  resseq=34 icode= >\n",
      "\n",
      "134 PPPPPPPPPPP\n",
      "{'1AQH': 36, '1CLV': 43, '1DHK': 43, '1HNY': 43, '4X9Y': 43, '1C8Q': 43, '1G5A': 134, '1HVX': 45, '2GUY': 64, '1AMY': 41, '1HT6': 42}\n",
      "<Residue PRO het=  resseq=36 icode= >\n",
      "<Residue PRO het=  resseq=44 icode= >\n",
      "<Residue PRO het=  resseq=44 icode= >\n",
      "<Residue PRO het=  resseq=44 icode= >\n",
      "<Residue PRO het=  resseq=44 icode= >\n",
      "<Residue PRO het=  resseq=44 icode= >\n",
      "<Residue PRO het=  resseq=134 icode= >\n",
      "<Residue PRO het=  resseq=45 icode= >\n",
      "<Residue PRO het=  resseq=64 icode= >\n",
      "<Residue PRO het=  resseq=41 icode= >\n",
      "<Residue PRO het=  resseq=42 icode= >\n",
      "\n",
      "152 YYYYYYYYYYY\n",
      "{'1AQH': 50, '1CLV': 59, '1DHK': 61, '1HNY': 61, '4X9Y': 61, '1C8Q': 61, '1G5A': 147, '1HVX': 57, '2GUY': 82, '1AMY': 51, '1HT6': 52}\n",
      "<Residue TYR het=  resseq=50 icode= >\n",
      "<Residue TYR het=  resseq=60 icode= >\n",
      "<Residue TYR het=  resseq=62 icode= >\n",
      "<Residue TYR het=  resseq=62 icode= >\n",
      "<Residue TYR het=  resseq=62 icode= >\n",
      "<Residue TYR het=  resseq=62 icode= >\n",
      "<Residue TYR het=  resseq=147 icode= >\n",
      "<Residue TYR het=  resseq=57 icode= >\n",
      "<Residue TYR het=  resseq=82 icode= >\n",
      "<Residue TYR het=  resseq=51 icode= >\n",
      "<Residue TYR het=  resseq=52 icode= >\n",
      "\n",
      "174 GGGGGGGGGGG\n",
      "{'1AQH': 62, '1CLV': 71, '1DHK': 73, '1HNY': 73, '4X9Y': 73, '1C8Q': 73, '1G5A': 160, '1HVX': 79, '2GUY': 95, '1AMY': 65, '1HT6': 66}\n",
      "<Residue GLY het=  resseq=62 icode= >\n",
      "<Residue GLY het=  resseq=72 icode= >\n",
      "<Residue GLY het=  resseq=74 icode= >\n",
      "<Residue GLY het=  resseq=74 icode= >\n",
      "<Residue GLY het=  resseq=74 icode= >\n",
      "<Residue GLY het=  resseq=74 icode= >\n",
      "<Residue GLY het=  resseq=160 icode= >\n",
      "<Residue GLY het=  resseq=79 icode= >\n",
      "<Residue GLY het=  resseq=95 icode= >\n",
      "<Residue GLY het=  resseq=65 icode= >\n",
      "<Residue GLY het=  resseq=66 icode= >\n",
      "\n",
      "190 GGGGGGGGGGG\n",
      "{'1AQH': 78, '1CLV': 87, '1DHK': 89, '1HNY': 89, '4X9Y': 89, '1C8Q': 89, '1G5A': 176, '1HVX': 95, '2GUY': 111, '1AMY': 81, '1HT6': 82}\n",
      "<Residue GLY het=  resseq=78 icode= >\n",
      "<Residue GLY het=  resseq=88 icode= >\n",
      "<Residue GLY het=  resseq=90 icode= >\n",
      "<Residue GLY het=  resseq=90 icode= >\n",
      "<Residue GLY het=  resseq=90 icode= >\n",
      "<Residue GLY het=  resseq=90 icode= >\n",
      "<Residue GLY het=  resseq=176 icode= >\n",
      "<Residue GLY het=  resseq=95 icode= >\n",
      "<Residue GLY het=  resseq=111 icode= >\n",
      "<Residue GLY het=  resseq=81 icode= >\n",
      "<Residue GLY het=  resseq=82 icode= >\n",
      "\n",
      "196 DDDDDDDDDDD\n",
      "{'1AQH': 84, '1CLV': 93, '1DHK': 95, '1HNY': 95, '4X9Y': 95, '1C8Q': 95, '1G5A': 182, '1HVX': 101, '2GUY': 117, '1AMY': 87, '1HT6': 88}\n",
      "<Residue ASP het=  resseq=84 icode= >\n",
      "<Residue ASP het=  resseq=94 icode= >\n",
      "<Residue ASP het=  resseq=96 icode= >\n",
      "<Residue ASP het=  resseq=96 icode= >\n",
      "<Residue ASP het=  resseq=96 icode= >\n",
      "<Residue ASP het=  resseq=96 icode= >\n",
      "<Residue ASP het=  resseq=182 icode= >\n",
      "<Residue ASP het=  resseq=101 icode= >\n",
      "<Residue ASP het=  resseq=117 icode= >\n",
      "<Residue ASP het=  resseq=87 icode= >\n",
      "<Residue ASP het=  resseq=88 icode= >\n",
      "\n",
      "201 HHHHHHHHHHH\n",
      "{'1AQH': 89, '1CLV': 98, '1DHK': 100, '1HNY': 100, '4X9Y': 100, '1C8Q': 100, '1G5A': 187, '1HVX': 106, '2GUY': 122, '1AMY': 92, '1HT6': 93}\n",
      "<Residue HIS het=  resseq=89 icode= >\n",
      "<Residue HIS het=  resseq=99 icode= >\n",
      "<Residue HIS het=  resseq=101 icode= >\n",
      "<Residue HIS het=  resseq=101 icode= >\n",
      "<Residue HIS het=  resseq=101 icode= >\n",
      "<Residue HIS het=  resseq=101 icode= >\n",
      "<Residue HIS het=  resseq=187 icode= >\n",
      "<Residue HIS het=  resseq=106 icode= >\n",
      "<Residue HIS het=  resseq=122 icode= >\n",
      "<Residue HIS het=  resseq=92 icode= >\n",
      "<Residue HIS het=  resseq=93 icode= >\n",
      "\n",
      "352 RRRRRRRRRRR\n",
      "{'1AQH': 172, '1CLV': 182, '1DHK': 194, '1HNY': 194, '4X9Y': 194, '1C8Q': 194, '1G5A': 284, '1HVX': 232, '2GUY': 204, '1AMY': 177, '1HT6': 178}\n",
      "<Residue ARG het=  resseq=172 icode= >\n",
      "<Residue ARG het=  resseq=183 icode= >\n",
      "<Residue ARG het=  resseq=195 icode= >\n",
      "<Residue ARG het=  resseq=195 icode= >\n",
      "<Residue ARG het=  resseq=195 icode= >\n",
      "<Residue ARG het=  resseq=195 icode= >\n",
      "<Residue ARG het=  resseq=284 icode= >\n",
      "<Residue ARG het=  resseq=232 icode= >\n",
      "<Residue ARG het=  resseq=204 icode= >\n",
      "<Residue ARG het=  resseq=177 icode= >\n",
      "<Residue ARG het=  resseq=178 icode= >\n",
      "\n",
      "354 DDDDDDDDDDD\n",
      "{'1AQH': 174, '1CLV': 184, '1DHK': 196, '1HNY': 196, '4X9Y': 196, '1C8Q': 196, '1G5A': 286, '1HVX': 234, '2GUY': 206, '1AMY': 179, '1HT6': 180}\n",
      "<Residue ASP het=  resseq=174 icode= >\n",
      "<Residue ASP het=  resseq=185 icode= >\n",
      "<Residue ASP het=  resseq=197 icode= >\n",
      "<Residue ASP het=  resseq=197 icode= >\n",
      "<Residue ASP het=  resseq=197 icode= >\n",
      "<Residue ASP het=  resseq=197 icode= >\n",
      "<Residue ASP het=  resseq=286 icode= >\n",
      "<Residue ASP het=  resseq=234 icode= >\n",
      "<Residue ASP het=  resseq=206 icode= >\n",
      "<Residue ASP het=  resseq=179 icode= >\n",
      "<Residue ASP het=  resseq=180 icode= >\n",
      "\n",
      "529 VVVVVVVVVVV\n",
      "{'1AQH': 260, '1CLV': 282, '1DHK': 295, '1HNY': 295, '4X9Y': 295, '1C8Q': 295, '1G5A': 455, '1HVX': 327, '2GUY': 293, '1AMY': 285, '1HT6': 287}\n",
      "<Residue VAL het=  resseq=260 icode= >\n",
      "<Residue VAL het=  resseq=283 icode= >\n",
      "<Residue VAL het=  resseq=296 icode= >\n",
      "<Residue VAL het=  resseq=296 icode= >\n",
      "<Residue VAL het=  resseq=296 icode= >\n",
      "<Residue VAL het=  resseq=296 icode= >\n",
      "<Residue VAL het=  resseq=455 icode= >\n",
      "<Residue VAL het=  resseq=327 icode= >\n",
      "<Residue VAL het=  resseq=293 icode= >\n",
      "<Residue VAL het=  resseq=285 icode= >\n",
      "<Residue VAL het=  resseq=287 icode= >\n",
      "\n",
      "567 GGGGGGGGGGG\n",
      "{'1AQH': 297, '1CLV': 317, '1DHK': 333, '1HNY': 333, '4X9Y': 333, '1C8Q': 333, '1G5A': 480, '1HVX': 360, '2GUY': 323, '1AMY': 316, '1HT6': 318}\n",
      "<Residue GLY het=  resseq=297 icode= >\n",
      "<Residue GLY het=  resseq=318 icode= >\n",
      "<Residue GLY het=  resseq=334 icode= >\n",
      "<Residue GLY het=  resseq=334 icode= >\n",
      "<Residue GLY het=  resseq=334 icode= >\n",
      "<Residue GLY het=  resseq=334 icode= >\n",
      "<Residue GLY het=  resseq=480 icode= >\n",
      "<Residue GLY het=  resseq=360 icode= >\n",
      "<Residue GLY het=  resseq=323 icode= >\n",
      "<Residue GLY het=  resseq=316 icode= >\n",
      "<Residue GLY het=  resseq=318 icode= >\n",
      "\n"
     ]
    }
   ],
   "source": [
    "indexes = {pdb_id: 0 for pdb_id in pdb_ids}\n",
    "\n",
    "ref_atoms = []\n",
    "mov_atoms = []\n",
    "\n",
    "# https://biopython-cn.readthedocs.io/zh_CN/latest/en/chr06.html\n",
    "\n",
    "def identity_100(seq):\n",
    "    \"\"\" identity_100 recibe una string y devuelve True si todos los caracteres son iguales.\n",
    "    False de lo contrario, o si contiene un - \"\"\"\n",
    "    if \"-\" in seq:\n",
    "        return False\n",
    "    for x in seq:\n",
    "        if x != seq[0]:\n",
    "            return False\n",
    "    return True\n",
    "\n",
    "eq_atoms = []\n",
    "# indexes contiene posiciones equivalentes entre cada pdb a medida que se itera el alineamiento multiple\n",
    "for i in range(len(aln[0])):\n",
    "    col = aln[:,i]\n",
    "    \n",
    "    for aa, pdb_id in zip(list(col), pdb_ids):\n",
    "        if aa != \"-\":\n",
    "            indexes[pdb_id] += 1\n",
    "    \n",
    "    if identity_100(col):\n",
    "        print(i, col)\n",
    "        print(indexes)\n",
    "        \n",
    "        cas = []\n",
    "        for pdb_id, i in indexes.items():\n",
    "            res = [r for r in structures[pdb_id][0][\"A\"] if r.id[0] == \" \"][i-1]\n",
    "            print(res)\n",
    "            cas.append(res[\"CA\"])\n",
    "        \n",
    "        eq_atoms.append(cas)\n",
    "        print()\n",
    "\n"
   ]
  },
  {
   "cell_type": "code",
   "execution_count": 29,
   "metadata": {},
   "outputs": [],
   "source": [
    "pdb_eq_atoms = list(zip(*eq_atoms))\n",
    "\n",
    "ref_atoms = pdb_eq_atoms[0] # de 1AQH\n",
    "\n",
    "align_out_path = \"align_out/\"\n",
    "if not os.path.exists(align_out_path):\n",
    "    os.mkdir(align_out_path)\n",
    "    \n",
    "for pdb_id, atoms in zip(pdb_ids, pdb_eq_atoms):\n",
    "    sup = Superimposer()\n",
    "    sup.set_atoms(ref_atoms, atoms)\n",
    "    model = structures[pdb_id][0]\n",
    "    sup.apply(model.get_atoms())\n",
    "    \n",
    "    pdb_io = PDBIO()\n",
    "    pdb_io.set_structure(structures[pdb_id]) \n",
    "    \n",
    "    pdb_io.save(f\"align_out/align_{pdb_id}.pdb\")"
   ]
  },
  {
   "cell_type": "code",
   "execution_count": 30,
   "metadata": {},
   "outputs": [
    {
     "data": {
      "application/vnd.jupyter.widget-view+json": {
       "model_id": "0e41a4a6304846bc91e0e2e19918316a",
       "version_major": 2,
       "version_minor": 0
      },
      "text/plain": [
       "NGLWidget()"
      ]
     },
     "metadata": {},
     "output_type": "display_data"
    }
   ],
   "source": [
    "# Superposicion de estructuras\n",
    "view = nv.show_biopython(structures[\"1AQH\"])\n",
    "\n",
    "for file in os.listdir(align_out_path):\n",
    "    if file.endswith(\".pdb\"):\n",
    "        view.add_component(os.path.join(align_out_path, file))\n",
    "\n",
    "view"
   ]
  },
  {
   "cell_type": "markdown",
   "metadata": {},
   "source": [
    "## 2.\n",
    "Compare el área accesible al solvente (SASA) total con el radio de giro (ROG) para\n",
    "cada una de las estructuras."
   ]
  },
  {
   "cell_type": "code",
   "execution_count": 31,
   "metadata": {
    "scrolled": true
   },
   "outputs": [
    {
     "data": {
      "text/plain": [
       "{'1G5A': 24899.057251602808,\n",
       " '1CLV': 16859.989607509673,\n",
       " '2GUY': 16556.50580732047,\n",
       " '1AQH': 16331.214206312536,\n",
       " '1HNY': 17872.539138356762,\n",
       " '1AMY': 14994.280829666593,\n",
       " '4X9Y': 17755.67894127393,\n",
       " '1C8Q': 17873.230358031964,\n",
       " '1HT6': 16106.759539648932,\n",
       " '1DHK': 23948.715986571882,\n",
       " '1HVX': 17502.288248079272}"
      ]
     },
     "execution_count": 31,
     "metadata": {},
     "output_type": "execute_result"
    }
   ],
   "source": [
    "# SASA\n",
    "\n",
    "# El script de Bash sasa.sh corre freesasa para todos los PDBs del directorio\n",
    "# y devuelve los resultados en forma de archivos JSON.\n",
    "\n",
    "if os.system(\"freesasa -v\") == 0: # esta instalado\n",
    "    os.system(f\"cd {align_out_path} && ./sasa.sh\")\n",
    "\n",
    "pdb_sasa = {}\n",
    "for file in os.listdir(align_out_path):\n",
    "    if file.endswith(\"sasa.json\"):\n",
    "        r = json.load(open(os.path.join(align_out_path, file)))\n",
    "        pdb_id = re.search(\"_(.{4}).pdb\", file).group(1)\n",
    "        pdb_sasa[pdb_id] = r[\"results\"][0][\"structure\"][0][\"area\"][\"total\"]\n",
    "\n",
    "pdb_sasa"
   ]
  },
  {
   "cell_type": "code",
   "execution_count": 32,
   "metadata": {},
   "outputs": [
    {
     "data": {
      "text/plain": [
       "{'1AMY': 21.883580892076026,\n",
       " '1CLV': 22.425691443423272,\n",
       " '1DHK': 26.72745297777032,\n",
       " '1HNY': 23.127829162182355,\n",
       " '1C8Q': 22.91723957347072,\n",
       " '1G5A': 26.371149690905735,\n",
       " '1HVX': 24.435557736247315,\n",
       " '1AQH': 22.806528847526128,\n",
       " '4X9Y': 22.971522457572338,\n",
       " '2GUY': 22.80420703548057,\n",
       " '1HT6': 22.627211339990666}"
      ]
     },
     "execution_count": 32,
     "metadata": {},
     "output_type": "execute_result"
    }
   ],
   "source": [
    "# ROG\n",
    "import pytraj as pt\n",
    "\n",
    "pdb_rog = {}\n",
    "for file in os.listdir(align_out_path):\n",
    "    if file.endswith(\".pdb\"):\n",
    "        pdb = pt.load(os.path.join(align_out_path, file))\n",
    "        pdb_id = re.search(\"_(.{4}).pdb\", file).group(1)\n",
    "        pdb_rog[pdb_id] = pt.radgyr(pdb)[0]\n",
    "\n",
    "pdb_rog"
   ]
  },
  {
   "cell_type": "code",
   "execution_count": 33,
   "metadata": {},
   "outputs": [
    {
     "data": {
      "text/html": [
       "<div>\n",
       "<style scoped>\n",
       "    .dataframe tbody tr th:only-of-type {\n",
       "        vertical-align: middle;\n",
       "    }\n",
       "\n",
       "    .dataframe tbody tr th {\n",
       "        vertical-align: top;\n",
       "    }\n",
       "\n",
       "    .dataframe thead th {\n",
       "        text-align: right;\n",
       "    }\n",
       "</style>\n",
       "<table border=\"1\" class=\"dataframe\">\n",
       "  <thead>\n",
       "    <tr style=\"text-align: right;\">\n",
       "      <th></th>\n",
       "      <th>pdb</th>\n",
       "      <th>sasa</th>\n",
       "      <th>rog</th>\n",
       "    </tr>\n",
       "  </thead>\n",
       "  <tbody>\n",
       "    <tr>\n",
       "      <th>0</th>\n",
       "      <td>1G5A</td>\n",
       "      <td>24899.057252</td>\n",
       "      <td>26.371150</td>\n",
       "    </tr>\n",
       "    <tr>\n",
       "      <th>1</th>\n",
       "      <td>1CLV</td>\n",
       "      <td>16859.989608</td>\n",
       "      <td>22.425691</td>\n",
       "    </tr>\n",
       "    <tr>\n",
       "      <th>2</th>\n",
       "      <td>2GUY</td>\n",
       "      <td>16556.505807</td>\n",
       "      <td>22.804207</td>\n",
       "    </tr>\n",
       "    <tr>\n",
       "      <th>3</th>\n",
       "      <td>1AQH</td>\n",
       "      <td>16331.214206</td>\n",
       "      <td>22.806529</td>\n",
       "    </tr>\n",
       "    <tr>\n",
       "      <th>4</th>\n",
       "      <td>1HNY</td>\n",
       "      <td>17872.539138</td>\n",
       "      <td>23.127829</td>\n",
       "    </tr>\n",
       "    <tr>\n",
       "      <th>5</th>\n",
       "      <td>1AMY</td>\n",
       "      <td>14994.280830</td>\n",
       "      <td>21.883581</td>\n",
       "    </tr>\n",
       "    <tr>\n",
       "      <th>6</th>\n",
       "      <td>4X9Y</td>\n",
       "      <td>17755.678941</td>\n",
       "      <td>22.971522</td>\n",
       "    </tr>\n",
       "    <tr>\n",
       "      <th>7</th>\n",
       "      <td>1C8Q</td>\n",
       "      <td>17873.230358</td>\n",
       "      <td>22.917240</td>\n",
       "    </tr>\n",
       "    <tr>\n",
       "      <th>8</th>\n",
       "      <td>1HT6</td>\n",
       "      <td>16106.759540</td>\n",
       "      <td>22.627211</td>\n",
       "    </tr>\n",
       "    <tr>\n",
       "      <th>9</th>\n",
       "      <td>1DHK</td>\n",
       "      <td>23948.715987</td>\n",
       "      <td>26.727453</td>\n",
       "    </tr>\n",
       "    <tr>\n",
       "      <th>10</th>\n",
       "      <td>1HVX</td>\n",
       "      <td>17502.288248</td>\n",
       "      <td>24.435558</td>\n",
       "    </tr>\n",
       "  </tbody>\n",
       "</table>\n",
       "</div>"
      ],
      "text/plain": [
       "     pdb          sasa        rog\n",
       "0   1G5A  24899.057252  26.371150\n",
       "1   1CLV  16859.989608  22.425691\n",
       "2   2GUY  16556.505807  22.804207\n",
       "3   1AQH  16331.214206  22.806529\n",
       "4   1HNY  17872.539138  23.127829\n",
       "5   1AMY  14994.280830  21.883581\n",
       "6   4X9Y  17755.678941  22.971522\n",
       "7   1C8Q  17873.230358  22.917240\n",
       "8   1HT6  16106.759540  22.627211\n",
       "9   1DHK  23948.715987  26.727453\n",
       "10  1HVX  17502.288248  24.435558"
      ]
     },
     "execution_count": 33,
     "metadata": {},
     "output_type": "execute_result"
    }
   ],
   "source": [
    "pdb_ids = list(pdb_sasa.keys())\n",
    "df = pd.DataFrame({\"pdb\": pdb_ids,\n",
    "                   \"sasa\": [pdb_sasa[pdb_id] for pdb_id in pdb_ids],\n",
    "                   \"rog\": [pdb_rog[pdb_id] for pdb_id in pdb_ids]})\n",
    "df"
   ]
  },
  {
   "cell_type": "code",
   "execution_count": 34,
   "metadata": {
    "scrolled": false
   },
   "outputs": [
    {
     "data": {
      "text/plain": [
       "<matplotlib.axes._subplots.AxesSubplot at 0x7f4a571dd6a0>"
      ]
     },
     "execution_count": 34,
     "metadata": {},
     "output_type": "execute_result"
    },
    {
     "data": {
      "image/png": "[encoded data removed]",
      "text/plain": [
       "<Figure size 864x576 with 1 Axes>"
      ]
     },
     "metadata": {},
     "output_type": "display_data"
    }
   ],
   "source": [
    "sns.scatterplot(df[\"sasa\"], df[\"rog\"])"
   ]
  },
  {
   "cell_type": "markdown",
   "metadata": {},
   "source": [
    "## 3.\n",
    "Clasifique cada uno de los residuos de la proteína como expuesto/enterrado utilizando\n",
    "como parámetro el SASA y represente en un gráfico la frecuencia de aparición de cada\n",
    "aminoácido para cada categoría."
   ]
  },
  {
   "cell_type": "code",
   "execution_count": 35,
   "metadata": {},
   "outputs": [],
   "source": [
    "ResidueSASA = namedtuple(\"ResidueSASA\", \" \".join([\n",
    "    \"name\", \"pos\",\n",
    "    \"all_abs\", \"all_rel\",\n",
    "    \"side_abs\", \"side_rel\",\n",
    "    \"main_abs\", \"main_rel\",\n",
    "    \"apolar_abs\", \"apolar_rel\",\n",
    "    \"polar_abs\", \"polar_rel\"\n",
    "]))\n",
    "\n",
    "if os.system(\"freesasa -v\") == 0:\n",
    "    os.system(f\"cd {align_out_path} && ./sasa_res.sh\")\n",
    "\n",
    "pdb_res_sasa = {}\n",
    "for file in os.listdir(align_out_path):\n",
    "    if file.endswith(\"sasa_res.out\"):\n",
    "        pdb_id = re.search(\"_(.{4}).pdb\", file).group(1)\n",
    "        \n",
    "        with open(os.path.join(align_out_path, file)) as f:\n",
    "            for line in f:\n",
    "                if line.startswith(\"RES\"):\n",
    "                    name, pos, areas = line[4:7], int(line[9:13].strip()), line[13:].split()\n",
    "                    fields = [name, pos] + [float(x) if x != \"N/A\" else math.nan for x in areas]\n",
    "                    \n",
    "                    rs = ResidueSASA(*fields)\n",
    "                    \n",
    "                    if pdb_id not in pdb_res_sasa:\n",
    "                        pdb_res_sasa[pdb_id] = {}\n",
    "                    pdb_res_sasa[pdb_id][rs.pos] = rs"
   ]
  },
  {
   "cell_type": "code",
   "execution_count": 36,
   "metadata": {
    "scrolled": true
   },
   "outputs": [
    {
     "data": {
      "text/plain": [
       "ResidueSASA(name='SER', pos=33, all_abs=24.3, all_rel=20.5, side_abs=24.3, side_rel=32.4, main_abs=0.0, main_rel=0.0, apolar_abs=6.29, apolar_rel=13.4, polar_abs=18.02, polar_rel=25.2)"
      ]
     },
     "execution_count": 36,
     "metadata": {},
     "output_type": "execute_result"
    }
   ],
   "source": [
    "pdb_res_sasa[\"1G5A\"][33]"
   ]
  },
  {
   "cell_type": "code",
   "execution_count": 37,
   "metadata": {},
   "outputs": [
    {
     "data": {
      "text/html": [
       "<div>\n",
       "<style scoped>\n",
       "    .dataframe tbody tr th:only-of-type {\n",
       "        vertical-align: middle;\n",
       "    }\n",
       "\n",
       "    .dataframe tbody tr th {\n",
       "        vertical-align: top;\n",
       "    }\n",
       "\n",
       "    .dataframe thead th {\n",
       "        text-align: right;\n",
       "    }\n",
       "</style>\n",
       "<table border=\"1\" class=\"dataframe\">\n",
       "  <thead>\n",
       "    <tr style=\"text-align: right;\">\n",
       "      <th></th>\n",
       "      <th>pos</th>\n",
       "      <th>all_abs</th>\n",
       "      <th>all_rel</th>\n",
       "      <th>side_abs</th>\n",
       "      <th>side_rel</th>\n",
       "      <th>main_abs</th>\n",
       "      <th>main_rel</th>\n",
       "      <th>apolar_abs</th>\n",
       "      <th>apolar_rel</th>\n",
       "      <th>polar_abs</th>\n",
       "      <th>polar_rel</th>\n",
       "      <th>exposed</th>\n",
       "      <th>source</th>\n",
       "      <th>name</th>\n",
       "    </tr>\n",
       "    <tr>\n",
       "      <th>name</th>\n",
       "      <th></th>\n",
       "      <th></th>\n",
       "      <th></th>\n",
       "      <th></th>\n",
       "      <th></th>\n",
       "      <th></th>\n",
       "      <th></th>\n",
       "      <th></th>\n",
       "      <th></th>\n",
       "      <th></th>\n",
       "      <th></th>\n",
       "      <th></th>\n",
       "      <th></th>\n",
       "      <th></th>\n",
       "    </tr>\n",
       "  </thead>\n",
       "  <tbody>\n",
       "    <tr>\n",
       "      <th>ALA</th>\n",
       "      <td>246.339523</td>\n",
       "      <td>24.289390</td>\n",
       "      <td>22.332095</td>\n",
       "      <td>15.380875</td>\n",
       "      <td>23.737931</td>\n",
       "      <td>8.908488</td>\n",
       "      <td>20.263660</td>\n",
       "      <td>18.253714</td>\n",
       "      <td>25.703183</td>\n",
       "      <td>6.035862</td>\n",
       "      <td>15.988594</td>\n",
       "      <td>0.164456</td>\n",
       "      <td>sasa</td>\n",
       "      <td>ALA</td>\n",
       "    </tr>\n",
       "    <tr>\n",
       "      <th>ARG</th>\n",
       "      <td>236.329060</td>\n",
       "      <td>55.110769</td>\n",
       "      <td>23.140598</td>\n",
       "      <td>48.889402</td>\n",
       "      <td>24.921795</td>\n",
       "      <td>6.221239</td>\n",
       "      <td>14.813248</td>\n",
       "      <td>17.636282</td>\n",
       "      <td>24.101709</td>\n",
       "      <td>37.474359</td>\n",
       "      <td>22.709402</td>\n",
       "      <td>0.081197</td>\n",
       "      <td>sasa</td>\n",
       "      <td>ARG</td>\n",
       "    </tr>\n",
       "    <tr>\n",
       "      <th>ASN</th>\n",
       "      <td>258.024390</td>\n",
       "      <td>56.435583</td>\n",
       "      <td>38.920054</td>\n",
       "      <td>46.340271</td>\n",
       "      <td>44.782114</td>\n",
       "      <td>10.095095</td>\n",
       "      <td>24.306233</td>\n",
       "      <td>13.898130</td>\n",
       "      <td>33.451220</td>\n",
       "      <td>42.537453</td>\n",
       "      <td>41.116260</td>\n",
       "      <td>0.322493</td>\n",
       "      <td>sasa</td>\n",
       "      <td>ASN</td>\n",
       "    </tr>\n",
       "    <tr>\n",
       "      <th>ASP</th>\n",
       "      <td>248.366748</td>\n",
       "      <td>50.344303</td>\n",
       "      <td>35.266748</td>\n",
       "      <td>41.114670</td>\n",
       "      <td>40.922494</td>\n",
       "      <td>9.229511</td>\n",
       "      <td>21.825428</td>\n",
       "      <td>14.950465</td>\n",
       "      <td>35.186308</td>\n",
       "      <td>35.394156</td>\n",
       "      <td>35.297311</td>\n",
       "      <td>0.315403</td>\n",
       "      <td>sasa</td>\n",
       "      <td>ASP</td>\n",
       "    </tr>\n",
       "    <tr>\n",
       "      <th>CYS</th>\n",
       "      <td>253.963855</td>\n",
       "      <td>12.727349</td>\n",
       "      <td>9.627711</td>\n",
       "      <td>6.038795</td>\n",
       "      <td>6.734940</td>\n",
       "      <td>6.688554</td>\n",
       "      <td>15.720482</td>\n",
       "      <td>3.302530</td>\n",
       "      <td>8.369880</td>\n",
       "      <td>9.424699</td>\n",
       "      <td>10.165060</td>\n",
       "      <td>0.012048</td>\n",
       "      <td>sasa</td>\n",
       "      <td>CYS</td>\n",
       "    </tr>\n",
       "    <tr>\n",
       "      <th>GLN</th>\n",
       "      <td>231.790055</td>\n",
       "      <td>55.643149</td>\n",
       "      <td>31.113812</td>\n",
       "      <td>48.262873</td>\n",
       "      <td>35.271823</td>\n",
       "      <td>7.380387</td>\n",
       "      <td>17.566298</td>\n",
       "      <td>16.016906</td>\n",
       "      <td>34.094475</td>\n",
       "      <td>39.625912</td>\n",
       "      <td>30.054144</td>\n",
       "      <td>0.226519</td>\n",
       "      <td>sasa</td>\n",
       "      <td>GLN</td>\n",
       "    </tr>\n",
       "    <tr>\n",
       "      <th>GLU</th>\n",
       "      <td>223.217822</td>\n",
       "      <td>59.694010</td>\n",
       "      <td>34.270297</td>\n",
       "      <td>50.937871</td>\n",
       "      <td>38.536139</td>\n",
       "      <td>8.756485</td>\n",
       "      <td>20.848515</td>\n",
       "      <td>21.438861</td>\n",
       "      <td>41.469307</td>\n",
       "      <td>38.255198</td>\n",
       "      <td>31.236634</td>\n",
       "      <td>0.321782</td>\n",
       "      <td>sasa</td>\n",
       "      <td>GLU</td>\n",
       "    </tr>\n",
       "    <tr>\n",
       "      <th>GLY</th>\n",
       "      <td>255.978805</td>\n",
       "      <td>26.914027</td>\n",
       "      <td>33.189981</td>\n",
       "      <td>0.000000</td>\n",
       "      <td>NaN</td>\n",
       "      <td>26.914027</td>\n",
       "      <td>33.189981</td>\n",
       "      <td>16.521522</td>\n",
       "      <td>45.338150</td>\n",
       "      <td>10.392775</td>\n",
       "      <td>23.275915</td>\n",
       "      <td>0.300578</td>\n",
       "      <td>sasa</td>\n",
       "      <td>GLY</td>\n",
       "    </tr>\n",
       "    <tr>\n",
       "      <th>HIS</th>\n",
       "      <td>253.769231</td>\n",
       "      <td>33.216538</td>\n",
       "      <td>18.150769</td>\n",
       "      <td>28.912385</td>\n",
       "      <td>20.096154</td>\n",
       "      <td>4.304154</td>\n",
       "      <td>11.013846</td>\n",
       "      <td>20.586538</td>\n",
       "      <td>21.220769</td>\n",
       "      <td>12.629923</td>\n",
       "      <td>14.693077</td>\n",
       "      <td>0.092308</td>\n",
       "      <td>sasa</td>\n",
       "      <td>HIS</td>\n",
       "    </tr>\n",
       "    <tr>\n",
       "      <th>ILE</th>\n",
       "      <td>261.107527</td>\n",
       "      <td>16.864480</td>\n",
       "      <td>9.595699</td>\n",
       "      <td>13.001075</td>\n",
       "      <td>9.686022</td>\n",
       "      <td>3.863262</td>\n",
       "      <td>9.312903</td>\n",
       "      <td>13.729068</td>\n",
       "      <td>9.883871</td>\n",
       "      <td>3.135197</td>\n",
       "      <td>8.510036</td>\n",
       "      <td>0.032258</td>\n",
       "      <td>sasa</td>\n",
       "      <td>ILE</td>\n",
       "    </tr>\n",
       "    <tr>\n",
       "      <th>LEU</th>\n",
       "      <td>244.741641</td>\n",
       "      <td>15.294529</td>\n",
       "      <td>8.515805</td>\n",
       "      <td>11.289027</td>\n",
       "      <td>8.075684</td>\n",
       "      <td>4.005502</td>\n",
       "      <td>10.067781</td>\n",
       "      <td>11.694650</td>\n",
       "      <td>8.212766</td>\n",
       "      <td>3.599787</td>\n",
       "      <td>9.686626</td>\n",
       "      <td>0.015198</td>\n",
       "      <td>sasa</td>\n",
       "      <td>LEU</td>\n",
       "    </tr>\n",
       "    <tr>\n",
       "      <th>LYS</th>\n",
       "      <td>251.775785</td>\n",
       "      <td>76.561839</td>\n",
       "      <td>37.352018</td>\n",
       "      <td>68.432601</td>\n",
       "      <td>41.988341</td>\n",
       "      <td>8.129507</td>\n",
       "      <td>19.359641</td>\n",
       "      <td>41.158161</td>\n",
       "      <td>37.047534</td>\n",
       "      <td>35.403946</td>\n",
       "      <td>37.708969</td>\n",
       "      <td>0.219731</td>\n",
       "      <td>sasa</td>\n",
       "      <td>LYS</td>\n",
       "    </tr>\n",
       "    <tr>\n",
       "      <th>MET</th>\n",
       "      <td>235.449541</td>\n",
       "      <td>18.071560</td>\n",
       "      <td>9.357798</td>\n",
       "      <td>14.693945</td>\n",
       "      <td>9.725688</td>\n",
       "      <td>3.377798</td>\n",
       "      <td>8.040367</td>\n",
       "      <td>12.330459</td>\n",
       "      <td>10.480734</td>\n",
       "      <td>5.741284</td>\n",
       "      <td>7.606422</td>\n",
       "      <td>0.045872</td>\n",
       "      <td>sasa</td>\n",
       "      <td>MET</td>\n",
       "    </tr>\n",
       "    <tr>\n",
       "      <th>PHE</th>\n",
       "      <td>248.836653</td>\n",
       "      <td>14.236972</td>\n",
       "      <td>7.122709</td>\n",
       "      <td>10.375976</td>\n",
       "      <td>6.425498</td>\n",
       "      <td>3.860717</td>\n",
       "      <td>10.045817</td>\n",
       "      <td>11.052191</td>\n",
       "      <td>6.703187</td>\n",
       "      <td>3.184661</td>\n",
       "      <td>9.113944</td>\n",
       "      <td>0.027888</td>\n",
       "      <td>sasa</td>\n",
       "      <td>PHE</td>\n",
       "    </tr>\n",
       "    <tr>\n",
       "      <th>PRO</th>\n",
       "      <td>240.522321</td>\n",
       "      <td>44.619554</td>\n",
       "      <td>32.517411</td>\n",
       "      <td>35.136384</td>\n",
       "      <td>32.029018</td>\n",
       "      <td>9.483437</td>\n",
       "      <td>34.472768</td>\n",
       "      <td>38.935268</td>\n",
       "      <td>32.149554</td>\n",
       "      <td>5.684286</td>\n",
       "      <td>35.327679</td>\n",
       "      <td>0.312500</td>\n",
       "      <td>sasa</td>\n",
       "      <td>PRO</td>\n",
       "    </tr>\n",
       "    <tr>\n",
       "      <th>SER</th>\n",
       "      <td>243.323782</td>\n",
       "      <td>42.919656</td>\n",
       "      <td>36.269341</td>\n",
       "      <td>30.986934</td>\n",
       "      <td>41.352149</td>\n",
       "      <td>11.932951</td>\n",
       "      <td>27.487966</td>\n",
       "      <td>20.754756</td>\n",
       "      <td>44.195989</td>\n",
       "      <td>22.164900</td>\n",
       "      <td>31.051289</td>\n",
       "      <td>0.343840</td>\n",
       "      <td>sasa</td>\n",
       "      <td>SER</td>\n",
       "    </tr>\n",
       "    <tr>\n",
       "      <th>THR</th>\n",
       "      <td>254.780576</td>\n",
       "      <td>41.598777</td>\n",
       "      <td>29.588489</td>\n",
       "      <td>32.355252</td>\n",
       "      <td>32.802878</td>\n",
       "      <td>9.243705</td>\n",
       "      <td>22.027338</td>\n",
       "      <td>25.271367</td>\n",
       "      <td>33.944604</td>\n",
       "      <td>16.328022</td>\n",
       "      <td>24.683813</td>\n",
       "      <td>0.244604</td>\n",
       "      <td>sasa</td>\n",
       "      <td>THR</td>\n",
       "    </tr>\n",
       "    <tr>\n",
       "      <th>TRP</th>\n",
       "      <td>236.904192</td>\n",
       "      <td>47.938802</td>\n",
       "      <td>19.235928</td>\n",
       "      <td>40.861796</td>\n",
       "      <td>19.776647</td>\n",
       "      <td>7.076647</td>\n",
       "      <td>16.617365</td>\n",
       "      <td>36.459820</td>\n",
       "      <td>19.442515</td>\n",
       "      <td>11.479281</td>\n",
       "      <td>18.617365</td>\n",
       "      <td>0.065868</td>\n",
       "      <td>sasa</td>\n",
       "      <td>TRP</td>\n",
       "    </tr>\n",
       "    <tr>\n",
       "      <th>TYR</th>\n",
       "      <td>229.012195</td>\n",
       "      <td>35.046707</td>\n",
       "      <td>16.360569</td>\n",
       "      <td>30.551463</td>\n",
       "      <td>17.383333</td>\n",
       "      <td>4.494634</td>\n",
       "      <td>11.693496</td>\n",
       "      <td>23.677439</td>\n",
       "      <td>17.794309</td>\n",
       "      <td>11.369024</td>\n",
       "      <td>14.013008</td>\n",
       "      <td>0.093496</td>\n",
       "      <td>sasa</td>\n",
       "      <td>TYR</td>\n",
       "    </tr>\n",
       "    <tr>\n",
       "      <th>VAL</th>\n",
       "      <td>246.778689</td>\n",
       "      <td>12.567432</td>\n",
       "      <td>8.268306</td>\n",
       "      <td>9.611995</td>\n",
       "      <td>8.701366</td>\n",
       "      <td>2.955437</td>\n",
       "      <td>7.123497</td>\n",
       "      <td>10.537923</td>\n",
       "      <td>9.153825</td>\n",
       "      <td>2.029454</td>\n",
       "      <td>5.504645</td>\n",
       "      <td>0.040984</td>\n",
       "      <td>sasa</td>\n",
       "      <td>VAL</td>\n",
       "    </tr>\n",
       "  </tbody>\n",
       "</table>\n",
       "</div>"
      ],
      "text/plain": [
       "             pos    all_abs    all_rel   side_abs   side_rel   main_abs  \\\n",
       "name                                                                      \n",
       "ALA   246.339523  24.289390  22.332095  15.380875  23.737931   8.908488   \n",
       "ARG   236.329060  55.110769  23.140598  48.889402  24.921795   6.221239   \n",
       "ASN   258.024390  56.435583  38.920054  46.340271  44.782114  10.095095   \n",
       "ASP   248.366748  50.344303  35.266748  41.114670  40.922494   9.229511   \n",
       "CYS   253.963855  12.727349   9.627711   6.038795   6.734940   6.688554   \n",
       "GLN   231.790055  55.643149  31.113812  48.262873  35.271823   7.380387   \n",
       "GLU   223.217822  59.694010  34.270297  50.937871  38.536139   8.756485   \n",
       "GLY   255.978805  26.914027  33.189981   0.000000        NaN  26.914027   \n",
       "HIS   253.769231  33.216538  18.150769  28.912385  20.096154   4.304154   \n",
       "ILE   261.107527  16.864480   9.595699  13.001075   9.686022   3.863262   \n",
       "LEU   244.741641  15.294529   8.515805  11.289027   8.075684   4.005502   \n",
       "LYS   251.775785  76.561839  37.352018  68.432601  41.988341   8.129507   \n",
       "MET   235.449541  18.071560   9.357798  14.693945   9.725688   3.377798   \n",
       "PHE   248.836653  14.236972   7.122709  10.375976   6.425498   3.860717   \n",
       "PRO   240.522321  44.619554  32.517411  35.136384  32.029018   9.483437   \n",
       "SER   243.323782  42.919656  36.269341  30.986934  41.352149  11.932951   \n",
       "THR   254.780576  41.598777  29.588489  32.355252  32.802878   9.243705   \n",
       "TRP   236.904192  47.938802  19.235928  40.861796  19.776647   7.076647   \n",
       "TYR   229.012195  35.046707  16.360569  30.551463  17.383333   4.494634   \n",
       "VAL   246.778689  12.567432   8.268306   9.611995   8.701366   2.955437   \n",
       "\n",
       "       main_rel  apolar_abs  apolar_rel  polar_abs  polar_rel   exposed  \\\n",
       "name                                                                      \n",
       "ALA   20.263660   18.253714   25.703183   6.035862  15.988594  0.164456   \n",
       "ARG   14.813248   17.636282   24.101709  37.474359  22.709402  0.081197   \n",
       "ASN   24.306233   13.898130   33.451220  42.537453  41.116260  0.322493   \n",
       "ASP   21.825428   14.950465   35.186308  35.394156  35.297311  0.315403   \n",
       "CYS   15.720482    3.302530    8.369880   9.424699  10.165060  0.012048   \n",
       "GLN   17.566298   16.016906   34.094475  39.625912  30.054144  0.226519   \n",
       "GLU   20.848515   21.438861   41.469307  38.255198  31.236634  0.321782   \n",
       "GLY   33.189981   16.521522   45.338150  10.392775  23.275915  0.300578   \n",
       "HIS   11.013846   20.586538   21.220769  12.629923  14.693077  0.092308   \n",
       "ILE    9.312903   13.729068    9.883871   3.135197   8.510036  0.032258   \n",
       "LEU   10.067781   11.694650    8.212766   3.599787   9.686626  0.015198   \n",
       "LYS   19.359641   41.158161   37.047534  35.403946  37.708969  0.219731   \n",
       "MET    8.040367   12.330459   10.480734   5.741284   7.606422  0.045872   \n",
       "PHE   10.045817   11.052191    6.703187   3.184661   9.113944  0.027888   \n",
       "PRO   34.472768   38.935268   32.149554   5.684286  35.327679  0.312500   \n",
       "SER   27.487966   20.754756   44.195989  22.164900  31.051289  0.343840   \n",
       "THR   22.027338   25.271367   33.944604  16.328022  24.683813  0.244604   \n",
       "TRP   16.617365   36.459820   19.442515  11.479281  18.617365  0.065868   \n",
       "TYR   11.693496   23.677439   17.794309  11.369024  14.013008  0.093496   \n",
       "VAL    7.123497   10.537923    9.153825   2.029454   5.504645  0.040984   \n",
       "\n",
       "     source name  \n",
       "name              \n",
       "ALA    sasa  ALA  \n",
       "ARG    sasa  ARG  \n",
       "ASN    sasa  ASN  \n",
       "ASP    sasa  ASP  \n",
       "CYS    sasa  CYS  \n",
       "GLN    sasa  GLN  \n",
       "GLU    sasa  GLU  \n",
       "GLY    sasa  GLY  \n",
       "HIS    sasa  HIS  \n",
       "ILE    sasa  ILE  \n",
       "LEU    sasa  LEU  \n",
       "LYS    sasa  LYS  \n",
       "MET    sasa  MET  \n",
       "PHE    sasa  PHE  \n",
       "PRO    sasa  PRO  \n",
       "SER    sasa  SER  \n",
       "THR    sasa  THR  \n",
       "TRP    sasa  TRP  \n",
       "TYR    sasa  TYR  \n",
       "VAL    sasa  VAL  "
      ]
     },
     "execution_count": 37,
     "metadata": {},
     "output_type": "execute_result"
    }
   ],
   "source": [
    "# Construir df con todos los residuos\n",
    "\n",
    "sasa_residues = []\n",
    "for pdb_id, pdb in pdb_res_sasa.items():\n",
    "    for pos, res in pdb.items():\n",
    "        sasa_residues.append((pdb_id, *res))\n",
    "\n",
    "cols = [\n",
    "    \"pdb\", \"name\", \"pos\",\n",
    "    \"all_abs\", \"all_rel\",\n",
    "    \"side_abs\", \"side_rel\",\n",
    "    \"main_abs\", \"main_rel\",\n",
    "    \"apolar_abs\", \"apolar_rel\",\n",
    "    \"polar_abs\", \"polar_rel\"\n",
    "]\n",
    "\n",
    "def sasa_dataset(cutoff):\n",
    "    df = pd.DataFrame(sasa_residues, columns=cols)\n",
    "    df[\"exposed\"] = df[\"all_rel\"] > cutoff\n",
    "    dfaa = df.groupby([\"name\"]).mean()\n",
    "    dfaa[\"source\"] = \"sasa\"\n",
    "    dfaa[\"name\"] = dfaa.index\n",
    "    return dfaa\n",
    "\n",
    "sasa_dataset(50)"
   ]
  },
  {
   "cell_type": "code",
   "execution_count": 38,
   "metadata": {
    "scrolled": false
   },
   "outputs": [
    {
     "data": {
      "text/plain": [
       "<matplotlib.axes._subplots.AxesSubplot at 0x7f4a571c3250>"
      ]
     },
     "execution_count": 38,
     "metadata": {},
     "output_type": "execute_result"
    },
    {
     "data": {
      "image/png": "[encoded data removed]",
      "text/plain": [
       "<Figure size 864x576 with 1 Axes>"
      ]
     },
     "metadata": {},
     "output_type": "display_data"
    }
   ],
   "source": [
    "# Porcentaje de exposicion al solvente promedio de la cadena lateral para cada aminoacido\n",
    "dfaa = sasa_dataset(50).sort_values(by=\"exposed\")\n",
    "sns.barplot(x=dfaa.index, y=\"exposed\", data=dfaa, palette=\"rocket\")"
   ]
  },
  {
   "cell_type": "code",
   "execution_count": 39,
   "metadata": {
    "scrolled": false
   },
   "outputs": [],
   "source": [
    "def water_dataset(cutoff):\n",
    "    ns = NeighborSearch(list(structures[\"1HVX\"][0][\"A\"].get_atoms()))\n",
    "    w_residues = []\n",
    "    for pdb_id, structure in structures.items():\n",
    "        for res in filter(lambda res: res.id[0] == \" \", structure[0][\"A\"].get_residues()):\n",
    "            exposed = False\n",
    "            for atom in res:\n",
    "                s = ns.search(atom.coord, cutoff, \"R\")\n",
    "                for near_res in s:\n",
    "                    if near_res.id[0] == \"W\":\n",
    "                        exposed = True\n",
    "            w_residues.append((pdb_id, res.get_resname(), res.full_id[3][1], exposed))\n",
    "\n",
    "    df = pd.DataFrame(w_residues, columns=[\"pdb\", \"name\", \"pos\", \"exposed\"])\n",
    "    dfaa = df.groupby([\"name\"]).mean()\n",
    "    dfaa = dfaa.sort_values(by=\"exposed\")\n",
    "    dfaa[\"source\"] = \"water\"\n",
    "    dfaa[\"name\"] = dfaa.index\n",
    "    return dfaa\n",
    "\n",
    "def plot_sasa_water(sasa_cutoff, water_cutoff):\n",
    "    df = pd.concat([water_dataset(water_cutoff)[[\"name\", \"exposed\", \"source\"]], sasa_dataset(sasa_cutoff)[[\"name\", \"exposed\", \"source\"]]])\n",
    "    sns.barplot(x=\"name\", y=\"exposed\", data=df, hue=\"source\", palette=\"rocket\")"
   ]
  },
  {
   "cell_type": "code",
   "execution_count": 40,
   "metadata": {},
   "outputs": [
    {
     "data": {
      "image/png": "[encoded data removed]",
      "text/plain": [
       "<Figure size 864x576 with 1 Axes>"
      ]
     },
     "metadata": {},
     "output_type": "display_data"
    }
   ],
   "source": [
    "plot_sasa_water(20, 3)"
   ]
  },
  {
   "cell_type": "code",
   "execution_count": 41,
   "metadata": {
    "scrolled": false
   },
   "outputs": [
    {
     "data": {
      "application/vnd.jupyter.widget-view+json": {
       "model_id": "15ddf213c313479986ee057b43a15981",
       "version_major": 2,
       "version_minor": 0
      },
      "text/plain": [
       "interactive(children=(IntSlider(value=50, description='sasa_cutoff'), IntSlider(value=3, description='water_cu…"
      ]
     },
     "metadata": {},
     "output_type": "display_data"
    }
   ],
   "source": [
    "if os.system(\"freesasa -v\") == 0:\n",
    "    interact_manual(plot_sasa_water, sasa_cutoff=(0,100), water_cutoff=(1,5));\n",
    "else:\n",
    "    print(\"FreeSASA no instalado\")"
   ]
  },
  {
   "cell_type": "markdown",
   "metadata": {},
   "source": [
    "## 4.\n",
    "Identifique los aminoácidos que pertenecen al sitio activo para cada una de las\n",
    "estructuras de la familia elegida."
   ]
  },
  {
   "cell_type": "markdown",
   "metadata": {},
   "source": [
    "En las anotaciones en UniProt para la alfa amilasa humana (https://www.uniprot.org/uniprot/P04745) se halla que los residuos con función catalítica son el Asp-212 como nucleófilo y Glu-248 como donor de protones. Dichas posiciones son respecto a la secuencia canónica, corresponden a la posición 355 y 411, respectivamente para el alineamiento múltiple realizado previamente.\n",
    "\n",
    "Para el caso de la posición 411 del alineamiento la identidad no es tan alta y además en tres de las secuencias se encuentra un gap, probablemente otro residuo estructuralmente cercano reemplace su función.\n",
    "\n",
    "\n",
    "\n"
   ]
  },
  {
   "cell_type": "code",
   "execution_count": 42,
   "metadata": {},
   "outputs": [
    {
     "data": {
      "application/vnd.jupyter.widget-view+json": {
       "model_id": "afc90ff5fcde499e8de7713d7bb498dc",
       "version_major": 2,
       "version_minor": 0
      },
      "text/plain": [
       "NGLWidget(background='black')"
      ]
     },
     "metadata": {},
     "output_type": "display_data"
    }
   ],
   "source": [
    "view = nv.show_biopython(structures[\"1HNY\"])\n",
    "view.clear_representations()\n",
    "view.background = \"black\"\n",
    "view.add_representation(\"cartoon\", selection=\"protein\", color=\"grey\")\n",
    "view.add_representation(\"surface\", selection=\"197 233\", color=\"orange\")\n",
    "view"
   ]
  },
  {
   "cell_type": "markdown",
   "metadata": {},
   "source": [
    "Como criterio para definir los sitios activos, vamos a tomar los residuos que esten a menos de 5 Angstrom de distancia del nucleofilo."
   ]
  },
  {
   "cell_type": "code",
   "execution_count": 43,
   "metadata": {},
   "outputs": [
    {
     "name": "stdout",
     "output_type": "stream",
     "text": [
      "====> 1AQH\n",
      "{<Residue LEU het=  resseq=86 icode= >, <Residue ALA het=  resseq=175 icode= >, <Residue TYR het=  resseq=50 icode= >, <Residue ASP het=  resseq=174 icode= >, <Residue HIS het=  resseq=89 icode= >, <Residue PHE het=  resseq=173 icode= >, <Residue THR het=  resseq=85 icode= >, <Residue SER het=  resseq=176 icode= >, <Residue ASN het=  resseq=88 icode= >, <Residue ARG het=  resseq=172 icode= >, <Residue ASP het=  resseq=84 icode= >, <Residue GLU het=  resseq=200 icode= >, <Residue ILE het=  resseq=87 icode= >}\n",
      "\n",
      "====> 1CLV\n",
      "{<Residue ASP het=  resseq=94 icode= >, <Residue MET het=  resseq=190 icode= >, <Residue ALA het=  resseq=186 icode= >, <Residue VAL het=  resseq=96 icode= >, <Residue ASP het=  resseq=185 icode= >, <Residue ALA het=  resseq=95 icode= >, <Residue ALA het=  resseq=187 icode= >, <Residue TYR het=  resseq=60 icode= >, <Residue ARG het=  resseq=183 icode= >, <Residue VAL het=  resseq=184 icode= >, <Residue ILE het=  resseq=97 icode= >, <Residue ASN het=  resseq=98 icode= >, <Residue HIS het=  resseq=99 icode= >, <Residue GLU het=  resseq=222 icode= >}\n",
      "\n",
      "====> 1DHK\n",
      "{<Residue MET het=  resseq=202 icode= >, <Residue ASP het=  resseq=197 icode= >, <Residue HIS het=  resseq=101 icode= >, <Residue ASN het=  resseq=100 icode= >, <Residue TYR het=  resseq=62 icode= >, <Residue ASP het=  resseq=96 icode= >, <Residue ALA het=  resseq=198 icode= >, <Residue ILE het=  resseq=196 icode= >, <Residue SER het=  resseq=199 icode= >, <Residue GLU het=  resseq=233 icode= >, <Residue ALA het=  resseq=97 icode= >, <Residue VAL het=  resseq=98 icode= >, <Residue ILE het=  resseq=99 icode= >, <Residue ARG het=  resseq=195 icode= >}\n",
      "\n",
      "====> 1HNY\n",
      "{<Residue MET het=  resseq=202 icode= >, <Residue ASP het=  resseq=197 icode= >, <Residue HIS het=  resseq=101 icode= >, <Residue ASN het=  resseq=100 icode= >, <Residue TYR het=  resseq=62 icode= >, <Residue ASP het=  resseq=96 icode= >, <Residue ALA het=  resseq=198 icode= >, <Residue LEU het=  resseq=196 icode= >, <Residue SER het=  resseq=199 icode= >, <Residue GLU het=  resseq=233 icode= >, <Residue ALA het=  resseq=97 icode= >, <Residue VAL het=  resseq=98 icode= >, <Residue ARG het=  resseq=195 icode= >}\n",
      "\n",
      "====> 4X9Y\n",
      "{<Residue MET het=  resseq=202 icode= >, <Residue ASP het=  resseq=197 icode= >, <Residue HIS het=  resseq=101 icode= >, <Residue ASN het=  resseq=100 icode= >, <Residue TYR het=  resseq=62 icode= >, <Residue ASP het=  resseq=96 icode= >, <Residue ALA het=  resseq=198 icode= >, <Residue LEU het=  resseq=196 icode= >, <Residue SER het=  resseq=199 icode= >, <Residue GLU het=  resseq=233 icode= >, <Residue ALA het=  resseq=97 icode= >, <Residue VAL het=  resseq=98 icode= >, <Residue ILE het=  resseq=99 icode= >, <Residue ARG het=  resseq=195 icode= >}\n",
      "\n",
      "====> 1C8Q\n",
      "{<Residue MET het=  resseq=202 icode= >, <Residue ASP het=  resseq=197 icode= >, <Residue HIS het=  resseq=101 icode= >, <Residue ASN het=  resseq=100 icode= >, <Residue TYR het=  resseq=62 icode= >, <Residue ASP het=  resseq=96 icode= >, <Residue ALA het=  resseq=198 icode= >, <Residue ILE het=  resseq=196 icode= >, <Residue SER het=  resseq=199 icode= >, <Residue GLU het=  resseq=233 icode= >, <Residue ALA het=  resseq=97 icode= >, <Residue VAL het=  resseq=98 icode= >, <Residue ILE het=  resseq=99 icode= >, <Residue ARG het=  resseq=195 icode= >}\n",
      "\n",
      "====> 1G5A\n",
      "{<Residue ASP het=  resseq=286 icode= >, <Residue TYR het=  resseq=147 icode= >, <Residue ASN het=  resseq=186 icode= >, <Residue GLU het=  resseq=328 icode= >, <Residue MET het=  resseq=285 icode= >, <Residue PHE het=  resseq=185 icode= >, <Residue ASP het=  resseq=182 icode= >, <Residue VAL het=  resseq=288 icode= >, <Residue HIS het=  resseq=187 icode= >, <Residue ARG het=  resseq=284 icode= >, <Residue PHE het=  resseq=183 icode= >, <Residue ILE het=  resseq=184 icode= >, <Residue ALA het=  resseq=287 icode= >}\n",
      "\n",
      "====> 1HVX\n",
      "{<Residue HIS het=  resseq=106 icode= >, <Residue ASP het=  resseq=101 icode= >, <Residue VAL het=  resseq=236 icode= >, <Residue ARG het=  resseq=232 icode= >, <Residue ILE het=  resseq=239 icode= >, <Residue ALA het=  resseq=235 icode= >, <Residue TYR het=  resseq=57 icode= >, <Residue ASP het=  resseq=234 icode= >, <Residue VAL het=  resseq=102 icode= >, <Residue VAL het=  resseq=103 icode= >, <Residue GLU het=  resseq=264 icode= >, <Residue LEU het=  resseq=233 icode= >}\n",
      "\n",
      "====> 2GUY\n",
      "{<Residue ASP het=  resseq=206 icode= >, <Residue ILE het=  resseq=205 icode= >, <Residue TYR het=  resseq=82 icode= >, <Residue ARG het=  resseq=204 icode= >, <Residue TRP het=  resseq=216 icode= >, <Residue VAL het=  resseq=208 icode= >, <Residue GLU het=  resseq=230 icode= >, <Residue HIS het=  resseq=122 icode= >, <Residue THR het=  resseq=207 icode= >, <Residue VAL het=  resseq=119 icode= >, <Residue ASP het=  resseq=117 icode= >, <Residue VAL het=  resseq=118 icode= >}\n",
      "\n",
      "====> 1AMY\n",
      "{<Residue ASP het=  resseq=179 icode= >, <Residue TYR het=  resseq=51 icode= >, <Residue PHE het=  resseq=178 icode= >, <Residue GLU het=  resseq=204 icode= >, <Residue PHE het=  resseq=180 icode= >, <Residue ALA het=  resseq=181 icode= >, <Residue VAL het=  resseq=89 icode= >, <Residue ILE het=  resseq=88 icode= >, <Residue ASN het=  resseq=91 icode= >, <Residue HIS het=  resseq=92 icode= >, <Residue ARG het=  resseq=177 icode= >, <Residue TYR het=  resseq=184 icode= >, <Residue ASP het=  resseq=87 icode= >}\n",
      "\n",
      "====> 1HT6\n",
      "{<Residue LEU het=  resseq=179 icode= >, <Residue VAL het=  resseq=90 icode= >, <Residue GLU het=  resseq=205 icode= >, <Residue ILE het=  resseq=89 icode= >, <Residue ARG het=  resseq=178 icode= >, <Residue ASP het=  resseq=180 icode= >, <Residue PHE het=  resseq=181 icode= >, <Residue ALA het=  resseq=182 icode= >, <Residue ASP het=  resseq=88 icode= >, <Residue TYR het=  resseq=185 icode= >, <Residue HIS het=  resseq=93 icode= >, <Residue ASN het=  resseq=92 icode= >, <Residue TYR het=  resseq=52 icode= >}\n",
      "\n"
     ]
    }
   ],
   "source": [
    "# En un print del punto 4.1 se obtuvo que para la posicion 355 del alineamiento global\n",
    "# las siguientes posiciones son equivalentes:\n",
    "cat_pos = {'1AQH': 174, '1CLV': 184, '1DHK': 196, '1HNY': 196, '4X9Y': 196, '1C8Q': 196, '1G5A': 286, '1HVX': 234, '2GUY': 206, '1AMY': 179, '1HT6': 180}\n",
    "\n",
    "pdb_active_site = {}\n",
    "for pdb_id, pos in cat_pos.items():\n",
    "    res = [r for r in structures[pdb_id][0][\"A\"] if r.id[0] == \" \"][pos-1]\n",
    "    \n",
    "    near_residues = set()\n",
    "    ns = NeighborSearch(list(structures[pdb_id][0][\"A\"].get_atoms()))\n",
    "    for atom in res:\n",
    "        s = filter(lambda r: r.id[0] == \" \", ns.search(atom.coord, 5, \"R\"))\n",
    "        for near_res in s:\n",
    "            near_residues.add(near_res)\n",
    "    print(\"====>\", pdb_id)\n",
    "    print(near_residues)\n",
    "    pdb_active_site[pdb_id] = near_residues\n",
    "    print()\n",
    "\n"
   ]
  },
  {
   "cell_type": "code",
   "execution_count": 44,
   "metadata": {},
   "outputs": [
    {
     "data": {
      "application/vnd.jupyter.widget-view+json": {
       "model_id": "304d6e8dd0794499ba8cb9f72715fc60",
       "version_major": 2,
       "version_minor": 0
      },
      "text/plain": [
       "NGLWidget(background='black')"
      ]
     },
     "metadata": {},
     "output_type": "display_data"
    }
   ],
   "source": [
    "view = nv.show_biopython(structures[\"1HT6\"])\n",
    "view.clear_representations()\n",
    "view.background = \"black\"\n",
    "view.add_representation(\"surface\", probeRadius=0.2, selection=\"protein\", color=\"grey\")\n",
    "view.add_representation(\"surface\", probeRadius=1.3, selection=\" \".join(str(res.full_id[3][1]) for res in pdb_active_site[\"1HT6\"]), color=\"orange\")\n",
    "view"
   ]
  }
 ],
 "metadata": {
  "kernelspec": {
   "display_name": "Python 3",
   "language": "python",
   "name": "python3"
  },
  "language_info": {
   "codemirror_mode": {
    "name": "ipython",
    "version": 3
   },
   "file_extension": ".py",
   "mimetype": "text/x-python",
   "name": "python",
   "nbconvert_exporter": "python",
   "pygments_lexer": "ipython3",
   "version": "3.8.5"
  }
 },
 "nbformat": 4,
 "nbformat_minor": 4
}