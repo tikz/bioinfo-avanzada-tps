{
 "cells": [
  {
   "cell_type": "code",
   "execution_count": 1,
   "metadata": {},
   "outputs": [],
   "source": [
    "# Requiere Python >= 3.8"
   ]
  },
  {
   "cell_type": "code",
   "execution_count": 28,
   "metadata": {},
   "outputs": [],
   "source": [
    "import math\n",
    "import json\n",
    "\n",
    "import re\n",
    "import io\n",
    "import os\n",
    "\n",
    "from collections import namedtuple\n",
    "\n",
    "from Bio.PDB import PDBParser, PDBList, Superimposer, vectors\n",
    "from Bio.PDB.MMCIFParser import MMCIFParser\n",
    "from Bio.PDB.MMCIF2Dict import MMCIF2Dict\n",
    "from Bio.PDB.PDBIO import PDBIO, Select\n",
    "from Bio.PDB.NeighborSearch import NeighborSearch\n",
    "from Bio.PDB.Polypeptide import PPBuilder\n",
    "from Bio.SeqUtils import IUPACData\n",
    "from Bio import AlignIO\n",
    "\n",
    "from ipywidgets import interact_manual\n",
    "\n",
    "import nglview as nv\n",
    "import pandas as pd\n",
    "import seaborn as sns\n",
    "import requests\n",
    "\n",
    "sns.set(rc={'figure.figsize':(12, 8)})"
   ]
  },
  {
   "cell_type": "code",
   "execution_count": 3,
   "metadata": {
    "tags": []
   },
   "outputs": [
    {
     "name": "stdout",
     "output_type": "stream",
     "text": [
      "Structure exists: 'data/pdb1mbo.ent' \n",
      "Structure exists: 'data/1mbo.cif' \n"
     ]
    }
   ],
   "source": [
    "def download(pdb_id, format):\n",
    "    \"\"\" Descarga una estructura en el formato dado, y devuelve el path del archivo \"\"\"\n",
    "    pdbl = PDBList()\n",
    "    path = pdbl.retrieve_pdb_file(pdb_id, pdir=\"data/\", file_format=format)\n",
    "    return path\n",
    "\n",
    "myo_pdb = download(\"1mbo\", \"pdb\")\n",
    "myo_cif = download(\"1mbo\", \"mmCif\")"
   ]
  },
  {
   "cell_type": "code",
   "execution_count": 4,
   "metadata": {},
   "outputs": [
    {
     "data": {
      "text/plain": [
       "'Structure and refinement of oxymyoglobin at 1.6 angstroms resolution'"
      ]
     },
     "execution_count": 4,
     "metadata": {},
     "output_type": "execute_result"
    }
   ],
   "source": [
    "def parse_cif(path):\n",
    "    return MMCIFParser(QUIET=True).get_structure(\"\", path)\n",
    "\n",
    "structure = parse_cif(myo_cif)\n",
    "\n",
    "structure.header[\"name\"]"
   ]
  },
  {
   "cell_type": "code",
   "execution_count": 5,
   "metadata": {},
   "outputs": [
    {
     "data": {
      "text/plain": [
       "['Structure and refinement of oxymyoglobin at 1.6 angstroms resolution']"
      ]
     },
     "execution_count": 5,
     "metadata": {},
     "output_type": "execute_result"
    }
   ],
   "source": [
    "mmcif_dict = MMCIF2Dict(myo_cif)\n",
    "\n",
    "mmcif_dict[\"_struct.title\"]"
   ]
  },
  {
   "cell_type": "code",
   "execution_count": 6,
   "metadata": {},
   "outputs": [
    {
     "data": {
      "text/plain": [
       "<Residue LEU het=  resseq=89 icode= >"
      ]
     },
     "execution_count": 6,
     "metadata": {},
     "output_type": "execute_result"
    }
   ],
   "source": [
    "res = structure[0][\"A\"][89]\n",
    "res"
   ]
  },
  {
   "cell_type": "code",
   "execution_count": 7,
   "metadata": {},
   "outputs": [
    {
     "data": {
      "text/plain": [
       "'LEU'"
      ]
     },
     "execution_count": 7,
     "metadata": {},
     "output_type": "execute_result"
    }
   ],
   "source": [
    "res.get_resname()"
   ]
  },
  {
   "cell_type": "code",
   "execution_count": 8,
   "metadata": {
    "tags": []
   },
   "outputs": [
    {
     "data": {
      "text/plain": [
       "(' ', 89, ' ')"
      ]
     },
     "execution_count": 8,
     "metadata": {},
     "output_type": "execute_result"
    }
   ],
   "source": [
    "res.id\n",
    "# hetfield (\"W\": water, \"H_\": hetgroup, \" \": standard), resseq, icode"
   ]
  },
  {
   "cell_type": "code",
   "execution_count": 9,
   "metadata": {
    "tags": []
   },
   "outputs": [
    {
     "name": "stdout",
     "output_type": "stream",
     "text": [
      "<Atom CA>\n",
      "CA\n"
     ]
    },
    {
     "data": {
      "text/plain": [
       "array([10.157, 31.339,  5.075], dtype=float32)"
      ]
     },
     "execution_count": 9,
     "metadata": {},
     "output_type": "execute_result"
    }
   ],
   "source": [
    "atom = res[\"CA\"]\n",
    "\n",
    "print(atom)\n",
    "print(atom.get_id())\n",
    "\n",
    "atom.get_coord()"
   ]
  },
  {
   "cell_type": "code",
   "execution_count": 10,
   "metadata": {},
   "outputs": [
    {
     "data": {
      "text/plain": [
       "<Vector 10.16, 31.34, 5.07>"
      ]
     },
     "execution_count": 10,
     "metadata": {},
     "output_type": "execute_result"
    }
   ],
   "source": [
    "atom.get_vector()"
   ]
  },
  {
   "cell_type": "code",
   "execution_count": 11,
   "metadata": {},
   "outputs": [
    {
     "data": {
      "text/plain": [
       "12.19"
      ]
     },
     "execution_count": 11,
     "metadata": {},
     "output_type": "execute_result"
    }
   ],
   "source": [
    "atom.get_bfactor()"
   ]
  },
  {
   "cell_type": "markdown",
   "metadata": {},
   "source": [
    "# Actividad 1\n",
    "## 1.\n",
    "Utilice los comandos anteriores para tratar de identificar el residuo HEMO de la Mb y\n",
    "obtener su id y full_id (hay algún otro residuo que NO es de la proteìna y NO es agua?)"
   ]
  },
  {
   "cell_type": "code",
   "execution_count": 12,
   "metadata": {
    "tags": []
   },
   "outputs": [
    {
     "data": {
      "text/plain": [
       "[<Residue SO4 het=H_SO4 resseq=154 icode= >,\n",
       " <Residue HEM het=H_HEM resseq=155 icode= >,\n",
       " <Residue OXY het=H_OXY resseq=555 icode= >]"
      ]
     },
     "execution_count": 12,
     "metadata": {},
     "output_type": "execute_result"
    }
   ],
   "source": [
    "hets = list(filter(lambda res: \"H_\" in res.id[0], structure.get_residues()))\n",
    "hets\n",
    "\n",
    "# Si, hay un sulfato y una molecula de oxigeno"
   ]
  },
  {
   "cell_type": "code",
   "execution_count": 13,
   "metadata": {
    "tags": []
   },
   "outputs": [
    {
     "name": "stdout",
     "output_type": "stream",
     "text": [
      "('H_HEM', 155, ' ')\n",
      "('', 0, 'A', ('H_HEM', 155, ' '))\n"
     ]
    }
   ],
   "source": [
    "print(hets[1].id)\n",
    "print(hets[1].full_id)"
   ]
  },
  {
   "cell_type": "markdown",
   "metadata": {},
   "source": [
    "## 2.\n",
    "Levante un PDB y obtenga: a) el número de cadenas, b) el número de residuos, c) número de átomos totales, d) número de átomos de proteìna, e) número de HETatoms, f) número de átomos de agua."
   ]
  },
  {
   "cell_type": "code",
   "execution_count": 14,
   "metadata": {
    "tags": []
   },
   "outputs": [
    {
     "name": "stdout",
     "output_type": "stream",
     "text": [
      "1MBO Structure and refinement of oxymyoglobin at 1.6 angstroms resolution\n",
      "Cadenas: 1\n",
      "Residuos: 490\n",
      "Atomos totales: 1601\n",
      "Atomos de proteina: 1217\n",
      "HETatoms: 50\n",
      "Atomos de aguas: 334\n"
     ]
    }
   ],
   "source": [
    "# Las funciones get_algo() en biopython devuelven generadores, un tipo de iterable que no tiene\n",
    "# definido a priori su longitud. No definen el metodo len().\n",
    "def iter_count(iterable):\n",
    "    return sum(1 for _ in iterable)\n",
    "\n",
    "print(structure.header[\"idcode\"], structure.header[\"name\"])\n",
    "print(\"Cadenas:\", iter_count(structure.get_chains()))\n",
    "print(\"Residuos:\", iter_count(structure.get_residues()))\n",
    "print(\"Atomos totales:\", iter_count(structure.get_atoms()))\n",
    "print(\"Atomos de proteina:\", sum(iter_count(res.get_atoms()) for res in structure.get_residues() if res.id[0] == \" \"))\n",
    "print(\"HETatoms:\", sum(iter_count(res.get_atoms()) for res in structure.get_residues() if \"H_\" in res.id[0]))\n",
    "print(\"Atomos de aguas:\", sum(iter_count(res.get_atoms()) for res in structure.get_residues() if res.id[0] == \"W\"))\n",
    "\n",
    "# Otra forma de hacerlo es recorriendo con un for y sumando a varios contadores para cada caso pedido."
   ]
  },
  {
   "cell_type": "markdown",
   "metadata": {},
   "source": [
    "## 3.\n",
    "Levante un PDB y determine la secuencia de aminoàcidos de cada cadena"
   ]
  },
  {
   "cell_type": "code",
   "execution_count": 15,
   "metadata": {
    "tags": []
   },
   "outputs": [
    {
     "name": "stdout",
     "output_type": "stream",
     "text": [
      "Structure exists: 'data/1a3n.cif' \n",
      "1A3N DEOXY HUMAN HEMOGLOBIN\n",
      "Cadena A - VLSPADKTNVKAAWGKVGAHAGEYGAEALERMFLSFPTTKTYFPHFDLSHGSAQVKGHGKKVADALTNAVAHVDDMPNALSALSDLHAHKLRVDPVNFKLLSHCLLVTLAAHLPAEFTPAVHASLDKFLASVSTVLTSKYR\n",
      "Cadena B - HLTPEEKSAVTALWGKVNVDEVGGEALGRLLVVYPWTQRFFESFGDLSTPDAVMGNPKVKAHGKKVLGAFSDGLAHLDNLKGTFATLSELHCDKLHVDPENFRLLGNVLVCVLAHHFGKEFTPPVQAAYQKVVAGVANALAHKYH\n",
      "Cadena C - VLSPADKTNVKAAWGKVGAHAGEYGAEALERMFLSFPTTKTYFPHFDLSHGSAQVKGHGKKVADALTNAVAHVDDMPNALSALSDLHAHKLRVDPVNFKLLSHCLLVTLAAHLPAEFTPAVHASLDKFLASVSTVLTSKYR\n",
      "Cadena D - HLTPEEKSAVTALWGKVNVDEVGGEALGRLLVVYPWTQRFFESFGDLSTPDAVMGNPKVKAHGKKVLGAFSDGLAHLDNLKGTFATLSELHCDKLHVDPENFRLLGNVLVCVLAHHFGKEFTPPVQAAYQKVVAGVANALAHKYH\n"
     ]
    }
   ],
   "source": [
    "def name1(name3):\n",
    "    return IUPACData.protein_letters_3to1[name3.title()]\n",
    "    \n",
    "structure = parse_cif(download(\"1a3n\", \"mmCif\"))\n",
    "print(structure.header[\"idcode\"], structure.header[\"name\"])\n",
    "\n",
    "for chain in structure.get_chains():\n",
    "    seq = \"\".join(name1(res.get_resname()) for res in chain.get_residues() if res.id[0] == \" \")\n",
    "    print(\"Cadena\", chain.get_id(), \"-\", seq)"
   ]
  },
  {
   "cell_type": "markdown",
   "metadata": {},
   "source": [
    "## 4.\n",
    "Levante un PDB y obtenga un nuevo PDB que contenga “solo” los CA"
   ]
  },
  {
   "cell_type": "code",
   "execution_count": 16,
   "metadata": {
    "tags": []
   },
   "outputs": [],
   "source": [
    "class SelectCA(Select):\n",
    "    # Heredar y overload de los metodos accept_x incluidos.\n",
    "    def accept_atom(self, atom):\n",
    "        return atom.id == \"CA\"\n",
    "\n",
    "pdb_io = PDBIO()\n",
    "pdb_io.set_structure(structure)\n",
    "pdb_io.save(\"actividad1-4.pdb\", select=SelectCA())"
   ]
  },
  {
   "cell_type": "markdown",
   "metadata": {},
   "source": [
    "# Actividad 2\n",
    "\n",
    "Cree una representación con el nglview, que contenga:\n",
    "\n",
    "- La proteína en cartoon\n",
    "- Las aguas en licorice\n",
    "- El cofactor y/o ligando en vwd\n",
    "- Los aminoácidos cercanos al cofactor y/o ligando en licorice"
   ]
  },
  {
   "cell_type": "code",
   "execution_count": 17,
   "metadata": {
    "tags": []
   },
   "outputs": [
    {
     "name": "stdout",
     "output_type": "stream",
     "text": [
      "Structure exists: 'data/1mbo.cif' \n"
     ]
    },
    {
     "data": {
      "application/vnd.jupyter.widget-view+json": {
       "model_id": "d0917528cc004074b3749d90419794c8",
       "version_major": 2,
       "version_minor": 0
      },
      "text/plain": [
       "NGLWidget(background='black')"
      ]
     },
     "metadata": {},
     "output_type": "display_data"
    }
   ],
   "source": [
    "structure = parse_cif(download(\"1mbo\", \"mmCif\"))\n",
    "view = nv.show_biopython(structure)\n",
    "view.clear_representations()\n",
    "view.background = \"black\"\n",
    "view.add_representation(\"cartoon\", selection=\"protein\", color=\"grey\")\n",
    "\n",
    "view.add_representation(\"surface\", surfaceType=\"vws\", selection=\"HEM\", color=\"cyan\")\n",
    "view.add_representation(\"licorice\", selection=\"OXY\", color=\"red\")\n",
    "\n",
    "near_lig_pos = set()\n",
    "ns = NeighborSearch(list(structure[0][\"A\"].get_atoms()))\n",
    "for ligand_res in filter(lambda res: \"H_HEM\" in res.id[0], structure.get_residues()):\n",
    "    for atom in ligand_res:\n",
    "        s = ns.search(atom.coord, 5, \"R\")\n",
    "        for res in s:\n",
    "            resseq = res.get_full_id()[3][1]\n",
    "            near_lig_pos.add(resseq)\n",
    "\n",
    "for pos in near_lig_pos:\n",
    "    view.add_representation(\"licorice\", selection=str(pos), color=\"orange\")\n",
    "\n",
    "\n",
    "view.add_representation(\"surface\", selection=\"ligand\", color=\"cyan\")\n",
    "view.add_representation(\"licorice\", selection=\"water\", color=\"red\")\n",
    "view"
   ]
  },
  {
   "cell_type": "markdown",
   "metadata": {},
   "source": [
    "# Actividad 3\n",
    "## 1.\n",
    "Busque en el PDB la oximioglobina (si es valiente la oxihemoglobina o algo equivalente), carguela en Biopython y calcule: distancia Fe-O, Angulo Fe-O-O, diedro N-Fe-O-O\n"
   ]
  },
  {
   "cell_type": "code",
   "execution_count": 18,
   "metadata": {
    "tags": []
   },
   "outputs": [
    {
     "name": "stdout",
     "output_type": "stream",
     "text": [
      "Structure exists: 'data/2dn1.cif' \n",
      "1.25A resolution crystal structure of human hemoglobin in the oxy form\n"
     ]
    },
    {
     "data": {
      "application/vnd.jupyter.widget-view+json": {
       "model_id": "c0f78f16b70545ebbc2b10fdb747ae3e",
       "version_major": 2,
       "version_minor": 0
      },
      "text/plain": [
       "NGLWidget(background='black')"
      ]
     },
     "metadata": {},
     "output_type": "display_data"
    }
   ],
   "source": [
    "structure = parse_cif(download(\"2dn1\", \"mmCif\"))\n",
    "print(structure.header[\"name\"])\n",
    "\n",
    "view = nv.show_biopython(structure)\n",
    "view.clear_representations()\n",
    "view.background = \"black\"\n",
    "view.add_representation(\"cartoon\", selection=\"protein\", color=\"grey\")\n",
    "view.add_representation(\"ball+stick\", selection=\"HEM\", color=\"cyan\")\n",
    "view.add_representation(\"ball+stick\", selection=\"OXY\", color=\"red\")\n",
    "view"
   ]
  },
  {
   "cell_type": "code",
   "execution_count": 19,
   "metadata": {
    "tags": []
   },
   "outputs": [
    {
     "name": "stdout",
     "output_type": "stream",
     "text": [
      "[<Atom FE>]\n",
      "[<Atom O1>, <Atom O2>]\n",
      "[<Atom NA>, <Atom NB>, <Atom NC>, <Atom ND>]\n"
     ]
    }
   ],
   "source": [
    "# Las posiciones salen de ver la estructura en nglview\n",
    "\n",
    "fe = list(filter(lambda a: a.id == \"FE\", structure[0][\"A\"][('H_HEM', 142, ' ')].get_atoms()))\n",
    "nit = list(filter(lambda a: a.id[0] == \"N\", structure[0][\"A\"][('H_HEM', 142, ' ')].get_atoms()))\n",
    "oxys = list(structure[0][\"A\"][('H_OXY', 143, ' ')].get_atoms())\n",
    "print(fe)\n",
    "print(oxys)\n",
    "print(nit)"
   ]
  },
  {
   "cell_type": "code",
   "execution_count": 20,
   "metadata": {
    "tags": []
   },
   "outputs": [
    {
     "name": "stdout",
     "output_type": "stream",
     "text": [
      "distancia Fe-O#1: 1.8169678 A\n",
      "distancia Fe-O#2: 2.71159 A\n",
      "angulo Fe-O-O: 124.29449828574195 grados\n",
      "diedro N#1-Fe-O-O: -144.77793825170625 grados\n",
      "diedro N#2-Fe-O-O: 125.18782376997045 grados\n",
      "diedro N#3-Fe-O-O: 33.863400231077875 grados\n",
      "diedro N#4-Fe-O-O: -55.0446314625624 grados\n"
     ]
    }
   ],
   "source": [
    "deg = lambda rads: rads*180/math.pi\n",
    "\n",
    "# Cada oxigeno del O2\n",
    "for i in range(2):\n",
    "    print(f\"distancia Fe-O#{i+1}:\", fe[0] - oxys[i], \"A\")\n",
    "\n",
    "print(\"angulo Fe-O-O:\", deg(vectors.calc_angle(fe[0].get_vector(), oxys[0].get_vector(), oxys[1].get_vector())), \"grados\")\n",
    "\n",
    "# Cada N de la protoporfirina\n",
    "for i in range(4):\n",
    "    print(f\"diedro N#{i+1}-Fe-O-O:\", deg(vectors.calc_dihedral(nit[i].get_vector(), fe[0].get_vector(), oxys[0].get_vector(), oxys[1].get_vector())), \"grados\")"
   ]
  },
  {
   "cell_type": "markdown",
   "metadata": {},
   "source": [
    "## 2.\n",
    "Genere una función que le permita obtener los ángulos diedros del enlace peptídico (Phi/psi) y represéntelos en un gráfico de ramachandran"
   ]
  },
  {
   "cell_type": "code",
   "execution_count": 21,
   "metadata": {
    "tags": []
   },
   "outputs": [
    {
     "name": "stdout",
     "output_type": "stream",
     "text": [
      "Structure exists: 'data/3con.cif' \n",
      "Crystal structure of the human NRAS GTPase bound with GDP\n",
      "phi -73.97433392322318 psi 169.42544563021667\n",
      "phi -123.3388572746355 psi 144.64419593452035\n",
      "phi -136.49914452560606 psi 144.40615983010048\n",
      "phi -102.82593351414 psi 129.46937041603402\n",
      "phi -107.80527702524483 psi 108.85990676938704\n",
      "phi -132.79896366035118 psi 150.68042076997554\n",
      "phi -109.54332786264406 psi 135.28075071211555\n",
      "phi -129.19683643443875 psi 120.46711024073511\n",
      "phi 144.81208231299019 psi 162.63268408058545\n",
      "phi -61.298768136594184 psi 170.5564248072735\n",
      "phi -58.450880295830146 psi 158.86943924135645\n",
      "phi 87.29916536286414 psi 135.49250238834827\n",
      "phi -78.38498555543015 psi 4.550704805910056\n",
      "phi 113.8302581314706 psi -20.008522252917917\n",
      "phi -54.35724156824258 psi 21.77283726491664\n",
      "phi -67.44049514148148 psi -49.673794716752845\n",
      "phi -62.3247207835999 psi -45.01072996145268\n",
      "phi -65.31726285013609 psi -38.420336456843614\n",
      "phi -59.33009396349832 psi -47.41960392024867\n",
      "phi -66.60550588973601 psi -50.191226316151784\n",
      "phi -56.49833340787453 psi -37.8315448556292\n",
      "phi -61.784253952944574 psi -47.56404220124056\n",
      "phi -77.58321759665128 psi -50.459371465493334\n",
      "phi -111.02365240642503 psi -45.844723914626584\n",
      "phi 59.7134673662583 psi -4.566480946069741\n",
      "phi -151.9132768305238 psi 39.946115824197136\n",
      "phi -92.64321964532624 psi 154.19076808727843\n",
      "phi -91.48222429529348 psi 125.3173903375098\n",
      "phi -77.04000526361143 psi 120.63900953524879\n",
      "phi -159.287103244923 psi -15.00050220180485\n",
      "phi -157.76780387418097 psi 150.20020880045595\n",
      "phi -40.0834734717257 psi 121.05489093362252\n",
      "phi -68.50762753166248 psi 114.50900028528405\n",
      "phi -94.28514205888972 psi -8.259320949205256\n",
      "phi -77.14255577513684 psi -9.38177583872161\n",
      "phi -113.2235545936963 psi 114.23738632883462\n",
      "phi -154.69072336356336 psi 125.81473590203807\n",
      "phi -98.86801139608481 psi 163.11889465748388\n",
      "phi -126.9560870500694 psi 140.40569430171215\n",
      "phi -113.06148099122869 psi 129.21459751133114\n",
      "phi -163.26000298665278 psi 151.17020992251523\n",
      "phi -73.27713665640594 psi 126.86606509181186\n",
      "phi -136.15622765295453 psi 127.23898287507893\n",
      "phi -118.17087180551961 psi 175.28451114143976\n",
      "phi -122.73909918364406 psi 123.12227831606188\n",
      "phi 54.83220089204322 psi 117.52898970748434\n",
      "phi 84.74944511456557 psi 36.709021932065625\n",
      "phi -94.61198591276248 psi -8.509621173047668\n",
      "phi -75.64017987390507 psi 124.94340628953229\n",
      "phi -153.78113961033196 psi 129.17294543334444\n",
      "phi -109.61798707437686 psi 168.46926282564837\n",
      "phi -100.18103788554367 psi 125.81441565384397\n",
      "phi -119.80572376841322 psi 134.97567207583666\n",
      "phi -113.90899679451455 psi 113.60519666899744\n",
      "phi -91.11276812040971 psi 118.47077389808246\n",
      "phi -89.59767711546402 psi 111.97697498874507\n",
      "phi -81.9071265720677 psi 104.78900254927885\n",
      "phi -135.757818725915 psi 156.9446522950224\n",
      "phi -98.9333180775343 psi 147.9974484489304\n",
      "phi 164.60982929530613 psi 80.66389514814614\n",
      "phi -61.29095722531996 psi -56.050467271523374\n",
      "phi -90.30135333662817 psi -28.948163936202963\n",
      "phi -58.55595705748928 psi -2.353646889952812\n",
      "phi -98.15256430029687 psi 134.28870729539943\n",
      "phi -156.39549488467622 psi -19.01860767353468\n",
      "phi -130.9280713988421 psi 149.73363114792124\n",
      "phi -91.79759903555922 psi 132.13473621527638\n",
      "phi -100.9810728056139 psi 122.67167605418028\n",
      "phi -107.27106830090727 psi 108.23417323042227\n",
      "phi -125.4466025985391 psi 131.65296706699746\n",
      "phi -105.5459012670096 psi 168.37205020302997\n",
      "phi -69.01369876999347 psi 137.30778828232957\n",
      "phi -106.19218725517214 psi -13.158419445475722\n",
      "phi -146.25326522730225 psi 27.793339846850404\n",
      "phi -53.066304918954934 psi 91.3165643255724\n",
      "phi -59.08868532941336 psi -46.50476142966084\n",
      "phi -64.79345684028436 psi -35.77373265588856\n",
      "phi -66.55128729327663 psi -35.99829428867691\n",
      "phi -52.79738075710254 psi -48.1204732180639\n",
      "phi -70.96566603388027 psi -41.890988763816694\n",
      "phi -48.83824493274171 psi -16.44164045747206\n",
      "phi -62.64359322033584 psi -41.17238678364568\n",
      "phi -63.808858517971245 psi -33.856208503261506\n",
      "phi -68.09682664147898 psi -42.471454495468066\n",
      "phi -58.06908672405521 psi -44.15464005094922\n",
      "phi -66.54979558429027 psi -43.99230920536771\n",
      "phi -52.650271355775644 psi -41.56715353839617\n",
      "phi -68.47545942608791 psi -44.961155071892875\n",
      "phi -56.03563701241557 psi -44.60791364425151\n",
      "phi -72.62269911734172 psi -42.808840603492236\n",
      "phi -65.32439569258835 psi -44.662193717014226\n",
      "phi -94.60925960366866 psi -31.770269762053896\n",
      "phi 43.87572937461967 psi -3.2195414248524257\n",
      "phi -160.8545822477702 psi 51.94035906796667\n",
      "phi -86.7481997258472 psi 141.83036722208413\n",
      "phi -102.02274799071256 psi -10.790650233299937\n",
      "phi -66.95762979170655 psi 17.49702128946235\n",
      "phi -54.46692152021813 psi 126.9962837249915\n",
      "phi -150.8215244153938 psi 128.84005533257505\n",
      "phi -136.8221454975025 psi 161.07581249343886\n",
      "phi -88.6295911250998 psi 136.2439342978669\n",
      "phi -117.80000679938841 psi 126.55824460012758\n",
      "phi -103.94065739710801 psi 123.53959278177337\n",
      "phi -94.27870939495865 psi 104.29875288899484\n",
      "phi 73.14734625498592 psi 167.2238909850614\n",
      "phi -67.84664092448867 psi 30.999492575948143\n",
      "phi -68.18771150993399 psi -10.444349438725427\n",
      "phi -83.5982522404001 psi -21.934971579341582\n",
      "phi -84.15514777687557 psi 139.9701173773421\n",
      "phi -93.22222148655389 psi -5.596526507205961\n",
      "phi -75.09863790773403 psi 53.427865378375685\n",
      "phi -123.1801735839292 psi 127.33582074780554\n",
      "phi -119.32382230356615 psi -1.1240375545198682\n",
      "phi -85.48201571101586 psi 114.39665914064345\n",
      "phi -68.21367403647571 psi 169.75665964997935\n",
      "phi -65.04833019566166 psi -30.37445334418462\n",
      "phi -56.73563704006677 psi -45.1502409443641\n",
      "phi -69.29724685635084 psi -47.39886053198722\n",
      "phi -63.473984797789434 psi -46.785528349165375\n",
      "phi -64.4609306897868 psi -42.02009034742527\n",
      "phi -62.51505120423491 psi -37.12188208987813\n",
      "phi -56.90142854516014 psi -49.58201761673251\n",
      "phi -65.45361566279911 psi -41.36812353300279\n",
      "phi -61.10452842808925 psi -35.92721242275781\n",
      "phi -97.17853857819576 psi -29.799736627183744\n",
      "phi 59.75288669355677 psi -9.405013139146511\n",
      "phi -127.42624169376424 psi 38.18302180410672\n",
      "phi -66.90841552283898 psi 160.35532711939692\n",
      "phi -107.43211309571868 psi 143.46778171979955\n",
      "phi -127.27510746642648 psi 128.94918269015037\n",
      "phi -88.07702125579996 psi 126.40754178270227\n",
      "phi -129.40149613269568 psi 128.59603562214218\n",
      "phi -132.25249828718236 psi 159.8636397842812\n",
      "phi -61.35135025132018 psi 109.50343490203831\n",
      "phi -67.5064628684724 psi -27.424430060796098\n",
      "phi -97.25105296502606 psi -46.63961513874204\n",
      "phi 86.04994176526651 psi -17.33363840308344\n",
      "phi -53.133129666676496 psi -4.572562153620828\n",
      "phi 72.29214973274262 psi 132.6137789427209\n",
      "phi -66.55816738534985 psi -8.302735314998616\n",
      "phi -56.4765017359556 psi -53.02501268594623\n",
      "phi -55.57085542838359 psi -45.24856710665394\n",
      "phi -64.23967024372496 psi -42.35217442010759\n",
      "phi -66.62745486213655 psi -52.067530524375144\n",
      "phi -71.99038036989339 psi -43.72273341382816\n",
      "phi -59.08645001000242 psi -35.65100646746305\n",
      "phi -57.4942138069724 psi -42.95509086682822\n",
      "phi -52.84627077886391 psi -49.21486105451885\n",
      "phi -65.97683035758081 psi -44.3043700116878\n",
      "phi -62.381493943893275 psi -34.597749587159676\n",
      "phi -68.67851142628236 psi -39.18361797296552\n",
      "phi -51.61864768407051 psi -44.7208424123276\n",
      "phi -60.60497382734898 psi -48.23298214479676\n",
      "phi -60.040767025001955 psi -46.97204736273104\n",
      "phi -68.28812685166731 psi -41.41722142657148\n"
     ]
    }
   ],
   "source": [
    "def pep_dihedral(structure, chain):\n",
    "    \"\"\" pep_diedral recibe una structure de biopython, y el nombre de una cadena.\n",
    "    Devuelve un generador de tuplas (phi, psi) \"\"\"\n",
    "    \n",
    "    prev_ca, prev_t = None, None\n",
    "    chain_res = [res for res in structure[0][chain] if res.id[0] == \" \"]\n",
    "    \n",
    "    for i in range(len(chain_res) - 1):\n",
    "        cr, nr = chain_res[i], chain_res[i+1]\n",
    "        phi = deg(vectors.calc_dihedral( *(a.get_vector() for a in (cr[\"C\"], nr[\"N\"], nr[\"CA\"], nr[\"C\"]))))\n",
    "        psi = deg(vectors.calc_dihedral(*(a.get_vector() for a in (cr[\"N\"], cr[\"CA\"], cr[\"C\"], nr[\"N\"]))))\n",
    "        \n",
    "        yield phi, psi\n",
    "\n",
    "structure = parse_cif(download(\"3con\", \"mmCif\"))\n",
    "print(structure.header[\"name\"])\n",
    "\n",
    "for phi, psi in pep_dihedral(structure, \"A\"):\n",
    "    print(\"phi\", phi, \"psi\", psi)"
   ]
  },
  {
   "cell_type": "code",
   "execution_count": 22,
   "metadata": {
    "tags": []
   },
   "outputs": [
    {
     "data": {
      "text/plain": [
       "<matplotlib.lines.Line2D at 0x7f4ac6321160>"
      ]
     },
     "execution_count": 22,
     "metadata": {},
     "output_type": "execute_result"
    },
    {
     "data": {
      "image/png": "[encoded data removed]",
      "text/plain": [
       "<Figure size 864x576 with 1 Axes>"
      ]
     },
     "metadata": {},
     "output_type": "display_data"
    }
   ],
   "source": [
    "ax = sns.scatterplot(*zip(*pep_dihedral(structure, \"A\")))\n",
    "ax.set(xlim=(-200, 200), ylim=(-200, 200))\n",
    "ax.axhline(0)\n",
    "ax.axvline(0)"
   ]
  },
  {
   "cell_type": "markdown",
   "metadata": {},
   "source": [
    "## 3.\n",
    "Utilizando valores de los ángulos Phi/psi calculados en el punto anterior determine los elementos de estructura secundaria correspondientes a cada posición de la secuencia"
   ]
  },
  {
   "cell_type": "code",
   "execution_count": 23,
   "metadata": {
    "tags": []
   },
   "outputs": [
    {
     "name": "stdout",
     "output_type": "stream",
     "text": [
      "T <Residue MET het=  resseq=1 icode= >\n",
      "T <Residue THR het=  resseq=2 icode= >\n",
      "B <Residue GLU het=  resseq=3 icode= >\n",
      "B <Residue TYR het=  resseq=4 icode= >\n",
      "B <Residue LYS het=  resseq=5 icode= >\n",
      "B <Residue LEU het=  resseq=6 icode= >\n",
      "B <Residue VAL het=  resseq=7 icode= >\n",
      "B <Residue VAL het=  resseq=8 icode= >\n",
      "T <Residue VAL het=  resseq=9 icode= >\n",
      "T <Residue GLY het=  resseq=10 icode= >\n",
      "T <Residue ALA het=  resseq=11 icode= >\n",
      "T <Residue GLY het=  resseq=12 icode= >\n",
      "T <Residue GLY het=  resseq=13 icode= >\n",
      "T <Residue VAL het=  resseq=14 icode= >\n",
      "T <Residue GLY het=  resseq=15 icode= >\n",
      "T <Residue LYS het=  resseq=16 icode= >\n",
      "T <Residue SER het=  resseq=17 icode= >\n",
      "H <Residue ALA het=  resseq=18 icode= >\n",
      "H <Residue LEU het=  resseq=19 icode= >\n",
      "H <Residue THR het=  resseq=20 icode= >\n",
      "H <Residue ILE het=  resseq=21 icode= >\n",
      "H <Residue GLN het=  resseq=22 icode= >\n",
      "H <Residue LEU het=  resseq=23 icode= >\n",
      "H <Residue ILE het=  resseq=24 icode= >\n",
      "T <Residue GLN het=  resseq=25 icode= >\n",
      "T <Residue ASN het=  resseq=26 icode= >\n",
      "T <Residue HIS het=  resseq=27 icode= >\n",
      "B <Residue PHE het=  resseq=28 icode= >\n",
      "B <Residue VAL het=  resseq=29 icode= >\n",
      "T <Residue ASP het=  resseq=30 icode= >\n",
      "T <Residue GLU het=  resseq=31 icode= >\n",
      "T <Residue TYR het=  resseq=32 icode= >\n",
      "B <Residue ASP het=  resseq=33 icode= >\n",
      "T <Residue PRO het=  resseq=34 icode= >\n",
      "T <Residue THR het=  resseq=35 icode= >\n",
      "T <Residue ILE het=  resseq=36 icode= >\n",
      "T <Residue GLU het=  resseq=37 icode= >\n",
      "B <Residue ASP het=  resseq=38 icode= >\n",
      "B <Residue SER het=  resseq=39 icode= >\n",
      "B <Residue TYR het=  resseq=40 icode= >\n",
      "B <Residue ARG het=  resseq=41 icode= >\n",
      "B <Residue LYS het=  resseq=42 icode= >\n",
      "B <Residue GLN het=  resseq=43 icode= >\n",
      "B <Residue VAL het=  resseq=44 icode= >\n",
      "B <Residue VAL het=  resseq=45 icode= >\n",
      "T <Residue ILE het=  resseq=46 icode= >\n",
      "T <Residue ASP het=  resseq=47 icode= >\n",
      "H <Residue GLY het=  resseq=48 icode= >\n",
      "T <Residue GLU het=  resseq=49 icode= >\n",
      "T <Residue THR het=  resseq=50 icode= >\n",
      "B <Residue CYS het=  resseq=51 icode= >\n",
      "B <Residue LEU het=  resseq=52 icode= >\n",
      "B <Residue LEU het=  resseq=53 icode= >\n",
      "B <Residue ASP het=  resseq=54 icode= >\n",
      "B <Residue ILE het=  resseq=55 icode= >\n",
      "B <Residue LEU het=  resseq=56 icode= >\n",
      "B <Residue ASP het=  resseq=57 icode= >\n",
      "B <Residue THR het=  resseq=58 icode= >\n",
      "B <Residue ALA het=  resseq=59 icode= >\n",
      "T <Residue GLY het=  resseq=60 icode= >\n",
      "T <Residue MET het=  resseq=72 icode= >\n",
      "H <Residue ARG het=  resseq=73 icode= >\n",
      "H <Residue THR het=  resseq=74 icode= >\n",
      "T <Residue GLY het=  resseq=75 icode= >\n",
      "T <Residue GLU het=  resseq=76 icode= >\n",
      "T <Residue GLY het=  resseq=77 icode= >\n",
      "T <Residue PHE het=  resseq=78 icode= >\n",
      "B <Residue LEU het=  resseq=79 icode= >\n",
      "B <Residue CYS het=  resseq=80 icode= >\n",
      "B <Residue VAL het=  resseq=81 icode= >\n",
      "B <Residue PHE het=  resseq=82 icode= >\n",
      "B <Residue ALA het=  resseq=83 icode= >\n",
      "T <Residue ILE het=  resseq=84 icode= >\n",
      "T <Residue ASN het=  resseq=85 icode= >\n",
      "T <Residue ASN het=  resseq=86 icode= >\n",
      "T <Residue SER het=  resseq=87 icode= >\n",
      "T <Residue LYS het=  resseq=88 icode= >\n",
      "H <Residue SER het=  resseq=89 icode= >\n",
      "H <Residue PHE het=  resseq=90 icode= >\n",
      "H <Residue ALA het=  resseq=91 icode= >\n",
      "H <Residue ASP het=  resseq=92 icode= >\n",
      "H <Residue ILE het=  resseq=93 icode= >\n",
      "H <Residue ASN het=  resseq=94 icode= >\n",
      "H <Residue LEU het=  resseq=95 icode= >\n",
      "H <Residue TYR het=  resseq=96 icode= >\n",
      "H <Residue ARG het=  resseq=97 icode= >\n",
      "H <Residue GLU het=  resseq=98 icode= >\n",
      "H <Residue GLN het=  resseq=99 icode= >\n",
      "H <Residue ILE het=  resseq=100 icode= >\n",
      "H <Residue LYS het=  resseq=101 icode= >\n",
      "H <Residue ARG het=  resseq=102 icode= >\n",
      "H <Residue VAL het=  resseq=103 icode= >\n",
      "T <Residue LYS het=  resseq=104 icode= >\n",
      "T <Residue ASP het=  resseq=105 icode= >\n",
      "T <Residue SER het=  resseq=106 icode= >\n",
      "T <Residue ASP het=  resseq=107 icode= >\n",
      "T <Residue ASP het=  resseq=108 icode= >\n",
      "T <Residue VAL het=  resseq=109 icode= >\n",
      "B <Residue PRO het=  resseq=110 icode= >\n",
      "B <Residue MET het=  resseq=111 icode= >\n",
      "B <Residue VAL het=  resseq=112 icode= >\n",
      "B <Residue LEU het=  resseq=113 icode= >\n",
      "B <Residue VAL het=  resseq=114 icode= >\n",
      "B <Residue GLY het=  resseq=115 icode= >\n",
      "T <Residue ASN het=  resseq=116 icode= >\n",
      "T <Residue LYS het=  resseq=117 icode= >\n",
      "T <Residue CYS het=  resseq=118 icode= >\n",
      "T <Residue ASP het=  resseq=119 icode= >\n",
      "T <Residue LEU het=  resseq=120 icode= >\n",
      "T <Residue PRO het=  resseq=121 icode= >\n",
      "T <Residue THR het=  resseq=122 icode= >\n",
      "T <Residue ARG het=  resseq=123 icode= >\n",
      "T <Residue THR het=  resseq=124 icode= >\n",
      "T <Residue VAL het=  resseq=125 icode= >\n",
      "T <Residue ASP het=  resseq=126 icode= >\n",
      "T <Residue THR het=  resseq=127 icode= >\n",
      "T <Residue LYS het=  resseq=128 icode= >\n",
      "H <Residue GLN het=  resseq=129 icode= >\n",
      "H <Residue ALA het=  resseq=130 icode= >\n",
      "H <Residue HIS het=  resseq=131 icode= >\n",
      "H <Residue GLU het=  resseq=132 icode= >\n",
      "H <Residue LEU het=  resseq=133 icode= >\n",
      "H <Residue ALA het=  resseq=134 icode= >\n",
      "H <Residue LYS het=  resseq=135 icode= >\n",
      "H <Residue SER het=  resseq=136 icode= >\n",
      "T <Residue TYR het=  resseq=137 icode= >\n",
      "T <Residue GLY het=  resseq=138 icode= >\n",
      "T <Residue ILE het=  resseq=139 icode= >\n",
      "B <Residue PRO het=  resseq=140 icode= >\n",
      "B <Residue PHE het=  resseq=141 icode= >\n",
      "B <Residue ILE het=  resseq=142 icode= >\n",
      "B <Residue GLU het=  resseq=143 icode= >\n",
      "B <Residue THR het=  resseq=144 icode= >\n",
      "B <Residue SER het=  resseq=145 icode= >\n",
      "T <Residue ALA het=  resseq=146 icode= >\n",
      "T <Residue LYS het=  resseq=147 icode= >\n",
      "T <Residue THR het=  resseq=148 icode= >\n",
      "T <Residue ARG het=  resseq=149 icode= >\n",
      "T <Residue GLN het=  resseq=150 icode= >\n",
      "H <Residue GLY het=  resseq=151 icode= >\n",
      "H <Residue VAL het=  resseq=152 icode= >\n",
      "H <Residue GLU het=  resseq=153 icode= >\n",
      "H <Residue ASP het=  resseq=154 icode= >\n",
      "H <Residue ALA het=  resseq=155 icode= >\n",
      "H <Residue PHE het=  resseq=156 icode= >\n",
      "H <Residue TYR het=  resseq=157 icode= >\n",
      "H <Residue THR het=  resseq=158 icode= >\n",
      "H <Residue LEU het=  resseq=159 icode= >\n",
      "H <Residue VAL het=  resseq=160 icode= >\n",
      "H <Residue ARG het=  resseq=161 icode= >\n",
      "H <Residue GLU het=  resseq=162 icode= >\n",
      "H <Residue ILE het=  resseq=163 icode= >\n",
      "H <Residue ARG het=  resseq=164 icode= >\n",
      "H <Residue GLN het=  resseq=165 icode= >\n",
      "H <Residue TYR het=  resseq=166 icode= >\n"
     ]
    }
   ],
   "source": [
    "def sec(dihedrals, w=3):\n",
    "    \"\"\" sec recibe el generador de angulos dihedros anterior y un tamaño w de ventana deslizante.\n",
    "    En la ventana deslizante lleva la cuenta de que cuadrantes caen los ultimos w pares phi-psi.\n",
    "    Devuelve un generador que por cada posicion da B=hoja beta, H=helice, T=turn/otro en base a que valor unanime contiene la ventana.\n",
    "    \"\"\"\n",
    "    window = []\n",
    "    for phi, psi in dihedrals:\n",
    "        if len(window) >= w:\n",
    "            window.pop(0)\n",
    "        if phi < 0 and psi > 0:\n",
    "            window.append(\"B\")\n",
    "        elif (phi < 0 and psi < 0) or (phi > 0 and psi > 0):\n",
    "            window.append(\"H\")\n",
    "        else:\n",
    "            window.append(\"T\")  \n",
    "\n",
    "        if window.count(\"B\") == w:\n",
    "            yield \"B\"\n",
    "        elif window.count(\"H\") == w:\n",
    "            yield \"H\"\n",
    "        else:\n",
    "            yield \"T\"\n",
    "\n",
    "for secstruct, res in zip(sec(pep_dihedral(structure, \"A\")), structure[0][\"A\"]):\n",
    "    print(secstruct, res)"
   ]
  },
  {
   "cell_type": "code",
   "execution_count": 24,
   "metadata": {
    "tags": []
   },
   "outputs": [
    {
     "data": {
      "application/vnd.jupyter.widget-view+json": {
       "model_id": "354e5d093b76497fb67be4333ac7b2da",
       "version_major": 2,
       "version_minor": 0
      },
      "text/plain": [
       "NGLWidget(background='black')"
      ]
     },
     "metadata": {},
     "output_type": "display_data"
    }
   ],
   "source": [
    "# Verificacion visual\n",
    "\n",
    "view = nv.show_biopython(structure)\n",
    "view.clear_representations()\n",
    "view.add_representation(\"cartoon\", selection=\"protein\", color=\"grey\")\n",
    "view.background = \"black\"\n",
    "\n",
    "sec_pos = {\n",
    "    \"H\": [], \"B\": [], \"T\": []\n",
    "}\n",
    "\n",
    "for sec_struct, res in zip(sec(pep_dihedral(structure, \"A\")), structure[0][\"A\"]):\n",
    "    sec_pos[sec_struct].append(res.full_id[3][1])\n",
    "\n",
    "view.add_representation(\"backbone\", aspectRatio=2, selection=\" \".join(str(pos) for pos in sec_pos[\"H\"]), color=\"red\")\n",
    "view.add_representation(\"backbone\", aspectRatio=2, selection=\" \".join(str(pos) for pos in sec_pos[\"B\"]), color=\"green\")\n",
    "view.add_representation(\"backbone\", aspectRatio=2, selection=\" \".join(str(pos) for pos in sec_pos[\"T\"]), color=\"blue\")\n",
    "view"
   ]
  },
  {
   "cell_type": "markdown",
   "metadata": {},
   "source": [
    "# Actividad 4\n",
    "Elija una familia de proteìnas que contenga al menos 10 estructuras correspondientes a\n",
    "organismos distintos y realice las siguientes actividades:\n",
    "## 1.\n",
    "Alineamiento múltiple de todas las estructuras y estimación de una matriz de distancia\n",
    "(RMSD de CA)."
   ]
  },
  {
   "cell_type": "code",
   "execution_count": 25,
   "metadata": {
    "tags": []
   },
   "outputs": [
    {
     "name": "stdout",
     "output_type": "stream",
     "text": [
      "Structure exists: 'data/1hny.cif' \n",
      "Structure exists: 'data/1c8q.cif' \n",
      "Structure exists: 'data/1amy.cif' \n",
      "Structure exists: 'data/2guy.cif' \n",
      "Structure exists: 'data/1clv.cif' \n",
      "Structure exists: 'data/1aqh.cif' \n",
      "Structure exists: 'data/1hvx.cif' \n",
      "Structure exists: 'data/1ht6.cif' \n",
      "Structure exists: 'data/4x9y.cif' \n",
      "Structure exists: 'data/1dhk.cif' \n",
      "Structure exists: 'data/1g5a.cif' \n",
      "1HNY The structure of human pancreatic alpha-amylase at 1.8 angstroms resolution and comparisons with related enzymes\n",
      "1C8Q STRUCTURE SOLUTION AND REFINEMENT OF THE RECOMBINANT HUMAN SALIVARY AMYLASE\n",
      "1AMY CRYSTAL AND MOLECULAR STRUCTURE OF BARLEY ALPHA-AMYLASE\n",
      "2GUY Orthorhombic crystal structure (space group P21212) of Aspergillus niger alpha-amylase at 1.6 A resolution\n",
      "1CLV YELLOW MEAL WORM ALPHA-AMYLASE IN COMPLEX WITH THE AMARANTH ALPHA-AMYLASE INHIBITOR\n",
      "1AQH ALPHA-AMYLASE FROM ALTEROMONAS HALOPLANCTIS\n",
      "1HVX BACILLUS STEAROTHERMOPHILUS ALPHA-AMYLASE\n",
      "1HT6 CRYSTAL STRUCTURE AT 1.5A RESOLUTION OF THE BARLEY ALPHA-AMYLASE ISOZYME 1\n",
      "4X9Y Wild-Type Human Pancreatic Alpha-Amylase at True Atomic Resolution (1.07 A)\n",
      "1DHK STRUCTURE OF PORCINE PANCREATIC ALPHA-AMYLASE\n",
      "1G5A AMYLOSUCRASE FROM NEISSERIA POLYSACCHAREA\n"
     ]
    }
   ],
   "source": [
    "# http://pfam.xfam.org/family/PF00128\n",
    "pdb_ids = [\"1hny\", \"1c8q\", \"1amy\", \"2guy\", \"1clv\", \"1aqh\", \"1hvx\", \"1ht6\", \"4x9y\", \"1dhk\", \"1g5a\"]\n",
    "pdb_ids = [pdb_id.upper() for pdb_id in pdb_ids]\n",
    "\n",
    "structures = {pdb_id: parse_cif(download(pdb_id, \"mmCif\")) for pdb_id in pdb_ids}\n",
    "\n",
    "for pdb_id, structure in structures.items():\n",
    "    print(pdb_id, structure.header[\"name\"])"
   ]
  },
  {
   "cell_type": "code",
   "execution_count": 26,
   "metadata": {},
   "outputs": [
    {
     "name": "stdout",
     "output_type": "stream",
     "text": [
      ">1HNY The structure of human pancreatic alpha-amylase at 1.8 angstroms resolution and comparisons with related enzymes\n",
      "YSPNTQQGRTSIVHLFEWRWVDIALECERYLAPKGFGGVQVSPPNENVAIYNPFRPWWERYQPVSYKLCTRSGNEDEFRNMVTRCNNVGVRIYVDAVINHMCGNAVSAGTSSTCGSYFNPGSRDFPAVPYSGWDFNDGKCKTGSGDIENYNDATQVRDCRLTGLLDLALEKDYVRSKIAEYMNHLIDIGVAGFRLDASKHMWPGDIKAILDKLHNLNSNWFPAGSKPFIYQEVIDLGGEPIKSSDYFGNGRVTEFKYGAKLGTVIRKWNGEKMSYLKNWGEGWGFVPSDRALVFVDNHDNQRGHGAGGASILTFWDARLYKMAVGFMLAHPYGFTRVMSSYRWPRQFQNGNDVNDWVGPPNNNGVIKEVTINPDTTCGNDWVCEHRWRQIRNMVIFRNVVDGQPFTNWYDNGSNQVAFGRGNRGFIVFNNDDWSFSLTLQTGLPAGTYCDVISGDKINGNCTGIKIYVSDDGKAHFSISNSAEDPFIAIHAESKL\n",
      "\n",
      ">1C8Q STRUCTURE SOLUTION AND REFINEMENT OF THE RECOMBINANT HUMAN SALIVARY AMYLASE\n",
      "YSSNTQQGRTSIVHLFEWRWVDIALECERYLAPKGFGGVQVSPPNENVAIHNPFRPWWERYQPVSYKLCTRSGNEDEFRNMVTRCNNVGVRIYVDAVINHMCGNAVSAGTSSTCGSYFNPGSRDFPAVPYSGWDFNDGKCKTGSGDIENYNDATQVRDCRLSGLLDLALGKDYVRSKIAEYMNHLIDIGVAGFRIDASKHMWPGDIKAILDKLHNLNSNWFPEGSKPFIYQEVIDLGGEPIKSSDYFGNGRVTEFKYGAKLGTVIRKWNGEKMSYLKNWGEGWGFMPSDRALVFVDNHDNQRGHGAGGASILTFWDARLYKMAVGFMLAHPYGFTRVMSSYRWPRYFENGKDVNDWVGPPNDNGVTKEVTINPDTTCGNDWVCEHRWRQIRNMVNFRNVVDGQPFTNWYDNGSNQVAFGRGNRGFIVFNNDDWTFSLTLQTGLPAGTYCDVISGDKINGNCTGIKIYVSDDGKAHFSISNSAEDPFIAIHAESKL\n",
      "\n",
      ">1AMY CRYSTAL AND MOLECULAR STRUCTURE OF BARLEY ALPHA-AMYLASE\n",
      "QVLFQGFNWESWKHNGGWYNFLMGKVDDIAAAGITHVWLPPASQSVAEQGYMPGRLYDLDASKYGNKAQLKSLIGALHGKGVKAIADIVINHRTAEHKDGRGIYCIFEGGTPDARLDWGPHMICRDDRPYADGTGNPDTGADFGAAPDIDHLNLRVQKELVEWLNWLKADIGFDGWRFDFAKGYSADVAKIYIDRSEPSFAVAEIWTSLAYGGDGKPNLNQDQHRQELVNWVDKVGGKGPATTFDFTTKGILNVAVEGELWRLRGTDGKAPGMIGWWPAKAVTFVDNHDTGSTQHMWPFPSDRVMQGYAYILTHPGTPCIFYDHFFDWGLKEEIDRLVSVRTRHGIHNESKLQIIEADADLYLAEIDGKVIVKLGPRYDVGNLIPGGFKVAAHGNDYAVWEKI\n",
      "\n",
      ">2GUY Orthorhombic crystal structure (space group P21212) of Aspergillus niger alpha-amylase at 1.6 A resolution\n",
      "ATPADWRSQSIYFLLTDRFARTDGSTTATCNTADQKYCGGTWQGIIDKLDYIQGMGFTAIWITPVTAQLPQTTAYGDAYHGYWQQDIYSLNENYGTADDLKALSSALHERGMYLMVDVVANHMGYDGAGSSVDYSVFKPFSSQDYFHPFCFIQNYEDQTQVEDCWLGDNTVSLPDLDTTKDVVKNEWYDWVGSLVSNYSIDGLRIDTVKHVQKDFWPGYNKAAGVYCIGEVLDGDPAYTCPYQNVMDGVLNYPIYYPLLNAFKSTSGSMDDLYNMINTVKSDCPDSTLLGTFVENHDNPRFASYTNDIALAKNVAAFIILNDGIPIIYAGQEQHYAGGNDPANREATWLSGYPTDSELYKLIASANAIRNYAISKDTGFVTYKNWPIYKDDTTIAMRKGTDGSQIVTILSNKGASGDSYTLSLSGAGYTAGQQLTEVIGCTTVTVGSDGNVPVPMAGGLPRVLYPTEKLAGSKICS\n",
      "\n",
      ">1CLV YELLOW MEAL WORM ALPHA-AMYLASE IN COMPLEX WITH THE AMARANTH ALPHA-AMYLASE INHIBITOR\n",
      "KDANFASGRNSIVHLFEWKWNDIADECERFLQPQGFGGVQISPPNEYLVADGRPWWERYQPVSYIINTRSGDESAFTDMTRRCNDAGVRIYVDAVINHMTGMNGVGTSGSSADHDGMNYPAVPYGSGDFHSPCEVNNYQDADNVRNCELVGLRDLNQGSDYVRGVLIDYMNHMIDLGVAGFRVDAAKHMSPGDLSVIFSGLKNLNTDYGFADGARPFIYQEVIDLGGEAISKNEYTGFGCVLEFQFGVSLGNAFQGGNQLKNLANWGPEWGLLEGLDAVVFVDNHDNQRTGGSQILTYKNPKPYKMAIAFMLAHPYGTTRIMSSFDFTDNDQGPPQDGSGNLISPGINDDNTCSNGYVCEHRWRQVYGMVGFRNAVEGTQVENWWSNDDNQIAFSRGSQGFVAFTNGGDLNQNLNTGLPAGTYCDVISGELSGGSCTGKSVTVGDNGSADISLGSAEDDGVLAIHVNAKL\n",
      "\n",
      ">1AQH ALPHA-AMYLASE FROM ALTEROMONAS HALOPLANCTIS\n",
      "TPTTFVHLFEWNWQDVAQECEQYLGPKGYAAVQVSPPNEHITGSQWWTRYQPVSYELQSRGGNRAQFIDMVNRCSAAGVDIYVDTLINHMAAGSGTGTAGNSFGNKSFPIYSPQDFHESCTINNSDYGNDRYRVQNCELVGLADLDTASNYVQNTIAAYINDLQAIGVKGFRFDASKHVAASDIQSLMAKVNGSPVVFQEVIDQGGEAVGASEYLSTGLVTEFKYSTELGNTFRNGSLAWLSNFGEGWGFMPSSSAVVFVDNHDNQRGHGGAGNVITFEDGRLYDLANVFMLAYPYGYPKVMSSYDFHGDTDAGGPNVPVHNNGNLECFASNWKCEHRWSYIAGGVDFRNNTADNWAVTNWWDNTNNQISFGRGSSGHMAINKEDSTLTATVQTDMASGQYCNVLKGELSADAKSCSGEVITVNSDGTINLNIGAWDAMAIHKNAKLN\n",
      "\n",
      ">1HVX BACILLUS STEAROTHERMOPHILUS ALPHA-AMYLASE\n",
      "AAPFNGTMMQYFEWYLPDDGTLWTKVANEANNLSSLGITALWLPPAYKGTSRSDVGYGVYDLYDLGEFNQKGAVRTKYGTKAQYLQAIQAAHAAGMQVYADVVFDHKGGADGTEWVDAVEVNPSDRNQEISGTYQIQAWTKFDFPGRGNTYSSFKWRWYHFDGVDWDESRKLSRIYKFRGIGKAWDWEVDTENGNYDYLMYADLDMDHPEVVTELKSWGKWYVNTTNIDGFRLDAVKHIKFSFFPDWLSYVRSQTGKPLFTVGEYWSYDINKLHNYIMKTNGTMSLFDAPLHNKFYTASKSGGTFDMRTLMTNTLMKDQPTLAVTFVDNHDTEPGQALQSWVDPWFKPLAYAFILTRQEGYPCVFYGDYYGIPQYNIPSLKSKIDPLLIARRDYAYGTQHDYLDHSDIIGWTREGVTEKPGSGLAALITDGPGGSKWMYVGKQHAGKVFYDLTGNRSDTVTINSDGWGEFKVNGGSVSVWVPR\n",
      "\n",
      ">1HT6 CRYSTAL STRUCTURE AT 1.5A RESOLUTION OF THE BARLEY ALPHA-AMYLASE ISOZYME 1\n",
      "HQVLFQGFNWESWKQSGGWYNMMMGKVDDIAAAGVTHVWLPPPSHSVSNEGYMPGRLYDIDASKYGNAAELKSLIGALHGKGVQAIADIVINHRCADYKDSRGIYCIFEGGTSDGRLDWGPHMICRDDTKYSDGTANLDTGADFAAAPDIDHLNDRVQRELKEWLLWLKSDLGFDAWRLDFARGYSPEMAKVYIDGTSPSLAVAEVWDNMATGGDGKPNYDQDAHRQNLVNWVDKVGGAASAGMVFDFTTKGILNAAVEGELWRLIDPQGKAPGVMGWWPAKAVTFVDNHDTGSTQAMWPFPSDKVMQGYAYILTHPGIPCIFYDHFFNWGFKDQIAALVAIRKRNGITATSALKILMHEGDAYVAEIDGKVVVKIGSRYDVGAVIPAGFVTSAHGNDYAVWEK\n",
      "\n",
      ">4X9Y Wild-Type Human Pancreatic Alpha-Amylase at True Atomic Resolution (1.07 A)\n",
      "YSPNTQQGRTSIVHLFEWRWVDIALECERYLAPKGFGGVQVSPPNENVAIYNPFRPWWERYQPVSYKLCTRSGNEDEFRNMVTRCNNVGVRIYVDAVINHMCGNAVSAGTSSTCGSYFNPGSRDFPAVPYSGWDFNDGKCKTGSGDIENYNDATQVRDCRLTGLLDLALEKDYVRSKIAEYMNHLIDIGVAGFRLDASKHMWPGDIKAILDKLHNLNSNWFPAGSKPFIYQEVIDLGGEPIKSSDYFGNGRVTEFKYGAKLGTVIRKWNGEKMSYLKNWGEGWGFVPSDRALVFVDNHDNQRGHGAGGASILTFWDARLYKMAVGFMLAHPYGFTRVMSSYRWPRQFQNGNDVNDWVGPPNNNGVIKEVTINPDTTCGNDWVCEHRWRQIRNMVIFRNVVDGQPFTNWYDNGSNQVAFGRGNRGFIVFNNDDWSFSLTLQTGLPAGTYCDVISGDKINGNCTGIKIYVSDDGKAHFSISNSAEDPFIAIHAESKL\n",
      "\n",
      ">1DHK STRUCTURE OF PORCINE PANCREATIC ALPHA-AMYLASE\n",
      "YAPQTQSGRTSIVHLFEWRWVDIALECERYLGPKGFGGVQVSPPNENVVVTNPSRPWWERYQPVSYKLCTRSGNENEFRDMVTRCNNVGVRIYVDAVINHMCGSGAAAGTGTTCGSYCNPGSREFPAVPYSAWDFNDGKCKTASGGIESYNDPYQVRDCQLVGLLDLALEKDYVRSMIADYLNKLIDIGVAGFRIDASKHMWPGDIKAVLDKLHNLNTNWFPAGSRPFIFQEVIDLGGEAIQSSEYFGNGRVTEFKYGAKLGTVVRKWSGEKMSYLKNWGEGWGFMPSDRALVFVDNHDNQRGHGAGGASILTFWDARLYKVAVGFMLAHPYGFTRVMSSYRWARNFVNGEDVNDWIGPPNNNGVIKEVTINADTTCGNDWVCEHRWREIRNMVWFRNVVDGQPFANWWDNGSNQVAFGRGNRGFIVFNNDDWQLSSTLQTGLPGGTYCDVISGDKVGNSCTGIKVYVSSDGTAQFSISNSAEDPFIAIHAESKL\n",
      "\n",
      ">1G5A AMYLOSUCRASE FROM NEISSERIA POLYSACCHAREA\n",
      "SPNSQYLKTRILDIYTPEQRAGIEKSEDWRQFSRRMDTHFPKLMNELDSVYGNNEALLPMLEMLLAQAWQSYSQRNSSLKDIDIARENNPDWILSNKQVGGVCYVDLFAGDLKGLKDKIPYFQELGLTYLHLMPLFKCPEGKSDGGYAVSSYRDVNPALGTIGDLREVIAALHEAGISAVVDFIFNHTSNEHEWAQRCAAGDPLFDNFYYIFPDRRMPDQYDRTLREIFPDQHPGGFSQLEDGRWVWTTFNSFQWDLNYSNPWVFRAMAGEMLFLANLGVDILRMDAVAFIWKQMGTSCENLPQAHALIRAFNAVMRIAAPAVFFKSEAIVHPDQVVQYIGQDECQIGYNPLQMALLWNTLATREVNLLHQALTYRHNLPEHTAWVNYVRSHDDIGWTFADEDAAYLGISGYDHRQFLNRFFVNRFDGSFARGVPFQYNPSTGDCRVSGTAAALVGLAQDDPHAVDRIKLLYSIALSTGGLPLIYLGDEVGTLNDDDWSQDSNKSDDSRWAHRPRYNEALYAQRNDPSTAAGQIYQDLRHMIAVRQSNPRFDGGRLVTFNTNNKHIIGYIRNNALLAFGNFSEYPQTVTAHTLQAMPFKAHDLIGGKTVSLNQDLTLQPYQVMWLEIA\n",
      "\n"
     ]
    }
   ],
   "source": [
    "ppb=PPBuilder()\n",
    "for struct in structures.values():\n",
    "    for pp in ppb.build_peptides(struct[0][\"A\"]):\n",
    "        print(\">\"+struct.header[\"idcode\"], struct.header[\"name\"])\n",
    "        print(pp.get_sequence())\n",
    "        print()"
   ]
  },
  {
   "cell_type": "code",
   "execution_count": 27,
   "metadata": {},
   "outputs": [
    {
     "ename": "AttributeError",
     "evalue": "'PDBIO' object has no attribute 'StringIO'",
     "output_type": "error",
     "traceback": [
      "\u001b[0;31m---------------------------------------------------------------------------\u001b[0m",
      "\u001b[0;31mAttributeError\u001b[0m                            Traceback (most recent call last)",
      "\u001b[0;32m<ipython-input-27-48ffbb14b75e>\u001b[0m in \u001b[0;36m<module>\u001b[0;34m\u001b[0m\n\u001b[1;32m      4\u001b[0m \u001b[0maln_txt\u001b[0m \u001b[0;34m=\u001b[0m \u001b[0mrequests\u001b[0m\u001b[0;34m.\u001b[0m\u001b[0mget\u001b[0m\u001b[0;34m(\u001b[0m\u001b[0;34m\"https://www.ebi.ac.uk/Tools/services/rest/clustalo/result/clustalo-I20200926-022534-0245-39620853-p1m/aln-clustal_num\"\u001b[0m\u001b[0;34m)\u001b[0m\u001b[0;34m.\u001b[0m\u001b[0mtext\u001b[0m\u001b[0;34m\u001b[0m\u001b[0;34m\u001b[0m\u001b[0m\n\u001b[1;32m      5\u001b[0m \u001b[0;34m\u001b[0m\u001b[0m\n\u001b[0;32m----> 6\u001b[0;31m \u001b[0maln\u001b[0m \u001b[0;34m=\u001b[0m \u001b[0mAlignIO\u001b[0m\u001b[0;34m.\u001b[0m\u001b[0mread\u001b[0m\u001b[0;34m(\u001b[0m\u001b[0mio\u001b[0m\u001b[0;34m.\u001b[0m\u001b[0mStringIO\u001b[0m\u001b[0;34m(\u001b[0m\u001b[0maln_txt\u001b[0m\u001b[0;34m)\u001b[0m\u001b[0;34m,\u001b[0m \u001b[0;34m\"clustal\"\u001b[0m\u001b[0;34m)\u001b[0m\u001b[0;34m\u001b[0m\u001b[0;34m\u001b[0m\u001b[0m\n\u001b[0m\u001b[1;32m      7\u001b[0m \u001b[0mpdb_ids\u001b[0m \u001b[0;34m=\u001b[0m \u001b[0;34m[\u001b[0m\u001b[0mrecord\u001b[0m\u001b[0;34m.\u001b[0m\u001b[0mid\u001b[0m \u001b[0;32mfor\u001b[0m \u001b[0mrecord\u001b[0m \u001b[0;32min\u001b[0m \u001b[0maln\u001b[0m\u001b[0;34m]\u001b[0m\u001b[0;34m\u001b[0m\u001b[0;34m\u001b[0m\u001b[0m\n\u001b[1;32m      8\u001b[0m \u001b[0mpdb_ids\u001b[0m\u001b[0;34m\u001b[0m\u001b[0;34m\u001b[0m\u001b[0m\n",
      "\u001b[0;31mAttributeError\u001b[0m: 'PDBIO' object has no attribute 'StringIO'"
     ]
    }
   ],
   "source": [
    "# Alineamiento multiple de las secuencias anteriores con Clustal Omega\n",
    "# Trabajo hecho: https://www.ebi.ac.uk/Tools/services/web/toolresult.ebi?jobId=clustalo-I20200926-022534-0245-39620853-p1m\n",
    "\n",
    "aln_txt = requests.get(\"https://www.ebi.ac.uk/Tools/services/rest/clustalo/result/clustalo-I20200926-022534-0245-39620853-p1m/aln-clustal_num\").text\n",
    "\n",
    "aln = AlignIO.read(io.StringIO(aln_txt), \"clustal\")\n",
    "pdb_ids = [record.id for record in aln]\n",
    "pdb_ids"
   ]
  },
  {
   "cell_type": "code",
   "execution_count": null,
   "metadata": {},
   "outputs": [],
   "source": [
    "indexes = {pdb_id: 0 for pdb_id in pdb_ids}\n",
    "\n",
    "ref_atoms = []\n",
    "mov_atoms = []\n",
    "\n",
    "# https://biopython-cn.readthedocs.io/zh_CN/latest/en/chr06.html\n",
    "\n",
    "def identity_100(seq):\n",
    "    \"\"\" identity_100 recibe una string y devuelve True si todos los caracteres son iguales.\n",
    "    False de lo contrario, o si contiene un - \"\"\"\n",
    "    if \"-\" in seq:\n",
    "        return False\n",
    "    for x in seq:\n",
    "        if x != seq[0]:\n",
    "            return False\n",
    "    return True\n",
    "\n",
    "eq_atoms = []\n",
    "# indexes contiene posiciones equivalentes entre cada pdb a medida que se itera el alineamiento multiple\n",
    "for i in range(len(aln[0])):\n",
    "    col = aln[:,i]\n",
    "    \n",
    "    for aa, pdb_id in zip(list(col), pdb_ids):\n",
    "        if aa != \"-\":\n",
    "            indexes[pdb_id] += 1\n",
    "    \n",
    "    if identity_100(col):\n",
    "        print(i, col)\n",
    "        print(indexes)\n",
    "        \n",
    "        cas = []\n",
    "        for pdb_id, i in indexes.items():\n",
    "            res = [r for r in structures[pdb_id][0][\"A\"] if r.id[0] == \" \"][i-1]\n",
    "            print(res)\n",
    "            cas.append(res[\"CA\"])\n",
    "        \n",
    "        eq_atoms.append(cas)\n",
    "        print()\n",
    "\n"
   ]
  },
  {
   "cell_type": "code",
   "execution_count": null,
   "metadata": {},
   "outputs": [],
   "source": [
    "pdb_eq_atoms = list(zip(*eq_atoms))\n",
    "\n",
    "ref_atoms = pdb_eq_atoms[0] # de 1AQH\n",
    "\n",
    "align_out_path = \"align_out/\"\n",
    "if not os.path.exists(align_out_path):\n",
    "    os.mkdir(align_out_path)\n",
    "    \n",
    "for pdb_id, atoms in zip(pdb_ids, pdb_eq_atoms):\n",
    "    sup = Superimposer()\n",
    "    sup.set_atoms(ref_atoms, atoms)\n",
    "    model = structures[pdb_id][0]\n",
    "    sup.apply(model.get_atoms())\n",
    "    \n",
    "    pdb_io = PDBIO()\n",
    "    pdb_io.set_structure(structures[pdb_id]) \n",
    "    \n",
    "    pdb_io.save(f\"align_out/align_{pdb_id}.pdb\")"
   ]
  },
  {
   "cell_type": "code",
   "execution_count": null,
   "metadata": {},
   "outputs": [],
   "source": [
    "# Superposicion de estructuras\n",
    "view = nv.show_biopython(structures[\"1AQH\"])\n",
    "\n",
    "for file in os.listdir(align_out_path):\n",
    "    if file.endswith(\".pdb\"):\n",
    "        view.add_component(os.path.join(align_out_path, file))\n",
    "\n",
    "view"
   ]
  },
  {
   "cell_type": "markdown",
   "metadata": {},
   "source": [
    "## 2.\n",
    "Compare el área accesible al solvente (SASA) total con el radio de giro (ROG) para\n",
    "cada una de las estructuras."
   ]
  },
  {
   "cell_type": "code",
   "execution_count": null,
   "metadata": {
    "scrolled": true
   },
   "outputs": [],
   "source": [
    "# SASA\n",
    "\n",
    "# El script de Bash sasa.sh corre freesasa para todos los PDBs del directorio\n",
    "# y devuelve los resultados en forma de archivos JSON.\n",
    "\n",
    "if os.system(\"freesasa -v\") == 0: # esta instalado\n",
    "    os.system(f\"cd {align_out_path} && ./sasa.sh\")\n",
    "\n",
    "pdb_sasa = {}\n",
    "for file in os.listdir(align_out_path):\n",
    "    if file.endswith(\"sasa.json\"):\n",
    "        r = json.load(open(os.path.join(align_out_path, file)))\n",
    "        pdb_id = re.search(\"_(.{4}).pdb\", file).group(1)\n",
    "        pdb_sasa[pdb_id] = r[\"results\"][0][\"structure\"][0][\"area\"][\"total\"]\n",
    "\n",
    "pdb_sasa"
   ]
  },
  {
   "cell_type": "code",
   "execution_count": null,
   "metadata": {},
   "outputs": [],
   "source": [
    "# ROG\n",
    "import pytraj as pt\n",
    "\n",
    "pdb_rog = {}\n",
    "for file in os.listdir(align_out_path):\n",
    "    if file.endswith(\".pdb\"):\n",
    "        pdb = pt.load(os.path.join(align_out_path, file))\n",
    "        pdb_id = re.search(\"_(.{4}).pdb\", file).group(1)\n",
    "        pdb_rog[pdb_id] = pt.radgyr(pdb)[0]\n",
    "\n",
    "pdb_rog"
   ]
  },
  {
   "cell_type": "code",
   "execution_count": null,
   "metadata": {},
   "outputs": [],
   "source": [
    "pdb_ids = list(pdb_sasa.keys())\n",
    "df = pd.DataFrame({\"pdb\": pdb_ids,\n",
    "                   \"sasa\": [pdb_sasa[pdb_id] for pdb_id in pdb_ids],\n",
    "                   \"rog\": [pdb_rog[pdb_id] for pdb_id in pdb_ids]})\n",
    "df"
   ]
  },
  {
   "cell_type": "code",
   "execution_count": null,
   "metadata": {
    "scrolled": false
   },
   "outputs": [],
   "source": [
    "sns.scatterplot(df[\"sasa\"], df[\"rog\"])"
   ]
  },
  {
   "cell_type": "markdown",
   "metadata": {},
   "source": [
    "## 3.\n",
    "Clasifique cada uno de los residuos de la proteína como expuesto/enterrado utilizando\n",
    "como parámetro el SASA y represente en un gráfico la frecuencia de aparición de cada\n",
    "aminoácido para cada categoría."
   ]
  },
  {
   "cell_type": "code",
   "execution_count": null,
   "metadata": {},
   "outputs": [],
   "source": [
    "ResidueSASA = namedtuple(\"ResidueSASA\", \" \".join([\n",
    "    \"name\", \"pos\",\n",
    "    \"all_abs\", \"all_rel\",\n",
    "    \"side_abs\", \"side_rel\",\n",
    "    \"main_abs\", \"main_rel\",\n",
    "    \"apolar_abs\", \"apolar_rel\",\n",
    "    \"polar_abs\", \"polar_rel\"\n",
    "]))\n",
    "\n",
    "if os.system(\"freesasa -v\") == 0:\n",
    "    os.system(f\"cd {align_out_path} && ./sasa_res.sh\")\n",
    "\n",
    "pdb_res_sasa = {}\n",
    "for file in os.listdir(align_out_path):\n",
    "    if file.endswith(\"sasa_res.out\"):\n",
    "        pdb_id = re.search(\"_(.{4}).pdb\", file).group(1)\n",
    "        \n",
    "        with open(os.path.join(align_out_path, file)) as f:\n",
    "            for line in f:\n",
    "                if line.startswith(\"RES\"):\n",
    "                    name, pos, areas = line[4:7], int(line[9:13].strip()), line[13:].split()\n",
    "                    fields = [name, pos] + [float(x) if x != \"N/A\" else math.nan for x in areas]\n",
    "                    \n",
    "                    rs = ResidueSASA(*fields)\n",
    "                    \n",
    "                    if pdb_id not in pdb_res_sasa:\n",
    "                        pdb_res_sasa[pdb_id] = {}\n",
    "                    pdb_res_sasa[pdb_id][rs.pos] = rs"
   ]
  },
  {
   "cell_type": "code",
   "execution_count": null,
   "metadata": {
    "scrolled": true
   },
   "outputs": [],
   "source": [
    "pdb_res_sasa[\"1G5A\"][33]"
   ]
  },
  {
   "cell_type": "code",
   "execution_count": null,
   "metadata": {},
   "outputs": [],
   "source": [
    "# Construir df con todos los residuos\n",
    "\n",
    "sasa_residues = []\n",
    "for pdb_id, pdb in pdb_res_sasa.items():\n",
    "    for pos, res in pdb.items():\n",
    "        sasa_residues.append((pdb_id, *res))\n",
    "\n",
    "cols = [\n",
    "    \"pdb\", \"name\", \"pos\",\n",
    "    \"all_abs\", \"all_rel\",\n",
    "    \"side_abs\", \"side_rel\",\n",
    "    \"main_abs\", \"main_rel\",\n",
    "    \"apolar_abs\", \"apolar_rel\",\n",
    "    \"polar_abs\", \"polar_rel\"\n",
    "]\n",
    "\n",
    "def sasa_dataset(cutoff):\n",
    "    df = pd.DataFrame(sasa_residues, columns=cols)\n",
    "    df[\"exposed\"] = df[\"all_rel\"] > cutoff\n",
    "    dfaa = df.groupby([\"name\"]).mean()\n",
    "    dfaa[\"source\"] = \"sasa\"\n",
    "    dfaa[\"name\"] = dfaa.index\n",
    "    return dfaa\n",
    "\n",
    "sasa_dataset(50)"
   ]
  },
  {
   "cell_type": "code",
   "execution_count": null,
   "metadata": {
    "scrolled": false
   },
   "outputs": [],
   "source": [
    "# Porcentaje de exposicion al solvente promedio de la cadena lateral para cada aminoacido\n",
    "dfaa = sasa_dataset(50).sort_values(by=\"exposed\")\n",
    "sns.barplot(x=dfaa.index, y=\"exposed\", data=dfaa, palette=\"rocket\")"
   ]
  },
  {
   "cell_type": "code",
   "execution_count": null,
   "metadata": {
    "scrolled": false
   },
   "outputs": [],
   "source": [
    "def water_dataset(cutoff):\n",
    "    ns = NeighborSearch(list(structures[\"1HVX\"][0][\"A\"].get_atoms()))\n",
    "    w_residues = []\n",
    "    for pdb_id, structure in structures.items():\n",
    "        for res in filter(lambda res: res.id[0] == \" \", structure[0][\"A\"].get_residues()):\n",
    "            exposed = False\n",
    "            for atom in res:\n",
    "                s = ns.search(atom.coord, cutoff, \"R\")\n",
    "                for near_res in s:\n",
    "                    if near_res.id[0] == \"W\":\n",
    "                        exposed = True\n",
    "            w_residues.append((pdb_id, res.get_resname(), res.full_id[3][1], exposed))\n",
    "\n",
    "    df = pd.DataFrame(w_residues, columns=[\"pdb\", \"name\", \"pos\", \"exposed\"])\n",
    "    dfaa = df.groupby([\"name\"]).mean()\n",
    "    dfaa = dfaa.sort_values(by=\"exposed\")\n",
    "    dfaa[\"source\"] = \"water\"\n",
    "    dfaa[\"name\"] = dfaa.index\n",
    "    return dfaa\n",
    "\n",
    "def plot_sasa_water(sasa_cutoff, water_cutoff):\n",
    "    df = pd.concat([water_dataset(water_cutoff)[[\"name\", \"exposed\", \"source\"]], sasa_dataset(sasa_cutoff)[[\"name\", \"exposed\", \"source\"]]])\n",
    "    sns.barplot(x=\"name\", y=\"exposed\", data=df, hue=\"source\", palette=\"rocket\")"
   ]
  },
  {
   "cell_type": "code",
   "execution_count": null,
   "metadata": {},
   "outputs": [],
   "source": [
    "plot_sasa_water(20, 3)"
   ]
  },
  {
   "cell_type": "code",
   "execution_count": null,
   "metadata": {
    "scrolled": false
   },
   "outputs": [],
   "source": [
    "if os.system(\"freesasa -v\") == 0:\n",
    "    interact_manual(plot_sasa_water, sasa_cutoff=(0,100), water_cutoff=(1,5));\n",
    "else:\n",
    "    print(\"FreeSASA no instalado\")"
   ]
  },
  {
   "cell_type": "markdown",
   "metadata": {},
   "source": [
    "## 4.\n",
    "Identifique los aminoácidos que pertenecen al sitio activo para cada una de las\n",
    "estructuras de la familia elegida."
   ]
  },
  {
   "cell_type": "markdown",
   "metadata": {},
   "source": [
    "En las anotaciones en UniProt para la alfa amilasa humana (https://www.uniprot.org/uniprot/P04745) se halla que los residuos con función catalítica son el Asp-212 como nucleófilo y Glu-248 como donor de protones. Dichas posiciones son respecto a la secuencia canónica, corresponden a la posición 355 y 411, respectivamente para el alineamiento múltiple realizado previamente.\n",
    "\n",
    "Para el caso de la posición 411 del alineamiento la identidad no es tan alta y además en tres de las secuencias se encuentra un gap, probablemente otro residuo estructuralmente cercano reemplace su función.\n",
    "\n",
    "\n",
    "\n"
   ]
  },
  {
   "cell_type": "code",
   "execution_count": null,
   "metadata": {},
   "outputs": [],
   "source": [
    "view = nv.show_biopython(structures[\"1HNY\"])\n",
    "view.clear_representations()\n",
    "view.background = \"black\"\n",
    "view.add_representation(\"cartoon\", selection=\"protein\", color=\"grey\")\n",
    "view.add_representation(\"surface\", selection=\"197 233\", color=\"orange\")\n",
    "view"
   ]
  },
  {
   "cell_type": "markdown",
   "metadata": {},
   "source": [
    "Como criterio para definir los sitios activos, vamos a tomar los residuos que esten a menos de 5 Angstrom de distancia del nucleofilo."
   ]
  },
  {
   "cell_type": "code",
   "execution_count": null,
   "metadata": {},
   "outputs": [],
   "source": [
    "# En un print del punto 4.1 se obtuvo que para la posicion 355 del alineamiento global\n",
    "# las siguientes posiciones son equivalentes:\n",
    "cat_pos = {'1AQH': 174, '1CLV': 184, '1DHK': 196, '1HNY': 196, '4X9Y': 196, '1C8Q': 196, '1G5A': 286, '1HVX': 234, '2GUY': 206, '1AMY': 179, '1HT6': 180}\n",
    "\n",
    "pdb_active_site = {}\n",
    "for pdb_id, pos in cat_pos.items():\n",
    "    res = [r for r in structures[pdb_id][0][\"A\"] if r.id[0] == \" \"][pos-1]\n",
    "    \n",
    "    near_residues = set()\n",
    "    ns = NeighborSearch(list(structures[pdb_id][0][\"A\"].get_atoms()))\n",
    "    for atom in res:\n",
    "        s = filter(lambda r: r.id[0] == \" \", ns.search(atom.coord, 5, \"R\"))\n",
    "        for near_res in s:\n",
    "            near_residues.add(near_res)\n",
    "    print(\"====>\", pdb_id)\n",
    "    print(near_residues)\n",
    "    pdb_active_site[pdb_id] = near_residues\n",
    "    print()\n",
    "\n"
   ]
  },
  {
   "cell_type": "code",
   "execution_count": null,
   "metadata": {},
   "outputs": [],
   "source": [
    "view = nv.show_biopython(structures[\"1HT6\"])\n",
    "view.clear_representations()\n",
    "view.background = \"black\"\n",
    "view.add_representation(\"surface\", probeRadius=0.2, selection=\"protein\", color=\"grey\")\n",
    "view.add_representation(\"surface\", probeRadius=1.3, selection=\" \".join(str(res.full_id[3][1]) for res in pdb_active_site[\"1HT6\"]), color=\"orange\")\n",
    "view"
   ]
  }
 ],
 "metadata": {
  "kernelspec": {
   "display_name": "Python 3",
   "language": "python",
   "name": "python3"
  },
  "language_info": {
   "codemirror_mode": {
    "name": "ipython",
    "version": 3
   },
   "file_extension": ".py",
   "mimetype": "text/x-python",
   "name": "python",
   "nbconvert_exporter": "python",
   "pygments_lexer": "ipython3",
   "version": "3.8.5"
  }
 },
 "nbformat": 4,
 "nbformat_minor": 4
}
