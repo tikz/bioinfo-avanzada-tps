{
 "cells": [
  {
   "cell_type": "code",
   "execution_count": 2,
   "metadata": {},
   "outputs": [
    {
     "name": "stdout",
     "output_type": "stream",
     "text": [
      "Defaulting to user installation because normal site-packages is not writeable\n",
      "Requirement already satisfied: biopython in /home/tik/.local/lib/python3.8/site-packages (1.77)\n",
      "Requirement already satisfied: numpy in /usr/lib/python3.8/site-packages (from biopython) (1.19.2)\n",
      "Note: you may need to restart the kernel to use updated packages.\n"
     ]
    }
   ],
   "source": [
    "pip install biopython"
   ]
  },
  {
   "cell_type": "code",
   "execution_count": 68,
   "metadata": {},
   "outputs": [],
   "source": [
    "from Bio import SearchIO, SeqIO, AlignIO\n",
    "import matplotlib.pyplot as plt\n",
    "import pandas as pd"
   ]
  },
  {
   "cell_type": "markdown",
   "metadata": {},
   "source": [
    "# Objetivo 2\n",
    "## 1a) Histograma de puntajes de dominio."
   ]
  },
  {
   "cell_type": "code",
   "execution_count": 4,
   "metadata": {},
   "outputs": [
    {
     "data": {
      "image/png": "[encoded data removed]",
      "text/plain": [
       "<Figure size 432x288 with 1 Axes>"
      ]
     },
     "metadata": {
      "needs_background": "light"
     },
     "output_type": "display_data"
    }
   ],
   "source": [
    "resultados = list(SearchIO.read(\"busqueda.out\", \"hmmer3-text\"))\n",
    "\n",
    "puntajes_lista = []\n",
    "for seq in resultados:\n",
    "    for dom in seq:\n",
    "        puntajes_lista.append(dom.bitscore)\n",
    "histogram = plt.hist(puntajes_lista, bins=100)\n",
    "plt.show()"
   ]
  },
  {
   "cell_type": "markdown",
   "metadata": {},
   "source": [
    "## 1b)\n",
    "Desarrolle en python un código que utilice el puntaje de corte recién\n",
    "establecido (esto debe ser un parámetro) para extraer los dominios búscados en las\n",
    "secuencias correspondientes.\n",
    "El mismo debe devolver un archivo fasta con dichas secuencias recortadas.\n",
    "El código debe tener ademàs las dos siguientes funciones:\n",
    "i) Debe ser capaz de obtener los Uniprot IDs y las posiciones de inicio y fin de los dominios\n",
    "y entregar los resultados como lista de listas (o una matriz de numpy o pandas),\n",
    "ii) Tomar los valores de la lista anterior (IDs y posiciones), y usarlos para cortar las\n",
    "secuencias del registro fasta original."
   ]
  },
  {
   "cell_type": "code",
   "execution_count": 60,
   "metadata": {},
   "outputs": [
    {
     "data": {
      "image/png": "[encoded data removed]",
      "text/plain": [
       "<Figure size 432x288 with 1 Axes>"
      ]
     },
     "metadata": {
      "needs_background": "light"
     },
     "output_type": "display_data"
    }
   ],
   "source": [
    "def doms(archivo, bitscore_corte, plot=False):\n",
    "    \"\"\" doms recibe un archivo de hmmsearch, un bitscore de corte y devuelve\n",
    "    lista de tuplas (UniProtID, start pos, end pos, bitscore, FASTA ID, secuencia original)\n",
    "    \"\"\"\n",
    "    resultados = list(SearchIO.read(archivo, \"hmmer3-text\"))\n",
    "    records = SeqIO.index(\"globin_full_sequences.fasta\", \"fasta\")\n",
    "    \n",
    "    doms_corte = []\n",
    "    for seq in resultados:\n",
    "        for dom in seq:\n",
    "          if dom.bitscore > 50:\n",
    "            doms_corte.append((seq.id.split(\"|\")[1],\n",
    "                               dom.hit_start,\n",
    "                               dom.hit_end,\n",
    "                               dom.bitscore,\n",
    "                               dom.hit_id,\n",
    "                               str(records[dom.hit_id].seq[dom.hit_start-1:dom.hit_end-1])\n",
    "                              ))\n",
    "\n",
    "\n",
    "    if plot:\n",
    "        histogram = plt.hist([d[3] for d in doms_corte], bins=100)\n",
    "        plt.show()\n",
    "    return doms_corte\n",
    "\n",
    "ds = doms(\"busqueda.out\", 50, plot=True)"
   ]
  },
  {
   "cell_type": "markdown",
   "metadata": {},
   "source": [
    "## 1c) Responda:"
   ]
  },
  {
   "cell_type": "markdown",
   "metadata": {},
   "source": [
    "¿Cuántos dominios de protoglobina logró recuperar de la minería de datos?"
   ]
  },
  {
   "cell_type": "code",
   "execution_count": 61,
   "metadata": {},
   "outputs": [
    {
     "data": {
      "text/plain": [
       "5888"
      ]
     },
     "execution_count": 61,
     "metadata": {},
     "output_type": "execute_result"
    }
   ],
   "source": [
    "len(ds)"
   ]
  },
  {
   "cell_type": "markdown",
   "metadata": {},
   "source": [
    "¿Puede afirmar que recuperó todos y que no dejó alguno afuera?\n",
    "¿O que solo recuperó dominios protoglobina y que no incorporó dominios globina de otro\n",
    "tipo? ¿Por qué?"
   ]
  },
  {
   "cell_type": "markdown",
   "metadata": {},
   "source": [
    "Puede que no se hayan recuperado todos, dado que el punto de corte por bitscore fue elegido \"a ojo\" sobre el histograma de la totalidad de los hits. Estos serian los falsos negativos.\n",
    "\n",
    "Dado que los modelos ocultos de Markov admiten cierta flexibilidad, puede que incluso por encima del umbral haya dominios que resulten muy similares al de protoglobina, siendo esto los falsos positivos."
   ]
  },
  {
   "cell_type": "markdown",
   "metadata": {},
   "source": [
    "# Objetivo 3\n",
    "\n",
    "Ejercicio 3a) Parsee los MSAs hechos con hmmalign y MAFFT y busque la posición de la\n",
    "histidina F8 (el residuo más conservado y característico de todas las globinas), y calcule la\n",
    "proporción de gaps en el MSA para esa posición. (sugerencia: busque una columna en el\n",
    "MSA donde la histidina representa más del 80% de los aminoácidos presentes en esa\n",
    "columna).\n",
    "Compare el porcentaje de histidinas en esa columna entre los dos MSAs obtenidos (por\n",
    "MAFFT y hmmalign), y la proporción de gaps obtenida. ¿En qué posición está la histidina F8\n",
    "en cada MSA? ¿Está en la misma posición en ambos casos? ¿En cuál MSA hay más\n",
    "presencia de gaps?"
   ]
  },
  {
   "cell_type": "code",
   "execution_count": 63,
   "metadata": {},
   "outputs": [],
   "source": [
    "# Guardar dominios en un FASTA\n",
    "with open(\"doms.fasta\", \"w\") as f:\n",
    "    for dom in ds:\n",
    "        hit_id, seq = dom[4], dom[5]\n",
    "        f.write(\">\"+hit_id+\"\\n\")\n",
    "        f.write(seq+\"\\n\")"
   ]
  },
  {
   "cell_type": "code",
   "execution_count": null,
   "metadata": {},
   "outputs": [],
   "source": [
    "# $ mafft doms.fasta > doms_mafft_align.fasta\n",
    "# $ hmmalign -o doms_hmmalign.sto PF11563.hmm doms.fasta"
   ]
  },
  {
   "cell_type": "code",
   "execution_count": 71,
   "metadata": {},
   "outputs": [
    {
     "data": {
      "text/plain": [
       "H    5379\n",
       "E     185\n",
       "-     119\n",
       "F      56\n",
       "Y      36\n",
       "A      28\n",
       "L      19\n",
       "R      14\n",
       "Q      13\n",
       "N      13\n",
       "M      11\n",
       "S       6\n",
       "C       3\n",
       "P       3\n",
       "T       1\n",
       "D       1\n",
       "V       1\n",
       "Name: 371, dtype: int64"
      ]
     },
     "execution_count": 71,
     "metadata": {},
     "output_type": "execute_result"
    }
   ],
   "source": [
    "# MAFFT\n",
    "\n",
    "align = AlignIO.read(\"doms_mafft_align.fasta\", \"fasta\")\n",
    "pos = 372\n",
    "align_pd=pd.DataFrame(align) #convierte el alineamiento en un pandas dataframe\n",
    "align_pd[pos-1].value_counts() #devuelve un listado de cantidad de veces que \n",
    "# align_pd[k].value_counts().index #devuelve lista con los elementos que hay en esa\n",
    "# align_pd[k].value_counts()[&quot;H&quot;] #devuelve la cantidad de veces que aparece el\n",
    "# elemento “H” (por histidina) en la columna k (si es que hay un elemento “H”, si no tira error)\n",
    "# align_pd.shape"
   ]
  }
 ],
 "metadata": {
  "kernelspec": {
   "display_name": "Python 3",
   "language": "python",
   "name": "python3"
  },
  "language_info": {
   "codemirror_mode": {
    "name": "ipython",
    "version": 3
   },
   "file_extension": ".py",
   "mimetype": "text/x-python",
   "name": "python",
   "nbconvert_exporter": "python",
   "pygments_lexer": "ipython3",
   "version": "3.8.5"
  }
 },
 "nbformat": 4,
 "nbformat_minor": 4
}
